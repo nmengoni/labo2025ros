{
 "cells": [
  {
   "cell_type": "markdown",
   "id": "859d38e7-11c0-48bc-978a-d0e907f19ed1",
   "metadata": {
    "id": "859d38e7-11c0-48bc-978a-d0e907f19ed1"
   },
   "source": [
    "# 7 WorkFlow"
   ]
  },
  {
   "cell_type": "markdown",
   "id": "29c586e3-ed7d-44b2-92a0-f19669f06940",
   "metadata": {
    "id": "29c586e3-ed7d-44b2-92a0-f19669f06940"
   },
   "source": [
    "### 7.1 Objetivo"
   ]
  },
  {
   "cell_type": "markdown",
   "id": "6fff8327-10ed-4b11-bbee-f1c3f357d123",
   "metadata": {
    "id": "6fff8327-10ed-4b11-bbee-f1c3f357d123"
   },
   "source": [
    "Presentar un workflow/pipeline completo al que los estudiantes deberán enriquecer"
   ]
  },
  {
   "cell_type": "markdown",
   "id": "PX0qg_c0yqob",
   "metadata": {
    "id": "PX0qg_c0yqob"
   },
   "source": [
    "#### 7.2  Seteo del ambiente en Google Colab"
   ]
  },
  {
   "cell_type": "markdown",
   "id": "NGY7H9xza7Zr",
   "metadata": {
    "id": "NGY7H9xza7Zr"
   },
   "source": [
    "Esta parte se debe correr con el runtime en Python3\n",
    "<br>Ir al menu, Runtime -> Change Runtime Type -> Runtime type ->  **Python 3**"
   ]
  },
  {
   "cell_type": "markdown",
   "id": "7PupIBNba7Zr",
   "metadata": {
    "id": "7PupIBNba7Zr"
   },
   "source": [
    "Conectar la virtual machine donde esta corriendo Google Colab con el  Google Drive, para poder tener persistencia de archivos"
   ]
  },
  {
   "cell_type": "code",
   "execution_count": null,
   "id": "9LpZCst5a7Zs",
   "metadata": {
    "id": "9LpZCst5a7Zs"
   },
   "outputs": [],
   "source": [
    "# primero establecer el Runtime de Python 3\n",
    "from google.colab import drive\n",
    "drive.mount('/content/.drive')"
   ]
  },
  {
   "cell_type": "markdown",
   "id": "JYC_F-wla7Zs",
   "metadata": {
    "id": "JYC_F-wla7Zs"
   },
   "source": [
    "Para correr la siguiente celda es fundamental en Arranque en Frio haber copiado el archivo kaggle.json al Google Drive, en la carpeta indicada en el instructivo\n",
    "\n",
    "<br>los siguientes comando estan en shell script de Linux\n",
    "*   Crear las carpetas en el Google Drive\n",
    "*   \"instalar\" el archivo kaggle.json desde el Google Drive a la virtual machine para que pueda ser utilizado por la libreria  kaggle de Python\n",
    "*   Bajar el  **dataset_pequeno**  al  Google Drive  y tambien al disco local de la virtual machine que esta corriendo Google Colab\n",
    "*   Bajar el **dataset_historico** al Google Drive y tambien al disco local de la virtual machine que esta corriendo Google Colab\n",
    "\n"
   ]
  },
  {
   "cell_type": "markdown",
   "id": "4fcqHsG9hdlx",
   "metadata": {
    "id": "4fcqHsG9hdlx"
   },
   "source": [
    "*  Si usted eligió modalidad *Gerencial* entonces NO debe modificar nada, su liderazgo logró que otras trabajaron por usted\n",
    "*  Si usted eligió modalidad de *Analista Junior*, entonces donde dice archivo=\"gerencial_competencia_2025.csv.gz\"  lo debe cambiar por  archivo=\"analistajr_competencia_2025.csv.gz\"\n",
    "*  Si usted eligió modalidad *Analista Senior*,  ya se las ingenierá SIN preguntar !"
   ]
  },
  {
   "cell_type": "code",
   "execution_count": null,
   "id": "XWLelftXa7Zt",
   "metadata": {
    "id": "XWLelftXa7Zt"
   },
   "outputs": [],
   "source": [
    "%%shell\n",
    "\n",
    "mkdir -p \"/content/.drive/My Drive/labo1\"\n",
    "mkdir -p \"/content/buckets\"\n",
    "ln -s \"/content/.drive/My Drive/labo1\" /content/buckets/b1\n",
    "\n",
    "mkdir -p ~/.kaggle\n",
    "cp /content/buckets/b1/kaggle/kaggle.json  ~/.kaggle\n",
    "chmod 600 ~/.kaggle/kaggle.json\n",
    "\n",
    "\n",
    "mkdir -p /content/buckets/b1/exp\n",
    "mkdir -p /content/buckets/b1/datasets\n",
    "mkdir -p /content/datasets\n",
    "\n",
    "\n",
    "webfiles=\"https://storage.googleapis.com/open-courses/austral2025-af91/labo1r\"\n",
    "destino_local=\"/content/datasets\"\n",
    "destino_bucket=\"/content/buckets/b1/datasets\"\n",
    "\n",
    "\n",
    "archivo=\"dataset_pequeno.csv\"\n",
    "\n",
    "if ! test -f $destino_bucket/$archivo; then\n",
    "  wget  $webfiles/$archivo  -O $destino_bucket/$archivo\n",
    "fi\n",
    "\n",
    "\n",
    "if ! test -f $destino_local/$pequeno; then\n",
    "  cp  $destino_bucket/$archivo  $destino_local/$archivo\n",
    "fi\n",
    "\n",
    "#-------\n",
    "\n",
    "archivo=\"analistajr_competencia_2025.csv.gz\"\n",
    "\n",
    "if ! test -f $destino_bucket/$archivo; then\n",
    "  wget  $webfiles/$archivo  -O $destino_bucket/$archivo\n",
    "fi\n",
    "\n",
    "\n",
    "if ! test -f $destino_local/$pequeno; then\n",
    "  cp  $destino_bucket/$archivo  $destino_local/$archivo\n",
    "fi\n"
   ]
  },
  {
   "cell_type": "markdown",
   "id": "oSKhZRToy2F7",
   "metadata": {
    "id": "oSKhZRToy2F7"
   },
   "source": [
    "## 7.3  Workflow"
   ]
  },
  {
   "cell_type": "markdown",
   "id": "85171302-a2d6-48cb-b9b2-8d839a276859",
   "metadata": {
    "id": "85171302-a2d6-48cb-b9b2-8d839a276859"
   },
   "source": [
    "## Inicializacion"
   ]
  },
  {
   "cell_type": "markdown",
   "id": "eSU5vi00CPRS",
   "metadata": {
    "id": "eSU5vi00CPRS"
   },
   "source": [
    "Esta parte se debe correr con el runtime en lenguaje **R** Ir al menu, Runtime -> Change Runtime Type -> Runtime type -> R"
   ]
  },
  {
   "cell_type": "markdown",
   "id": "Zq8dySimCPRT",
   "metadata": {
    "id": "Zq8dySimCPRT"
   },
   "source": [
    "limpio el ambiente de R"
   ]
  },
  {
   "cell_type": "code",
   "execution_count": 37,
   "id": "EL8wdHaUs59K",
   "metadata": {
    "id": "EL8wdHaUs59K"
   },
   "outputs": [
    {
     "data": {
      "text/html": [
       "'Sat Jun 28 01:54:24 2025'"
      ],
      "text/latex": [
       "'Sat Jun 28 01:54:24 2025'"
      ],
      "text/markdown": [
       "'Sat Jun 28 01:54:24 2025'"
      ],
      "text/plain": [
       "[1] \"Sat Jun 28 01:54:24 2025\""
      ]
     },
     "metadata": {},
     "output_type": "display_data"
    }
   ],
   "source": [
    "format(Sys.time(), \"%a %b %d %X %Y\")"
   ]
  },
  {
   "cell_type": "code",
   "execution_count": 38,
   "id": "1iE0U4_WCPRT",
   "metadata": {
    "id": "1iE0U4_WCPRT"
   },
   "outputs": [
    {
     "data": {
      "text/html": [
       "<table class=\"dataframe\">\n",
       "<caption>A matrix: 2 × 6 of type dbl</caption>\n",
       "<thead>\n",
       "\t<tr><th></th><th scope=col>used</th><th scope=col>(Mb)</th><th scope=col>gc trigger</th><th scope=col>(Mb)</th><th scope=col>max used</th><th scope=col>(Mb)</th></tr>\n",
       "</thead>\n",
       "<tbody>\n",
       "\t<tr><th scope=row>Ncells</th><td>  2370805</td><td> 126.7</td><td>  7440535</td><td> 397.4</td><td>   7440535</td><td> 397.4</td></tr>\n",
       "\t<tr><th scope=row>Vcells</th><td>254615961</td><td>1942.6</td><td>870482271</td><td>6641.3</td><td>1035275918</td><td>7898.6</td></tr>\n",
       "</tbody>\n",
       "</table>\n"
      ],
      "text/latex": [
       "A matrix: 2 × 6 of type dbl\n",
       "\\begin{tabular}{r|llllll}\n",
       "  & used & (Mb) & gc trigger & (Mb) & max used & (Mb)\\\\\n",
       "\\hline\n",
       "\tNcells &   2370805 &  126.7 &   7440535 &  397.4 &    7440535 &  397.4\\\\\n",
       "\tVcells & 254615961 & 1942.6 & 870482271 & 6641.3 & 1035275918 & 7898.6\\\\\n",
       "\\end{tabular}\n"
      ],
      "text/markdown": [
       "\n",
       "A matrix: 2 × 6 of type dbl\n",
       "\n",
       "| <!--/--> | used | (Mb) | gc trigger | (Mb) | max used | (Mb) |\n",
       "|---|---|---|---|---|---|---|\n",
       "| Ncells |   2370805 |  126.7 |   7440535 |  397.4 |    7440535 |  397.4 |\n",
       "| Vcells | 254615961 | 1942.6 | 870482271 | 6641.3 | 1035275918 | 7898.6 |\n",
       "\n"
      ],
      "text/plain": [
       "       used      (Mb)   gc trigger (Mb)   max used   (Mb)  \n",
       "Ncells   2370805  126.7   7440535   397.4    7440535  397.4\n",
       "Vcells 254615961 1942.6 870482271  6641.3 1035275918 7898.6"
      ]
     },
     "metadata": {},
     "output_type": "display_data"
    }
   ],
   "source": [
    "# limpio la memoria\n",
    "rm(list=ls(all.names=TRUE)) # remove all objects\n",
    "gc(full=TRUE, verbose=FALSE) # garbage collection"
   ]
  },
  {
   "cell_type": "code",
   "execution_count": 39,
   "id": "atmIUEUNUrK5",
   "metadata": {
    "id": "atmIUEUNUrK5"
   },
   "outputs": [],
   "source": [
    "require(\"data.table\")\n",
    "\n",
    "if( !require(\"R.utils\")) install.packages(\"R.utils\")\n",
    "require(\"R.utils\")"
   ]
  },
  {
   "cell_type": "markdown",
   "id": "BsxZ_ONyj9L_",
   "metadata": {
    "id": "BsxZ_ONyj9L_"
   },
   "source": [
    "#### Parametros\n",
    "Si es gerente, no cambie nada\n",
    "<br>Si es Analista, cambie el nombre del dataset"
   ]
  },
  {
   "cell_type": "code",
   "execution_count": 40,
   "id": "peRH7ySLCPRV",
   "metadata": {
    "id": "peRH7ySLCPRV"
   },
   "outputs": [],
   "source": [
    "PARAM <- list()\n",
    "PARAM$semilla_primigenia <- 532993 \n",
    "\n",
    "PARAM$experimento <- 7300\n",
    "PARAM$dataset <- \"analistajr_competencia_2025.csv.gz\""
   ]
  },
  {
   "cell_type": "markdown",
   "id": "NoJbKo_4NG8A",
   "metadata": {
    "id": "NoJbKo_4NG8A"
   },
   "source": [
    "#### Carpeta del Experimento"
   ]
  },
  {
   "cell_type": "code",
   "execution_count": 41,
   "id": "1gZD6ZMvCPRV",
   "metadata": {
    "id": "1gZD6ZMvCPRV"
   },
   "outputs": [],
   "source": [
    "# carpeta de trabajo\n",
    "\n",
    "setwd(\"/content/buckets/b1/exp\")\n",
    "experimento_folder <- paste0(\"WF\", PARAM$experimento)\n",
    "dir.create(experimento_folder, showWarnings=FALSE)\n",
    "setwd( paste0(\"/content/buckets/b1/exp/\", experimento_folder ))"
   ]
  },
  {
   "cell_type": "markdown",
   "id": "YVKBfLtkR8SO",
   "metadata": {
    "id": "YVKBfLtkR8SO"
   },
   "source": [
    "### 7.3.1   Preprocesamiento del dataset"
   ]
  },
  {
   "cell_type": "markdown",
   "id": "cr3K0RPVRjq6",
   "metadata": {
    "id": "cr3K0RPVRjq6"
   },
   "source": [
    "#### 7.3.1.1  DT incorporar dataset"
   ]
  },
  {
   "cell_type": "code",
   "execution_count": 42,
   "id": "Xi0emX2ECPRV",
   "metadata": {
    "id": "Xi0emX2ECPRV"
   },
   "outputs": [],
   "source": [
    "# lectura del dataset\n",
    "dataset <- fread(paste0(\"/content/datasets/\", PARAM$dataset))"
   ]
  },
  {
   "cell_type": "markdown",
   "id": "MWuPzK3nSLY3",
   "metadata": {
    "id": "MWuPzK3nSLY3"
   },
   "source": [
    "#### 7.3.1.2  CA  Catastrophe Analysis\n",
    "Se intentan reparar las variables que para un mes están con todos los valores en cero."
   ]
  },
  {
   "cell_type": "markdown",
   "id": "UAI16-yCVcBS",
   "metadata": {
    "id": "UAI16-yCVcBS"
   },
   "source": [
    "El método que se utiliza es **Machine Learning** se asigna NA also valores, si ha leido bien, es la \"anti imputación de valores faltantes\"\n",
    "<br> Usted podrá aplicar aquí otros métodos"
   ]
  },
  {
   "cell_type": "code",
   "execution_count": 43,
   "id": "sTmliO_FXv9E",
   "metadata": {
    "id": "sTmliO_FXv9E"
   },
   "outputs": [],
   "source": [
    "dataset[ foto_mes==202006, internet:=NA]\n",
    "dataset[ foto_mes==202006, mrentabilidad:=NA]\n",
    "dataset[ foto_mes==202006, mrentabilidad_annual:=NA]\n",
    "dataset[ foto_mes==202006, mcomisiones:=NA]\n",
    "dataset[ foto_mes==202006, mactivos_margen:=NA]\n",
    "dataset[ foto_mes==202006, mpasivos_margen:=NA]\n",
    "dataset[ foto_mes==202006, mcuentas_saldo:=NA]\n",
    "dataset[ foto_mes==202006, ctarjeta_visa_transacciones:=NA]\n",
    "dataset[ foto_mes==202006, mtarjeta_visa_consumo:=NA]\n",
    "dataset[ foto_mes==202006, mtarjeta_master_consumo:=NA]\n",
    "dataset[ foto_mes==202006, ccallcenter_transacciones:=NA]\n",
    "dataset[ foto_mes==202006, chomebanking_transacciones:=NA]\n",
    "dataset[ foto_mes==202006, chomebanking_transacciones:=NA]"
   ]
  },
  {
   "cell_type": "markdown",
   "id": "-4NiANYFSYHG",
   "metadata": {
    "id": "-4NiANYFSYHG"
   },
   "source": [
    "#### 7.3.1.3  DR  Data Drifting\n",
    "Se intenta corregir el data drifting, quizas ajustando por IPC ...\n",
    "<br>Esta parte podrá ser abordada por todos los Analistas y también la Gerenciapero se decide pedagogicamente no incluirla en esta primer version para reducir la carga cognitiva"
   ]
  },
  {
   "cell_type": "code",
   "execution_count": 44,
   "id": "L85A2lwKSe3k",
   "metadata": {
    "id": "L85A2lwKSe3k"
   },
   "outputs": [],
   "source": [
    "# sin codigo en esta primera version del workflow"
   ]
  },
  {
   "cell_type": "markdown",
   "id": "7sppIDYeSn5X",
   "metadata": {
    "id": "7sppIDYeSn5X"
   },
   "source": [
    "#### 7.3.1.3  FE_intra_manual Feature Engineering intra-mes\n",
    "\n",
    "Agrego campos nuevos dentro del mismo mes, SIN considerar la historia."
   ]
  },
  {
   "cell_type": "code",
   "execution_count": 45,
   "id": "qrqf3j3_St3p",
   "metadata": {
    "id": "qrqf3j3_St3p"
   },
   "outputs": [],
   "source": [
    "# esta funcion atributos presentes existe debido a que las modalidades poseen datasets con distinta cantidad de campos\n",
    "atributos_presentes <- function( patributos )\n",
    "{\n",
    "  atributos <- unique( patributos )\n",
    "  comun <- intersect( atributos, colnames(dataset) )\n",
    "\n",
    "  return(  length( atributos ) == length( comun ) )\n",
    "}\n",
    "\n",
    "# el mes 1,2, ..12\n",
    "if( atributos_presentes( c(\"foto_mes\") ))\n",
    "  dataset[, kmes := foto_mes %% 100]\n",
    "\n",
    "# variable extraida de una tesis de maestria de Irlanda\n",
    "if( atributos_presentes( c(\"mpayroll\", \"cliente_edad\") ))\n",
    "  dataset[, mpayroll_sobre_edad := mpayroll / cliente_edad]\n"
   ]
  },
  {
   "cell_type": "code",
   "execution_count": 46,
   "id": "iC4viwOdY5Kp",
   "metadata": {
    "id": "iC4viwOdY5Kp"
   },
   "outputs": [
    {
     "data": {
      "text/html": [
       "<style>\n",
       ".list-inline {list-style: none; margin:0; padding: 0}\n",
       ".list-inline>li {display: inline-block}\n",
       ".list-inline>li:not(:last-child)::after {content: \"\\00b7\"; padding: 0 .5ex}\n",
       "</style>\n",
       "<ol class=list-inline><li>'numero_de_cliente'</li><li>'foto_mes'</li><li>'internet'</li><li>'cliente_edad'</li><li>'cliente_antiguedad'</li><li>'mrentabilidad'</li><li>'mrentabilidad_annual'</li><li>'mcomisiones'</li><li>'mactivos_margen'</li><li>'mpasivos_margen'</li><li>'cproductos'</li><li>'mcuenta_corriente'</li><li>'mcaja_ahorro'</li><li>'cdescubierto_preacordado'</li><li>'mcuentas_saldo'</li><li>'ctarjeta_visa'</li><li>'ctarjeta_visa_transacciones'</li><li>'mtarjeta_visa_consumo'</li><li>'ctarjeta_master'</li><li>'ctarjeta_master_transacciones'</li><li>'mtarjeta_master_consumo'</li><li>'cprestamos_personales'</li><li>'mprestamos_personales'</li><li>'cpayroll_trx'</li><li>'mpayroll'</li><li>'mttarjeta_visa_debitos_automaticos'</li><li>'ccomisiones_mantenimiento'</li><li>'mcomisiones_mantenimiento'</li><li>'ccomisiones_otras'</li><li>'mtransferencias_recibidas'</li><li>'ccallcenter_transacciones'</li><li>'thomebanking'</li><li>'chomebanking_transacciones'</li><li>'ctrx_quarter'</li><li>'Master_status'</li><li>'Master_mfinanciacion_limite'</li><li>'Master_Fvencimiento'</li><li>'Master_msaldototal'</li><li>'Master_mlimitecompra'</li><li>'Master_fultimo_cierre'</li><li>'Master_fechaalta'</li><li>'Master_mconsumototal'</li><li>'Master_cconsumos'</li><li>'Master_mpagominimo'</li><li>'Visa_status'</li><li>'Visa_mfinanciacion_limite'</li><li>'Visa_Fvencimiento'</li><li>'Visa_msaldototal'</li><li>'Visa_mlimitecompra'</li><li>'Visa_fultimo_cierre'</li><li>'Visa_fechaalta'</li><li>'Visa_mconsumototal'</li><li>'Visa_cconsumos'</li><li>'Visa_mpagominimo'</li><li>'clase_ternaria'</li><li>'kmes'</li><li>'mpayroll_sobre_edad'</li></ol>\n"
      ],
      "text/latex": [
       "\\begin{enumerate*}\n",
       "\\item 'numero\\_de\\_cliente'\n",
       "\\item 'foto\\_mes'\n",
       "\\item 'internet'\n",
       "\\item 'cliente\\_edad'\n",
       "\\item 'cliente\\_antiguedad'\n",
       "\\item 'mrentabilidad'\n",
       "\\item 'mrentabilidad\\_annual'\n",
       "\\item 'mcomisiones'\n",
       "\\item 'mactivos\\_margen'\n",
       "\\item 'mpasivos\\_margen'\n",
       "\\item 'cproductos'\n",
       "\\item 'mcuenta\\_corriente'\n",
       "\\item 'mcaja\\_ahorro'\n",
       "\\item 'cdescubierto\\_preacordado'\n",
       "\\item 'mcuentas\\_saldo'\n",
       "\\item 'ctarjeta\\_visa'\n",
       "\\item 'ctarjeta\\_visa\\_transacciones'\n",
       "\\item 'mtarjeta\\_visa\\_consumo'\n",
       "\\item 'ctarjeta\\_master'\n",
       "\\item 'ctarjeta\\_master\\_transacciones'\n",
       "\\item 'mtarjeta\\_master\\_consumo'\n",
       "\\item 'cprestamos\\_personales'\n",
       "\\item 'mprestamos\\_personales'\n",
       "\\item 'cpayroll\\_trx'\n",
       "\\item 'mpayroll'\n",
       "\\item 'mttarjeta\\_visa\\_debitos\\_automaticos'\n",
       "\\item 'ccomisiones\\_mantenimiento'\n",
       "\\item 'mcomisiones\\_mantenimiento'\n",
       "\\item 'ccomisiones\\_otras'\n",
       "\\item 'mtransferencias\\_recibidas'\n",
       "\\item 'ccallcenter\\_transacciones'\n",
       "\\item 'thomebanking'\n",
       "\\item 'chomebanking\\_transacciones'\n",
       "\\item 'ctrx\\_quarter'\n",
       "\\item 'Master\\_status'\n",
       "\\item 'Master\\_mfinanciacion\\_limite'\n",
       "\\item 'Master\\_Fvencimiento'\n",
       "\\item 'Master\\_msaldototal'\n",
       "\\item 'Master\\_mlimitecompra'\n",
       "\\item 'Master\\_fultimo\\_cierre'\n",
       "\\item 'Master\\_fechaalta'\n",
       "\\item 'Master\\_mconsumototal'\n",
       "\\item 'Master\\_cconsumos'\n",
       "\\item 'Master\\_mpagominimo'\n",
       "\\item 'Visa\\_status'\n",
       "\\item 'Visa\\_mfinanciacion\\_limite'\n",
       "\\item 'Visa\\_Fvencimiento'\n",
       "\\item 'Visa\\_msaldototal'\n",
       "\\item 'Visa\\_mlimitecompra'\n",
       "\\item 'Visa\\_fultimo\\_cierre'\n",
       "\\item 'Visa\\_fechaalta'\n",
       "\\item 'Visa\\_mconsumototal'\n",
       "\\item 'Visa\\_cconsumos'\n",
       "\\item 'Visa\\_mpagominimo'\n",
       "\\item 'clase\\_ternaria'\n",
       "\\item 'kmes'\n",
       "\\item 'mpayroll\\_sobre\\_edad'\n",
       "\\end{enumerate*}\n"
      ],
      "text/markdown": [
       "1. 'numero_de_cliente'\n",
       "2. 'foto_mes'\n",
       "3. 'internet'\n",
       "4. 'cliente_edad'\n",
       "5. 'cliente_antiguedad'\n",
       "6. 'mrentabilidad'\n",
       "7. 'mrentabilidad_annual'\n",
       "8. 'mcomisiones'\n",
       "9. 'mactivos_margen'\n",
       "10. 'mpasivos_margen'\n",
       "11. 'cproductos'\n",
       "12. 'mcuenta_corriente'\n",
       "13. 'mcaja_ahorro'\n",
       "14. 'cdescubierto_preacordado'\n",
       "15. 'mcuentas_saldo'\n",
       "16. 'ctarjeta_visa'\n",
       "17. 'ctarjeta_visa_transacciones'\n",
       "18. 'mtarjeta_visa_consumo'\n",
       "19. 'ctarjeta_master'\n",
       "20. 'ctarjeta_master_transacciones'\n",
       "21. 'mtarjeta_master_consumo'\n",
       "22. 'cprestamos_personales'\n",
       "23. 'mprestamos_personales'\n",
       "24. 'cpayroll_trx'\n",
       "25. 'mpayroll'\n",
       "26. 'mttarjeta_visa_debitos_automaticos'\n",
       "27. 'ccomisiones_mantenimiento'\n",
       "28. 'mcomisiones_mantenimiento'\n",
       "29. 'ccomisiones_otras'\n",
       "30. 'mtransferencias_recibidas'\n",
       "31. 'ccallcenter_transacciones'\n",
       "32. 'thomebanking'\n",
       "33. 'chomebanking_transacciones'\n",
       "34. 'ctrx_quarter'\n",
       "35. 'Master_status'\n",
       "36. 'Master_mfinanciacion_limite'\n",
       "37. 'Master_Fvencimiento'\n",
       "38. 'Master_msaldototal'\n",
       "39. 'Master_mlimitecompra'\n",
       "40. 'Master_fultimo_cierre'\n",
       "41. 'Master_fechaalta'\n",
       "42. 'Master_mconsumototal'\n",
       "43. 'Master_cconsumos'\n",
       "44. 'Master_mpagominimo'\n",
       "45. 'Visa_status'\n",
       "46. 'Visa_mfinanciacion_limite'\n",
       "47. 'Visa_Fvencimiento'\n",
       "48. 'Visa_msaldototal'\n",
       "49. 'Visa_mlimitecompra'\n",
       "50. 'Visa_fultimo_cierre'\n",
       "51. 'Visa_fechaalta'\n",
       "52. 'Visa_mconsumototal'\n",
       "53. 'Visa_cconsumos'\n",
       "54. 'Visa_mpagominimo'\n",
       "55. 'clase_ternaria'\n",
       "56. 'kmes'\n",
       "57. 'mpayroll_sobre_edad'\n",
       "\n",
       "\n"
      ],
      "text/plain": [
       " [1] \"numero_de_cliente\"                  \"foto_mes\"                          \n",
       " [3] \"internet\"                           \"cliente_edad\"                      \n",
       " [5] \"cliente_antiguedad\"                 \"mrentabilidad\"                     \n",
       " [7] \"mrentabilidad_annual\"               \"mcomisiones\"                       \n",
       " [9] \"mactivos_margen\"                    \"mpasivos_margen\"                   \n",
       "[11] \"cproductos\"                         \"mcuenta_corriente\"                 \n",
       "[13] \"mcaja_ahorro\"                       \"cdescubierto_preacordado\"          \n",
       "[15] \"mcuentas_saldo\"                     \"ctarjeta_visa\"                     \n",
       "[17] \"ctarjeta_visa_transacciones\"        \"mtarjeta_visa_consumo\"             \n",
       "[19] \"ctarjeta_master\"                    \"ctarjeta_master_transacciones\"     \n",
       "[21] \"mtarjeta_master_consumo\"            \"cprestamos_personales\"             \n",
       "[23] \"mprestamos_personales\"              \"cpayroll_trx\"                      \n",
       "[25] \"mpayroll\"                           \"mttarjeta_visa_debitos_automaticos\"\n",
       "[27] \"ccomisiones_mantenimiento\"          \"mcomisiones_mantenimiento\"         \n",
       "[29] \"ccomisiones_otras\"                  \"mtransferencias_recibidas\"         \n",
       "[31] \"ccallcenter_transacciones\"          \"thomebanking\"                      \n",
       "[33] \"chomebanking_transacciones\"         \"ctrx_quarter\"                      \n",
       "[35] \"Master_status\"                      \"Master_mfinanciacion_limite\"       \n",
       "[37] \"Master_Fvencimiento\"                \"Master_msaldototal\"                \n",
       "[39] \"Master_mlimitecompra\"               \"Master_fultimo_cierre\"             \n",
       "[41] \"Master_fechaalta\"                   \"Master_mconsumototal\"              \n",
       "[43] \"Master_cconsumos\"                   \"Master_mpagominimo\"                \n",
       "[45] \"Visa_status\"                        \"Visa_mfinanciacion_limite\"         \n",
       "[47] \"Visa_Fvencimiento\"                  \"Visa_msaldototal\"                  \n",
       "[49] \"Visa_mlimitecompra\"                 \"Visa_fultimo_cierre\"               \n",
       "[51] \"Visa_fechaalta\"                     \"Visa_mconsumototal\"                \n",
       "[53] \"Visa_cconsumos\"                     \"Visa_mpagominimo\"                  \n",
       "[55] \"clase_ternaria\"                     \"kmes\"                              \n",
       "[57] \"mpayroll_sobre_edad\"               "
      ]
     },
     "metadata": {},
     "output_type": "display_data"
    }
   ],
   "source": [
    "# visualizo las columas del dataset a esta etapa\n",
    "colnames(dataset)"
   ]
  },
  {
   "cell_type": "markdown",
   "id": "9682b4ca-3ab3-4bbc-a36a-b185361e6b6b",
   "metadata": {
    "id": "9682b4ca-3ab3-4bbc-a36a-b185361e6b6b"
   },
   "source": [
    "#### 7.3.1.4  FE_rf Feature Engineering de nuevas variables a partir de hojas de Random Forest\n",
    "\n",
    "Esto se mostrará unicamente a la *modalidad Analista Sr*"
   ]
  },
  {
   "cell_type": "code",
   "execution_count": 47,
   "id": "ljA3h0jOcciP",
   "metadata": {
    "id": "ljA3h0jOcciP"
   },
   "outputs": [],
   "source": [
    "# No se implementa Feature Engineering a partir de Random Forest"
   ]
  },
  {
   "cell_type": "markdown",
   "id": "XaRBjQj8ZRUZ",
   "metadata": {
    "id": "XaRBjQj8ZRUZ"
   },
   "source": [
    "#### 7.3.1.5  FEhist Feature Engineering historico\n",
    "\n",
    "El Fature Engineering Histórico es la etapa que más aporta a la ganancia final, ya que enriquece cada registro del dataset con su historia."
   ]
  },
  {
   "cell_type": "markdown",
   "id": "cfe3b8cf-0707-4512-92e7-c1407bb3f73b",
   "metadata": {
    "id": "cfe3b8cf-0707-4512-92e7-c1407bb3f73b"
   },
   "source": [
    "Para cada campo del dataset original (*)\n",
    "se crean lo siguientes campos de a partir de la historia\n",
    "* lag1  lags de orden 1\n",
    "* delta1  =  valor actual - lag1\n",
    "* lag2  lags de orden 2\n",
    "* delta2  = valor actual - lag2\n",
    "\n",
    "\n",
    "(*) Excepto para los campos  <numero_de_cliente,  foto_mes,  clase_ternaria>"
   ]
  },
  {
   "cell_type": "code",
   "execution_count": 48,
   "id": "7850b948-827d-4a2a-b4d3-a5e459b47c11",
   "metadata": {
    "id": "7850b948-827d-4a2a-b4d3-a5e459b47c11"
   },
   "outputs": [],
   "source": [
    "# Feature Engineering Historico\n",
    "\n",
    "# todo es lagueable, menos la primary key y la clase\n",
    "cols_lagueables <- copy( setdiff(\n",
    "    colnames(dataset),\n",
    "    c(\"numero_de_cliente\", \"foto_mes\", \"clase_ternaria\")\n",
    ") )\n",
    "\n",
    "# https://rdrr.io/cran/data.table/man/shift.html\n",
    "\n",
    "# lags de orden 1\n",
    "dataset[,\n",
    "    paste0(cols_lagueables, \"_lag1\") := shift(.SD, 1, NA, \"lag\"),\n",
    "    by = numero_de_cliente,\n",
    "    .SDcols = cols_lagueables\n",
    "]\n",
    "\n",
    "# lags de orden 2\n",
    "dataset[,\n",
    "    paste0(cols_lagueables, \"_lag2\") := shift(.SD, 2, NA, \"lag\"),\n",
    "    by = numero_de_cliente,\n",
    "    .SDcols = cols_lagueables\n",
    "]\n",
    "\n",
    "# agrego los delta lags\n",
    "for (vcol in cols_lagueables)\n",
    "{\n",
    "    dataset[, paste0(vcol, \"_delta1\") := get(vcol) - get(paste0(vcol, \"_lag1\"))]\n",
    "    dataset[, paste0(vcol, \"_delta2\") := get(vcol) - get(paste0(vcol, \"_lag2\"))]\n",
    "}\n"
   ]
  },
  {
   "cell_type": "markdown",
   "id": "cea690d9-ece9-4852-a5e2-f337c31b6721",
   "metadata": {
    "id": "cea690d9-ece9-4852-a5e2-f337c31b6721"
   },
   "source": [
    "Verificacion de los campos recien creados"
   ]
  },
  {
   "cell_type": "code",
   "execution_count": 49,
   "id": "f772896b-595a-47d4-8905-c15304ac9452",
   "metadata": {
    "id": "f772896b-595a-47d4-8905-c15304ac9452"
   },
   "outputs": [
    {
     "data": {
      "text/html": [
       "273"
      ],
      "text/latex": [
       "273"
      ],
      "text/markdown": [
       "273"
      ],
      "text/plain": [
       "[1] 273"
      ]
     },
     "metadata": {},
     "output_type": "display_data"
    },
    {
     "data": {
      "text/html": [
       "<style>\n",
       ".list-inline {list-style: none; margin:0; padding: 0}\n",
       ".list-inline>li {display: inline-block}\n",
       ".list-inline>li:not(:last-child)::after {content: \"\\00b7\"; padding: 0 .5ex}\n",
       "</style>\n",
       "<ol class=list-inline><li>'numero_de_cliente'</li><li>'foto_mes'</li><li>'internet'</li><li>'cliente_edad'</li><li>'cliente_antiguedad'</li><li>'mrentabilidad'</li><li>'mrentabilidad_annual'</li><li>'mcomisiones'</li><li>'mactivos_margen'</li><li>'mpasivos_margen'</li><li>'cproductos'</li><li>'mcuenta_corriente'</li><li>'mcaja_ahorro'</li><li>'cdescubierto_preacordado'</li><li>'mcuentas_saldo'</li><li>'ctarjeta_visa'</li><li>'ctarjeta_visa_transacciones'</li><li>'mtarjeta_visa_consumo'</li><li>'ctarjeta_master'</li><li>'ctarjeta_master_transacciones'</li><li>'mtarjeta_master_consumo'</li><li>'cprestamos_personales'</li><li>'mprestamos_personales'</li><li>'cpayroll_trx'</li><li>'mpayroll'</li><li>'mttarjeta_visa_debitos_automaticos'</li><li>'ccomisiones_mantenimiento'</li><li>'mcomisiones_mantenimiento'</li><li>'ccomisiones_otras'</li><li>'mtransferencias_recibidas'</li><li>'ccallcenter_transacciones'</li><li>'thomebanking'</li><li>'chomebanking_transacciones'</li><li>'ctrx_quarter'</li><li>'Master_status'</li><li>'Master_mfinanciacion_limite'</li><li>'Master_Fvencimiento'</li><li>'Master_msaldototal'</li><li>'Master_mlimitecompra'</li><li>'Master_fultimo_cierre'</li><li>'Master_fechaalta'</li><li>'Master_mconsumototal'</li><li>'Master_cconsumos'</li><li>'Master_mpagominimo'</li><li>'Visa_status'</li><li>'Visa_mfinanciacion_limite'</li><li>'Visa_Fvencimiento'</li><li>'Visa_msaldototal'</li><li>'Visa_mlimitecompra'</li><li>'Visa_fultimo_cierre'</li><li>'Visa_fechaalta'</li><li>'Visa_mconsumototal'</li><li>'Visa_cconsumos'</li><li>'Visa_mpagominimo'</li><li>'clase_ternaria'</li><li>'kmes'</li><li>'mpayroll_sobre_edad'</li><li>'internet_lag1'</li><li>'cliente_edad_lag1'</li><li>'cliente_antiguedad_lag1'</li><li>'mrentabilidad_lag1'</li><li>'mrentabilidad_annual_lag1'</li><li>'mcomisiones_lag1'</li><li>'mactivos_margen_lag1'</li><li>'mpasivos_margen_lag1'</li><li>'cproductos_lag1'</li><li>'mcuenta_corriente_lag1'</li><li>'mcaja_ahorro_lag1'</li><li>'cdescubierto_preacordado_lag1'</li><li>'mcuentas_saldo_lag1'</li><li>'ctarjeta_visa_lag1'</li><li>'ctarjeta_visa_transacciones_lag1'</li><li>'mtarjeta_visa_consumo_lag1'</li><li>'ctarjeta_master_lag1'</li><li>'ctarjeta_master_transacciones_lag1'</li><li>'mtarjeta_master_consumo_lag1'</li><li>'cprestamos_personales_lag1'</li><li>'mprestamos_personales_lag1'</li><li>'cpayroll_trx_lag1'</li><li>'mpayroll_lag1'</li><li>'mttarjeta_visa_debitos_automaticos_lag1'</li><li>'ccomisiones_mantenimiento_lag1'</li><li>'mcomisiones_mantenimiento_lag1'</li><li>'ccomisiones_otras_lag1'</li><li>'mtransferencias_recibidas_lag1'</li><li>'ccallcenter_transacciones_lag1'</li><li>'thomebanking_lag1'</li><li>'chomebanking_transacciones_lag1'</li><li>'ctrx_quarter_lag1'</li><li>'Master_status_lag1'</li><li>'Master_mfinanciacion_limite_lag1'</li><li>'Master_Fvencimiento_lag1'</li><li>'Master_msaldototal_lag1'</li><li>'Master_mlimitecompra_lag1'</li><li>'Master_fultimo_cierre_lag1'</li><li>'Master_fechaalta_lag1'</li><li>'Master_mconsumototal_lag1'</li><li>'Master_cconsumos_lag1'</li><li>'Master_mpagominimo_lag1'</li><li>'Visa_status_lag1'</li><li>'Visa_mfinanciacion_limite_lag1'</li><li>'Visa_Fvencimiento_lag1'</li><li>'Visa_msaldototal_lag1'</li><li>'Visa_mlimitecompra_lag1'</li><li>'Visa_fultimo_cierre_lag1'</li><li>'Visa_fechaalta_lag1'</li><li>'Visa_mconsumototal_lag1'</li><li>'Visa_cconsumos_lag1'</li><li>'Visa_mpagominimo_lag1'</li><li>'kmes_lag1'</li><li>'mpayroll_sobre_edad_lag1'</li><li>'internet_lag2'</li><li>'cliente_edad_lag2'</li><li>'cliente_antiguedad_lag2'</li><li>'mrentabilidad_lag2'</li><li>'mrentabilidad_annual_lag2'</li><li>'mcomisiones_lag2'</li><li>'mactivos_margen_lag2'</li><li>'mpasivos_margen_lag2'</li><li>'cproductos_lag2'</li><li>'mcuenta_corriente_lag2'</li><li>'mcaja_ahorro_lag2'</li><li>'cdescubierto_preacordado_lag2'</li><li>'mcuentas_saldo_lag2'</li><li>'ctarjeta_visa_lag2'</li><li>'ctarjeta_visa_transacciones_lag2'</li><li>'mtarjeta_visa_consumo_lag2'</li><li>'ctarjeta_master_lag2'</li><li>'ctarjeta_master_transacciones_lag2'</li><li>'mtarjeta_master_consumo_lag2'</li><li>'cprestamos_personales_lag2'</li><li>'mprestamos_personales_lag2'</li><li>'cpayroll_trx_lag2'</li><li>'mpayroll_lag2'</li><li>'mttarjeta_visa_debitos_automaticos_lag2'</li><li>'ccomisiones_mantenimiento_lag2'</li><li>'mcomisiones_mantenimiento_lag2'</li><li>'ccomisiones_otras_lag2'</li><li>'mtransferencias_recibidas_lag2'</li><li>'ccallcenter_transacciones_lag2'</li><li>'thomebanking_lag2'</li><li>'chomebanking_transacciones_lag2'</li><li>'ctrx_quarter_lag2'</li><li>'Master_status_lag2'</li><li>'Master_mfinanciacion_limite_lag2'</li><li>'Master_Fvencimiento_lag2'</li><li>'Master_msaldototal_lag2'</li><li>'Master_mlimitecompra_lag2'</li><li>'Master_fultimo_cierre_lag2'</li><li>'Master_fechaalta_lag2'</li><li>'Master_mconsumototal_lag2'</li><li>'Master_cconsumos_lag2'</li><li>'Master_mpagominimo_lag2'</li><li>'Visa_status_lag2'</li><li>'Visa_mfinanciacion_limite_lag2'</li><li>'Visa_Fvencimiento_lag2'</li><li>'Visa_msaldototal_lag2'</li><li>'Visa_mlimitecompra_lag2'</li><li>'Visa_fultimo_cierre_lag2'</li><li>'Visa_fechaalta_lag2'</li><li>'Visa_mconsumototal_lag2'</li><li>'Visa_cconsumos_lag2'</li><li>'Visa_mpagominimo_lag2'</li><li>'kmes_lag2'</li><li>'mpayroll_sobre_edad_lag2'</li><li>'internet_delta1'</li><li>'internet_delta2'</li><li>'cliente_edad_delta1'</li><li>'cliente_edad_delta2'</li><li>'cliente_antiguedad_delta1'</li><li>'cliente_antiguedad_delta2'</li><li>'mrentabilidad_delta1'</li><li>'mrentabilidad_delta2'</li><li>'mrentabilidad_annual_delta1'</li><li>'mrentabilidad_annual_delta2'</li><li>'mcomisiones_delta1'</li><li>'mcomisiones_delta2'</li><li>'mactivos_margen_delta1'</li><li>'mactivos_margen_delta2'</li><li>'mpasivos_margen_delta1'</li><li>'mpasivos_margen_delta2'</li><li>'cproductos_delta1'</li><li>'cproductos_delta2'</li><li>'mcuenta_corriente_delta1'</li><li>'mcuenta_corriente_delta2'</li><li>'mcaja_ahorro_delta1'</li><li>'mcaja_ahorro_delta2'</li><li>'cdescubierto_preacordado_delta1'</li><li>'cdescubierto_preacordado_delta2'</li><li>'mcuentas_saldo_delta1'</li><li>'mcuentas_saldo_delta2'</li><li>'ctarjeta_visa_delta1'</li><li>'ctarjeta_visa_delta2'</li><li>'ctarjeta_visa_transacciones_delta1'</li><li>'ctarjeta_visa_transacciones_delta2'</li><li>'mtarjeta_visa_consumo_delta1'</li><li>'mtarjeta_visa_consumo_delta2'</li><li>'ctarjeta_master_delta1'</li><li>'ctarjeta_master_delta2'</li><li>'ctarjeta_master_transacciones_delta1'</li><li>'ctarjeta_master_transacciones_delta2'</li><li>'mtarjeta_master_consumo_delta1'</li><li>'mtarjeta_master_consumo_delta2'</li><li>'cprestamos_personales_delta1'</li><li>'cprestamos_personales_delta2'</li><li>'mprestamos_personales_delta1'</li><li>'mprestamos_personales_delta2'</li><li>'cpayroll_trx_delta1'</li><li>'cpayroll_trx_delta2'</li><li>'mpayroll_delta1'</li><li>'mpayroll_delta2'</li><li>'mttarjeta_visa_debitos_automaticos_delta1'</li><li>'mttarjeta_visa_debitos_automaticos_delta2'</li><li>'ccomisiones_mantenimiento_delta1'</li><li>'ccomisiones_mantenimiento_delta2'</li><li>'mcomisiones_mantenimiento_delta1'</li><li>'mcomisiones_mantenimiento_delta2'</li><li>'ccomisiones_otras_delta1'</li><li>'ccomisiones_otras_delta2'</li><li>'mtransferencias_recibidas_delta1'</li><li>'mtransferencias_recibidas_delta2'</li><li>'ccallcenter_transacciones_delta1'</li><li>'ccallcenter_transacciones_delta2'</li><li>'thomebanking_delta1'</li><li>'thomebanking_delta2'</li><li>'chomebanking_transacciones_delta1'</li><li>'chomebanking_transacciones_delta2'</li><li>'ctrx_quarter_delta1'</li><li>'ctrx_quarter_delta2'</li><li>'Master_status_delta1'</li><li>'Master_status_delta2'</li><li>'Master_mfinanciacion_limite_delta1'</li><li>'Master_mfinanciacion_limite_delta2'</li><li>'Master_Fvencimiento_delta1'</li><li>'Master_Fvencimiento_delta2'</li><li>'Master_msaldototal_delta1'</li><li>'Master_msaldototal_delta2'</li><li>'Master_mlimitecompra_delta1'</li><li>'Master_mlimitecompra_delta2'</li><li>'Master_fultimo_cierre_delta1'</li><li>'Master_fultimo_cierre_delta2'</li><li>'Master_fechaalta_delta1'</li><li>'Master_fechaalta_delta2'</li><li>'Master_mconsumototal_delta1'</li><li>'Master_mconsumototal_delta2'</li><li>'Master_cconsumos_delta1'</li><li>'Master_cconsumos_delta2'</li><li>'Master_mpagominimo_delta1'</li><li>'Master_mpagominimo_delta2'</li><li>'Visa_status_delta1'</li><li>'Visa_status_delta2'</li><li>'Visa_mfinanciacion_limite_delta1'</li><li>'Visa_mfinanciacion_limite_delta2'</li><li>'Visa_Fvencimiento_delta1'</li><li>'Visa_Fvencimiento_delta2'</li><li>'Visa_msaldototal_delta1'</li><li>'Visa_msaldototal_delta2'</li><li>'Visa_mlimitecompra_delta1'</li><li>'Visa_mlimitecompra_delta2'</li><li>'Visa_fultimo_cierre_delta1'</li><li>'Visa_fultimo_cierre_delta2'</li><li>'Visa_fechaalta_delta1'</li><li>'Visa_fechaalta_delta2'</li><li>'Visa_mconsumototal_delta1'</li><li>'Visa_mconsumototal_delta2'</li><li>'Visa_cconsumos_delta1'</li><li>'Visa_cconsumos_delta2'</li><li>'Visa_mpagominimo_delta1'</li><li>'Visa_mpagominimo_delta2'</li><li>'kmes_delta1'</li><li>'kmes_delta2'</li><li>'mpayroll_sobre_edad_delta1'</li><li>'mpayroll_sobre_edad_delta2'</li></ol>\n"
      ],
      "text/latex": [
       "\\begin{enumerate*}\n",
       "\\item 'numero\\_de\\_cliente'\n",
       "\\item 'foto\\_mes'\n",
       "\\item 'internet'\n",
       "\\item 'cliente\\_edad'\n",
       "\\item 'cliente\\_antiguedad'\n",
       "\\item 'mrentabilidad'\n",
       "\\item 'mrentabilidad\\_annual'\n",
       "\\item 'mcomisiones'\n",
       "\\item 'mactivos\\_margen'\n",
       "\\item 'mpasivos\\_margen'\n",
       "\\item 'cproductos'\n",
       "\\item 'mcuenta\\_corriente'\n",
       "\\item 'mcaja\\_ahorro'\n",
       "\\item 'cdescubierto\\_preacordado'\n",
       "\\item 'mcuentas\\_saldo'\n",
       "\\item 'ctarjeta\\_visa'\n",
       "\\item 'ctarjeta\\_visa\\_transacciones'\n",
       "\\item 'mtarjeta\\_visa\\_consumo'\n",
       "\\item 'ctarjeta\\_master'\n",
       "\\item 'ctarjeta\\_master\\_transacciones'\n",
       "\\item 'mtarjeta\\_master\\_consumo'\n",
       "\\item 'cprestamos\\_personales'\n",
       "\\item 'mprestamos\\_personales'\n",
       "\\item 'cpayroll\\_trx'\n",
       "\\item 'mpayroll'\n",
       "\\item 'mttarjeta\\_visa\\_debitos\\_automaticos'\n",
       "\\item 'ccomisiones\\_mantenimiento'\n",
       "\\item 'mcomisiones\\_mantenimiento'\n",
       "\\item 'ccomisiones\\_otras'\n",
       "\\item 'mtransferencias\\_recibidas'\n",
       "\\item 'ccallcenter\\_transacciones'\n",
       "\\item 'thomebanking'\n",
       "\\item 'chomebanking\\_transacciones'\n",
       "\\item 'ctrx\\_quarter'\n",
       "\\item 'Master\\_status'\n",
       "\\item 'Master\\_mfinanciacion\\_limite'\n",
       "\\item 'Master\\_Fvencimiento'\n",
       "\\item 'Master\\_msaldototal'\n",
       "\\item 'Master\\_mlimitecompra'\n",
       "\\item 'Master\\_fultimo\\_cierre'\n",
       "\\item 'Master\\_fechaalta'\n",
       "\\item 'Master\\_mconsumototal'\n",
       "\\item 'Master\\_cconsumos'\n",
       "\\item 'Master\\_mpagominimo'\n",
       "\\item 'Visa\\_status'\n",
       "\\item 'Visa\\_mfinanciacion\\_limite'\n",
       "\\item 'Visa\\_Fvencimiento'\n",
       "\\item 'Visa\\_msaldototal'\n",
       "\\item 'Visa\\_mlimitecompra'\n",
       "\\item 'Visa\\_fultimo\\_cierre'\n",
       "\\item 'Visa\\_fechaalta'\n",
       "\\item 'Visa\\_mconsumototal'\n",
       "\\item 'Visa\\_cconsumos'\n",
       "\\item 'Visa\\_mpagominimo'\n",
       "\\item 'clase\\_ternaria'\n",
       "\\item 'kmes'\n",
       "\\item 'mpayroll\\_sobre\\_edad'\n",
       "\\item 'internet\\_lag1'\n",
       "\\item 'cliente\\_edad\\_lag1'\n",
       "\\item 'cliente\\_antiguedad\\_lag1'\n",
       "\\item 'mrentabilidad\\_lag1'\n",
       "\\item 'mrentabilidad\\_annual\\_lag1'\n",
       "\\item 'mcomisiones\\_lag1'\n",
       "\\item 'mactivos\\_margen\\_lag1'\n",
       "\\item 'mpasivos\\_margen\\_lag1'\n",
       "\\item 'cproductos\\_lag1'\n",
       "\\item 'mcuenta\\_corriente\\_lag1'\n",
       "\\item 'mcaja\\_ahorro\\_lag1'\n",
       "\\item 'cdescubierto\\_preacordado\\_lag1'\n",
       "\\item 'mcuentas\\_saldo\\_lag1'\n",
       "\\item 'ctarjeta\\_visa\\_lag1'\n",
       "\\item 'ctarjeta\\_visa\\_transacciones\\_lag1'\n",
       "\\item 'mtarjeta\\_visa\\_consumo\\_lag1'\n",
       "\\item 'ctarjeta\\_master\\_lag1'\n",
       "\\item 'ctarjeta\\_master\\_transacciones\\_lag1'\n",
       "\\item 'mtarjeta\\_master\\_consumo\\_lag1'\n",
       "\\item 'cprestamos\\_personales\\_lag1'\n",
       "\\item 'mprestamos\\_personales\\_lag1'\n",
       "\\item 'cpayroll\\_trx\\_lag1'\n",
       "\\item 'mpayroll\\_lag1'\n",
       "\\item 'mttarjeta\\_visa\\_debitos\\_automaticos\\_lag1'\n",
       "\\item 'ccomisiones\\_mantenimiento\\_lag1'\n",
       "\\item 'mcomisiones\\_mantenimiento\\_lag1'\n",
       "\\item 'ccomisiones\\_otras\\_lag1'\n",
       "\\item 'mtransferencias\\_recibidas\\_lag1'\n",
       "\\item 'ccallcenter\\_transacciones\\_lag1'\n",
       "\\item 'thomebanking\\_lag1'\n",
       "\\item 'chomebanking\\_transacciones\\_lag1'\n",
       "\\item 'ctrx\\_quarter\\_lag1'\n",
       "\\item 'Master\\_status\\_lag1'\n",
       "\\item 'Master\\_mfinanciacion\\_limite\\_lag1'\n",
       "\\item 'Master\\_Fvencimiento\\_lag1'\n",
       "\\item 'Master\\_msaldototal\\_lag1'\n",
       "\\item 'Master\\_mlimitecompra\\_lag1'\n",
       "\\item 'Master\\_fultimo\\_cierre\\_lag1'\n",
       "\\item 'Master\\_fechaalta\\_lag1'\n",
       "\\item 'Master\\_mconsumototal\\_lag1'\n",
       "\\item 'Master\\_cconsumos\\_lag1'\n",
       "\\item 'Master\\_mpagominimo\\_lag1'\n",
       "\\item 'Visa\\_status\\_lag1'\n",
       "\\item 'Visa\\_mfinanciacion\\_limite\\_lag1'\n",
       "\\item 'Visa\\_Fvencimiento\\_lag1'\n",
       "\\item 'Visa\\_msaldototal\\_lag1'\n",
       "\\item 'Visa\\_mlimitecompra\\_lag1'\n",
       "\\item 'Visa\\_fultimo\\_cierre\\_lag1'\n",
       "\\item 'Visa\\_fechaalta\\_lag1'\n",
       "\\item 'Visa\\_mconsumototal\\_lag1'\n",
       "\\item 'Visa\\_cconsumos\\_lag1'\n",
       "\\item 'Visa\\_mpagominimo\\_lag1'\n",
       "\\item 'kmes\\_lag1'\n",
       "\\item 'mpayroll\\_sobre\\_edad\\_lag1'\n",
       "\\item 'internet\\_lag2'\n",
       "\\item 'cliente\\_edad\\_lag2'\n",
       "\\item 'cliente\\_antiguedad\\_lag2'\n",
       "\\item 'mrentabilidad\\_lag2'\n",
       "\\item 'mrentabilidad\\_annual\\_lag2'\n",
       "\\item 'mcomisiones\\_lag2'\n",
       "\\item 'mactivos\\_margen\\_lag2'\n",
       "\\item 'mpasivos\\_margen\\_lag2'\n",
       "\\item 'cproductos\\_lag2'\n",
       "\\item 'mcuenta\\_corriente\\_lag2'\n",
       "\\item 'mcaja\\_ahorro\\_lag2'\n",
       "\\item 'cdescubierto\\_preacordado\\_lag2'\n",
       "\\item 'mcuentas\\_saldo\\_lag2'\n",
       "\\item 'ctarjeta\\_visa\\_lag2'\n",
       "\\item 'ctarjeta\\_visa\\_transacciones\\_lag2'\n",
       "\\item 'mtarjeta\\_visa\\_consumo\\_lag2'\n",
       "\\item 'ctarjeta\\_master\\_lag2'\n",
       "\\item 'ctarjeta\\_master\\_transacciones\\_lag2'\n",
       "\\item 'mtarjeta\\_master\\_consumo\\_lag2'\n",
       "\\item 'cprestamos\\_personales\\_lag2'\n",
       "\\item 'mprestamos\\_personales\\_lag2'\n",
       "\\item 'cpayroll\\_trx\\_lag2'\n",
       "\\item 'mpayroll\\_lag2'\n",
       "\\item 'mttarjeta\\_visa\\_debitos\\_automaticos\\_lag2'\n",
       "\\item 'ccomisiones\\_mantenimiento\\_lag2'\n",
       "\\item 'mcomisiones\\_mantenimiento\\_lag2'\n",
       "\\item 'ccomisiones\\_otras\\_lag2'\n",
       "\\item 'mtransferencias\\_recibidas\\_lag2'\n",
       "\\item 'ccallcenter\\_transacciones\\_lag2'\n",
       "\\item 'thomebanking\\_lag2'\n",
       "\\item 'chomebanking\\_transacciones\\_lag2'\n",
       "\\item 'ctrx\\_quarter\\_lag2'\n",
       "\\item 'Master\\_status\\_lag2'\n",
       "\\item 'Master\\_mfinanciacion\\_limite\\_lag2'\n",
       "\\item 'Master\\_Fvencimiento\\_lag2'\n",
       "\\item 'Master\\_msaldototal\\_lag2'\n",
       "\\item 'Master\\_mlimitecompra\\_lag2'\n",
       "\\item 'Master\\_fultimo\\_cierre\\_lag2'\n",
       "\\item 'Master\\_fechaalta\\_lag2'\n",
       "\\item 'Master\\_mconsumototal\\_lag2'\n",
       "\\item 'Master\\_cconsumos\\_lag2'\n",
       "\\item 'Master\\_mpagominimo\\_lag2'\n",
       "\\item 'Visa\\_status\\_lag2'\n",
       "\\item 'Visa\\_mfinanciacion\\_limite\\_lag2'\n",
       "\\item 'Visa\\_Fvencimiento\\_lag2'\n",
       "\\item 'Visa\\_msaldototal\\_lag2'\n",
       "\\item 'Visa\\_mlimitecompra\\_lag2'\n",
       "\\item 'Visa\\_fultimo\\_cierre\\_lag2'\n",
       "\\item 'Visa\\_fechaalta\\_lag2'\n",
       "\\item 'Visa\\_mconsumototal\\_lag2'\n",
       "\\item 'Visa\\_cconsumos\\_lag2'\n",
       "\\item 'Visa\\_mpagominimo\\_lag2'\n",
       "\\item 'kmes\\_lag2'\n",
       "\\item 'mpayroll\\_sobre\\_edad\\_lag2'\n",
       "\\item 'internet\\_delta1'\n",
       "\\item 'internet\\_delta2'\n",
       "\\item 'cliente\\_edad\\_delta1'\n",
       "\\item 'cliente\\_edad\\_delta2'\n",
       "\\item 'cliente\\_antiguedad\\_delta1'\n",
       "\\item 'cliente\\_antiguedad\\_delta2'\n",
       "\\item 'mrentabilidad\\_delta1'\n",
       "\\item 'mrentabilidad\\_delta2'\n",
       "\\item 'mrentabilidad\\_annual\\_delta1'\n",
       "\\item 'mrentabilidad\\_annual\\_delta2'\n",
       "\\item 'mcomisiones\\_delta1'\n",
       "\\item 'mcomisiones\\_delta2'\n",
       "\\item 'mactivos\\_margen\\_delta1'\n",
       "\\item 'mactivos\\_margen\\_delta2'\n",
       "\\item 'mpasivos\\_margen\\_delta1'\n",
       "\\item 'mpasivos\\_margen\\_delta2'\n",
       "\\item 'cproductos\\_delta1'\n",
       "\\item 'cproductos\\_delta2'\n",
       "\\item 'mcuenta\\_corriente\\_delta1'\n",
       "\\item 'mcuenta\\_corriente\\_delta2'\n",
       "\\item 'mcaja\\_ahorro\\_delta1'\n",
       "\\item 'mcaja\\_ahorro\\_delta2'\n",
       "\\item 'cdescubierto\\_preacordado\\_delta1'\n",
       "\\item 'cdescubierto\\_preacordado\\_delta2'\n",
       "\\item 'mcuentas\\_saldo\\_delta1'\n",
       "\\item 'mcuentas\\_saldo\\_delta2'\n",
       "\\item 'ctarjeta\\_visa\\_delta1'\n",
       "\\item 'ctarjeta\\_visa\\_delta2'\n",
       "\\item 'ctarjeta\\_visa\\_transacciones\\_delta1'\n",
       "\\item 'ctarjeta\\_visa\\_transacciones\\_delta2'\n",
       "\\item 'mtarjeta\\_visa\\_consumo\\_delta1'\n",
       "\\item 'mtarjeta\\_visa\\_consumo\\_delta2'\n",
       "\\item 'ctarjeta\\_master\\_delta1'\n",
       "\\item 'ctarjeta\\_master\\_delta2'\n",
       "\\item 'ctarjeta\\_master\\_transacciones\\_delta1'\n",
       "\\item 'ctarjeta\\_master\\_transacciones\\_delta2'\n",
       "\\item 'mtarjeta\\_master\\_consumo\\_delta1'\n",
       "\\item 'mtarjeta\\_master\\_consumo\\_delta2'\n",
       "\\item 'cprestamos\\_personales\\_delta1'\n",
       "\\item 'cprestamos\\_personales\\_delta2'\n",
       "\\item 'mprestamos\\_personales\\_delta1'\n",
       "\\item 'mprestamos\\_personales\\_delta2'\n",
       "\\item 'cpayroll\\_trx\\_delta1'\n",
       "\\item 'cpayroll\\_trx\\_delta2'\n",
       "\\item 'mpayroll\\_delta1'\n",
       "\\item 'mpayroll\\_delta2'\n",
       "\\item 'mttarjeta\\_visa\\_debitos\\_automaticos\\_delta1'\n",
       "\\item 'mttarjeta\\_visa\\_debitos\\_automaticos\\_delta2'\n",
       "\\item 'ccomisiones\\_mantenimiento\\_delta1'\n",
       "\\item 'ccomisiones\\_mantenimiento\\_delta2'\n",
       "\\item 'mcomisiones\\_mantenimiento\\_delta1'\n",
       "\\item 'mcomisiones\\_mantenimiento\\_delta2'\n",
       "\\item 'ccomisiones\\_otras\\_delta1'\n",
       "\\item 'ccomisiones\\_otras\\_delta2'\n",
       "\\item 'mtransferencias\\_recibidas\\_delta1'\n",
       "\\item 'mtransferencias\\_recibidas\\_delta2'\n",
       "\\item 'ccallcenter\\_transacciones\\_delta1'\n",
       "\\item 'ccallcenter\\_transacciones\\_delta2'\n",
       "\\item 'thomebanking\\_delta1'\n",
       "\\item 'thomebanking\\_delta2'\n",
       "\\item 'chomebanking\\_transacciones\\_delta1'\n",
       "\\item 'chomebanking\\_transacciones\\_delta2'\n",
       "\\item 'ctrx\\_quarter\\_delta1'\n",
       "\\item 'ctrx\\_quarter\\_delta2'\n",
       "\\item 'Master\\_status\\_delta1'\n",
       "\\item 'Master\\_status\\_delta2'\n",
       "\\item 'Master\\_mfinanciacion\\_limite\\_delta1'\n",
       "\\item 'Master\\_mfinanciacion\\_limite\\_delta2'\n",
       "\\item 'Master\\_Fvencimiento\\_delta1'\n",
       "\\item 'Master\\_Fvencimiento\\_delta2'\n",
       "\\item 'Master\\_msaldototal\\_delta1'\n",
       "\\item 'Master\\_msaldototal\\_delta2'\n",
       "\\item 'Master\\_mlimitecompra\\_delta1'\n",
       "\\item 'Master\\_mlimitecompra\\_delta2'\n",
       "\\item 'Master\\_fultimo\\_cierre\\_delta1'\n",
       "\\item 'Master\\_fultimo\\_cierre\\_delta2'\n",
       "\\item 'Master\\_fechaalta\\_delta1'\n",
       "\\item 'Master\\_fechaalta\\_delta2'\n",
       "\\item 'Master\\_mconsumototal\\_delta1'\n",
       "\\item 'Master\\_mconsumototal\\_delta2'\n",
       "\\item 'Master\\_cconsumos\\_delta1'\n",
       "\\item 'Master\\_cconsumos\\_delta2'\n",
       "\\item 'Master\\_mpagominimo\\_delta1'\n",
       "\\item 'Master\\_mpagominimo\\_delta2'\n",
       "\\item 'Visa\\_status\\_delta1'\n",
       "\\item 'Visa\\_status\\_delta2'\n",
       "\\item 'Visa\\_mfinanciacion\\_limite\\_delta1'\n",
       "\\item 'Visa\\_mfinanciacion\\_limite\\_delta2'\n",
       "\\item 'Visa\\_Fvencimiento\\_delta1'\n",
       "\\item 'Visa\\_Fvencimiento\\_delta2'\n",
       "\\item 'Visa\\_msaldototal\\_delta1'\n",
       "\\item 'Visa\\_msaldototal\\_delta2'\n",
       "\\item 'Visa\\_mlimitecompra\\_delta1'\n",
       "\\item 'Visa\\_mlimitecompra\\_delta2'\n",
       "\\item 'Visa\\_fultimo\\_cierre\\_delta1'\n",
       "\\item 'Visa\\_fultimo\\_cierre\\_delta2'\n",
       "\\item 'Visa\\_fechaalta\\_delta1'\n",
       "\\item 'Visa\\_fechaalta\\_delta2'\n",
       "\\item 'Visa\\_mconsumototal\\_delta1'\n",
       "\\item 'Visa\\_mconsumototal\\_delta2'\n",
       "\\item 'Visa\\_cconsumos\\_delta1'\n",
       "\\item 'Visa\\_cconsumos\\_delta2'\n",
       "\\item 'Visa\\_mpagominimo\\_delta1'\n",
       "\\item 'Visa\\_mpagominimo\\_delta2'\n",
       "\\item 'kmes\\_delta1'\n",
       "\\item 'kmes\\_delta2'\n",
       "\\item 'mpayroll\\_sobre\\_edad\\_delta1'\n",
       "\\item 'mpayroll\\_sobre\\_edad\\_delta2'\n",
       "\\end{enumerate*}\n"
      ],
      "text/markdown": [
       "1. 'numero_de_cliente'\n",
       "2. 'foto_mes'\n",
       "3. 'internet'\n",
       "4. 'cliente_edad'\n",
       "5. 'cliente_antiguedad'\n",
       "6. 'mrentabilidad'\n",
       "7. 'mrentabilidad_annual'\n",
       "8. 'mcomisiones'\n",
       "9. 'mactivos_margen'\n",
       "10. 'mpasivos_margen'\n",
       "11. 'cproductos'\n",
       "12. 'mcuenta_corriente'\n",
       "13. 'mcaja_ahorro'\n",
       "14. 'cdescubierto_preacordado'\n",
       "15. 'mcuentas_saldo'\n",
       "16. 'ctarjeta_visa'\n",
       "17. 'ctarjeta_visa_transacciones'\n",
       "18. 'mtarjeta_visa_consumo'\n",
       "19. 'ctarjeta_master'\n",
       "20. 'ctarjeta_master_transacciones'\n",
       "21. 'mtarjeta_master_consumo'\n",
       "22. 'cprestamos_personales'\n",
       "23. 'mprestamos_personales'\n",
       "24. 'cpayroll_trx'\n",
       "25. 'mpayroll'\n",
       "26. 'mttarjeta_visa_debitos_automaticos'\n",
       "27. 'ccomisiones_mantenimiento'\n",
       "28. 'mcomisiones_mantenimiento'\n",
       "29. 'ccomisiones_otras'\n",
       "30. 'mtransferencias_recibidas'\n",
       "31. 'ccallcenter_transacciones'\n",
       "32. 'thomebanking'\n",
       "33. 'chomebanking_transacciones'\n",
       "34. 'ctrx_quarter'\n",
       "35. 'Master_status'\n",
       "36. 'Master_mfinanciacion_limite'\n",
       "37. 'Master_Fvencimiento'\n",
       "38. 'Master_msaldototal'\n",
       "39. 'Master_mlimitecompra'\n",
       "40. 'Master_fultimo_cierre'\n",
       "41. 'Master_fechaalta'\n",
       "42. 'Master_mconsumototal'\n",
       "43. 'Master_cconsumos'\n",
       "44. 'Master_mpagominimo'\n",
       "45. 'Visa_status'\n",
       "46. 'Visa_mfinanciacion_limite'\n",
       "47. 'Visa_Fvencimiento'\n",
       "48. 'Visa_msaldototal'\n",
       "49. 'Visa_mlimitecompra'\n",
       "50. 'Visa_fultimo_cierre'\n",
       "51. 'Visa_fechaalta'\n",
       "52. 'Visa_mconsumototal'\n",
       "53. 'Visa_cconsumos'\n",
       "54. 'Visa_mpagominimo'\n",
       "55. 'clase_ternaria'\n",
       "56. 'kmes'\n",
       "57. 'mpayroll_sobre_edad'\n",
       "58. 'internet_lag1'\n",
       "59. 'cliente_edad_lag1'\n",
       "60. 'cliente_antiguedad_lag1'\n",
       "61. 'mrentabilidad_lag1'\n",
       "62. 'mrentabilidad_annual_lag1'\n",
       "63. 'mcomisiones_lag1'\n",
       "64. 'mactivos_margen_lag1'\n",
       "65. 'mpasivos_margen_lag1'\n",
       "66. 'cproductos_lag1'\n",
       "67. 'mcuenta_corriente_lag1'\n",
       "68. 'mcaja_ahorro_lag1'\n",
       "69. 'cdescubierto_preacordado_lag1'\n",
       "70. 'mcuentas_saldo_lag1'\n",
       "71. 'ctarjeta_visa_lag1'\n",
       "72. 'ctarjeta_visa_transacciones_lag1'\n",
       "73. 'mtarjeta_visa_consumo_lag1'\n",
       "74. 'ctarjeta_master_lag1'\n",
       "75. 'ctarjeta_master_transacciones_lag1'\n",
       "76. 'mtarjeta_master_consumo_lag1'\n",
       "77. 'cprestamos_personales_lag1'\n",
       "78. 'mprestamos_personales_lag1'\n",
       "79. 'cpayroll_trx_lag1'\n",
       "80. 'mpayroll_lag1'\n",
       "81. 'mttarjeta_visa_debitos_automaticos_lag1'\n",
       "82. 'ccomisiones_mantenimiento_lag1'\n",
       "83. 'mcomisiones_mantenimiento_lag1'\n",
       "84. 'ccomisiones_otras_lag1'\n",
       "85. 'mtransferencias_recibidas_lag1'\n",
       "86. 'ccallcenter_transacciones_lag1'\n",
       "87. 'thomebanking_lag1'\n",
       "88. 'chomebanking_transacciones_lag1'\n",
       "89. 'ctrx_quarter_lag1'\n",
       "90. 'Master_status_lag1'\n",
       "91. 'Master_mfinanciacion_limite_lag1'\n",
       "92. 'Master_Fvencimiento_lag1'\n",
       "93. 'Master_msaldototal_lag1'\n",
       "94. 'Master_mlimitecompra_lag1'\n",
       "95. 'Master_fultimo_cierre_lag1'\n",
       "96. 'Master_fechaalta_lag1'\n",
       "97. 'Master_mconsumototal_lag1'\n",
       "98. 'Master_cconsumos_lag1'\n",
       "99. 'Master_mpagominimo_lag1'\n",
       "100. 'Visa_status_lag1'\n",
       "101. 'Visa_mfinanciacion_limite_lag1'\n",
       "102. 'Visa_Fvencimiento_lag1'\n",
       "103. 'Visa_msaldototal_lag1'\n",
       "104. 'Visa_mlimitecompra_lag1'\n",
       "105. 'Visa_fultimo_cierre_lag1'\n",
       "106. 'Visa_fechaalta_lag1'\n",
       "107. 'Visa_mconsumototal_lag1'\n",
       "108. 'Visa_cconsumos_lag1'\n",
       "109. 'Visa_mpagominimo_lag1'\n",
       "110. 'kmes_lag1'\n",
       "111. 'mpayroll_sobre_edad_lag1'\n",
       "112. 'internet_lag2'\n",
       "113. 'cliente_edad_lag2'\n",
       "114. 'cliente_antiguedad_lag2'\n",
       "115. 'mrentabilidad_lag2'\n",
       "116. 'mrentabilidad_annual_lag2'\n",
       "117. 'mcomisiones_lag2'\n",
       "118. 'mactivos_margen_lag2'\n",
       "119. 'mpasivos_margen_lag2'\n",
       "120. 'cproductos_lag2'\n",
       "121. 'mcuenta_corriente_lag2'\n",
       "122. 'mcaja_ahorro_lag2'\n",
       "123. 'cdescubierto_preacordado_lag2'\n",
       "124. 'mcuentas_saldo_lag2'\n",
       "125. 'ctarjeta_visa_lag2'\n",
       "126. 'ctarjeta_visa_transacciones_lag2'\n",
       "127. 'mtarjeta_visa_consumo_lag2'\n",
       "128. 'ctarjeta_master_lag2'\n",
       "129. 'ctarjeta_master_transacciones_lag2'\n",
       "130. 'mtarjeta_master_consumo_lag2'\n",
       "131. 'cprestamos_personales_lag2'\n",
       "132. 'mprestamos_personales_lag2'\n",
       "133. 'cpayroll_trx_lag2'\n",
       "134. 'mpayroll_lag2'\n",
       "135. 'mttarjeta_visa_debitos_automaticos_lag2'\n",
       "136. 'ccomisiones_mantenimiento_lag2'\n",
       "137. 'mcomisiones_mantenimiento_lag2'\n",
       "138. 'ccomisiones_otras_lag2'\n",
       "139. 'mtransferencias_recibidas_lag2'\n",
       "140. 'ccallcenter_transacciones_lag2'\n",
       "141. 'thomebanking_lag2'\n",
       "142. 'chomebanking_transacciones_lag2'\n",
       "143. 'ctrx_quarter_lag2'\n",
       "144. 'Master_status_lag2'\n",
       "145. 'Master_mfinanciacion_limite_lag2'\n",
       "146. 'Master_Fvencimiento_lag2'\n",
       "147. 'Master_msaldototal_lag2'\n",
       "148. 'Master_mlimitecompra_lag2'\n",
       "149. 'Master_fultimo_cierre_lag2'\n",
       "150. 'Master_fechaalta_lag2'\n",
       "151. 'Master_mconsumototal_lag2'\n",
       "152. 'Master_cconsumos_lag2'\n",
       "153. 'Master_mpagominimo_lag2'\n",
       "154. 'Visa_status_lag2'\n",
       "155. 'Visa_mfinanciacion_limite_lag2'\n",
       "156. 'Visa_Fvencimiento_lag2'\n",
       "157. 'Visa_msaldototal_lag2'\n",
       "158. 'Visa_mlimitecompra_lag2'\n",
       "159. 'Visa_fultimo_cierre_lag2'\n",
       "160. 'Visa_fechaalta_lag2'\n",
       "161. 'Visa_mconsumototal_lag2'\n",
       "162. 'Visa_cconsumos_lag2'\n",
       "163. 'Visa_mpagominimo_lag2'\n",
       "164. 'kmes_lag2'\n",
       "165. 'mpayroll_sobre_edad_lag2'\n",
       "166. 'internet_delta1'\n",
       "167. 'internet_delta2'\n",
       "168. 'cliente_edad_delta1'\n",
       "169. 'cliente_edad_delta2'\n",
       "170. 'cliente_antiguedad_delta1'\n",
       "171. 'cliente_antiguedad_delta2'\n",
       "172. 'mrentabilidad_delta1'\n",
       "173. 'mrentabilidad_delta2'\n",
       "174. 'mrentabilidad_annual_delta1'\n",
       "175. 'mrentabilidad_annual_delta2'\n",
       "176. 'mcomisiones_delta1'\n",
       "177. 'mcomisiones_delta2'\n",
       "178. 'mactivos_margen_delta1'\n",
       "179. 'mactivos_margen_delta2'\n",
       "180. 'mpasivos_margen_delta1'\n",
       "181. 'mpasivos_margen_delta2'\n",
       "182. 'cproductos_delta1'\n",
       "183. 'cproductos_delta2'\n",
       "184. 'mcuenta_corriente_delta1'\n",
       "185. 'mcuenta_corriente_delta2'\n",
       "186. 'mcaja_ahorro_delta1'\n",
       "187. 'mcaja_ahorro_delta2'\n",
       "188. 'cdescubierto_preacordado_delta1'\n",
       "189. 'cdescubierto_preacordado_delta2'\n",
       "190. 'mcuentas_saldo_delta1'\n",
       "191. 'mcuentas_saldo_delta2'\n",
       "192. 'ctarjeta_visa_delta1'\n",
       "193. 'ctarjeta_visa_delta2'\n",
       "194. 'ctarjeta_visa_transacciones_delta1'\n",
       "195. 'ctarjeta_visa_transacciones_delta2'\n",
       "196. 'mtarjeta_visa_consumo_delta1'\n",
       "197. 'mtarjeta_visa_consumo_delta2'\n",
       "198. 'ctarjeta_master_delta1'\n",
       "199. 'ctarjeta_master_delta2'\n",
       "200. 'ctarjeta_master_transacciones_delta1'\n",
       "201. 'ctarjeta_master_transacciones_delta2'\n",
       "202. 'mtarjeta_master_consumo_delta1'\n",
       "203. 'mtarjeta_master_consumo_delta2'\n",
       "204. 'cprestamos_personales_delta1'\n",
       "205. 'cprestamos_personales_delta2'\n",
       "206. 'mprestamos_personales_delta1'\n",
       "207. 'mprestamos_personales_delta2'\n",
       "208. 'cpayroll_trx_delta1'\n",
       "209. 'cpayroll_trx_delta2'\n",
       "210. 'mpayroll_delta1'\n",
       "211. 'mpayroll_delta2'\n",
       "212. 'mttarjeta_visa_debitos_automaticos_delta1'\n",
       "213. 'mttarjeta_visa_debitos_automaticos_delta2'\n",
       "214. 'ccomisiones_mantenimiento_delta1'\n",
       "215. 'ccomisiones_mantenimiento_delta2'\n",
       "216. 'mcomisiones_mantenimiento_delta1'\n",
       "217. 'mcomisiones_mantenimiento_delta2'\n",
       "218. 'ccomisiones_otras_delta1'\n",
       "219. 'ccomisiones_otras_delta2'\n",
       "220. 'mtransferencias_recibidas_delta1'\n",
       "221. 'mtransferencias_recibidas_delta2'\n",
       "222. 'ccallcenter_transacciones_delta1'\n",
       "223. 'ccallcenter_transacciones_delta2'\n",
       "224. 'thomebanking_delta1'\n",
       "225. 'thomebanking_delta2'\n",
       "226. 'chomebanking_transacciones_delta1'\n",
       "227. 'chomebanking_transacciones_delta2'\n",
       "228. 'ctrx_quarter_delta1'\n",
       "229. 'ctrx_quarter_delta2'\n",
       "230. 'Master_status_delta1'\n",
       "231. 'Master_status_delta2'\n",
       "232. 'Master_mfinanciacion_limite_delta1'\n",
       "233. 'Master_mfinanciacion_limite_delta2'\n",
       "234. 'Master_Fvencimiento_delta1'\n",
       "235. 'Master_Fvencimiento_delta2'\n",
       "236. 'Master_msaldototal_delta1'\n",
       "237. 'Master_msaldototal_delta2'\n",
       "238. 'Master_mlimitecompra_delta1'\n",
       "239. 'Master_mlimitecompra_delta2'\n",
       "240. 'Master_fultimo_cierre_delta1'\n",
       "241. 'Master_fultimo_cierre_delta2'\n",
       "242. 'Master_fechaalta_delta1'\n",
       "243. 'Master_fechaalta_delta2'\n",
       "244. 'Master_mconsumototal_delta1'\n",
       "245. 'Master_mconsumototal_delta2'\n",
       "246. 'Master_cconsumos_delta1'\n",
       "247. 'Master_cconsumos_delta2'\n",
       "248. 'Master_mpagominimo_delta1'\n",
       "249. 'Master_mpagominimo_delta2'\n",
       "250. 'Visa_status_delta1'\n",
       "251. 'Visa_status_delta2'\n",
       "252. 'Visa_mfinanciacion_limite_delta1'\n",
       "253. 'Visa_mfinanciacion_limite_delta2'\n",
       "254. 'Visa_Fvencimiento_delta1'\n",
       "255. 'Visa_Fvencimiento_delta2'\n",
       "256. 'Visa_msaldototal_delta1'\n",
       "257. 'Visa_msaldototal_delta2'\n",
       "258. 'Visa_mlimitecompra_delta1'\n",
       "259. 'Visa_mlimitecompra_delta2'\n",
       "260. 'Visa_fultimo_cierre_delta1'\n",
       "261. 'Visa_fultimo_cierre_delta2'\n",
       "262. 'Visa_fechaalta_delta1'\n",
       "263. 'Visa_fechaalta_delta2'\n",
       "264. 'Visa_mconsumototal_delta1'\n",
       "265. 'Visa_mconsumototal_delta2'\n",
       "266. 'Visa_cconsumos_delta1'\n",
       "267. 'Visa_cconsumos_delta2'\n",
       "268. 'Visa_mpagominimo_delta1'\n",
       "269. 'Visa_mpagominimo_delta2'\n",
       "270. 'kmes_delta1'\n",
       "271. 'kmes_delta2'\n",
       "272. 'mpayroll_sobre_edad_delta1'\n",
       "273. 'mpayroll_sobre_edad_delta2'\n",
       "\n",
       "\n"
      ],
      "text/plain": [
       "  [1] \"numero_de_cliente\"                        \n",
       "  [2] \"foto_mes\"                                 \n",
       "  [3] \"internet\"                                 \n",
       "  [4] \"cliente_edad\"                             \n",
       "  [5] \"cliente_antiguedad\"                       \n",
       "  [6] \"mrentabilidad\"                            \n",
       "  [7] \"mrentabilidad_annual\"                     \n",
       "  [8] \"mcomisiones\"                              \n",
       "  [9] \"mactivos_margen\"                          \n",
       " [10] \"mpasivos_margen\"                          \n",
       " [11] \"cproductos\"                               \n",
       " [12] \"mcuenta_corriente\"                        \n",
       " [13] \"mcaja_ahorro\"                             \n",
       " [14] \"cdescubierto_preacordado\"                 \n",
       " [15] \"mcuentas_saldo\"                           \n",
       " [16] \"ctarjeta_visa\"                            \n",
       " [17] \"ctarjeta_visa_transacciones\"              \n",
       " [18] \"mtarjeta_visa_consumo\"                    \n",
       " [19] \"ctarjeta_master\"                          \n",
       " [20] \"ctarjeta_master_transacciones\"            \n",
       " [21] \"mtarjeta_master_consumo\"                  \n",
       " [22] \"cprestamos_personales\"                    \n",
       " [23] \"mprestamos_personales\"                    \n",
       " [24] \"cpayroll_trx\"                             \n",
       " [25] \"mpayroll\"                                 \n",
       " [26] \"mttarjeta_visa_debitos_automaticos\"       \n",
       " [27] \"ccomisiones_mantenimiento\"                \n",
       " [28] \"mcomisiones_mantenimiento\"                \n",
       " [29] \"ccomisiones_otras\"                        \n",
       " [30] \"mtransferencias_recibidas\"                \n",
       " [31] \"ccallcenter_transacciones\"                \n",
       " [32] \"thomebanking\"                             \n",
       " [33] \"chomebanking_transacciones\"               \n",
       " [34] \"ctrx_quarter\"                             \n",
       " [35] \"Master_status\"                            \n",
       " [36] \"Master_mfinanciacion_limite\"              \n",
       " [37] \"Master_Fvencimiento\"                      \n",
       " [38] \"Master_msaldototal\"                       \n",
       " [39] \"Master_mlimitecompra\"                     \n",
       " [40] \"Master_fultimo_cierre\"                    \n",
       " [41] \"Master_fechaalta\"                         \n",
       " [42] \"Master_mconsumototal\"                     \n",
       " [43] \"Master_cconsumos\"                         \n",
       " [44] \"Master_mpagominimo\"                       \n",
       " [45] \"Visa_status\"                              \n",
       " [46] \"Visa_mfinanciacion_limite\"                \n",
       " [47] \"Visa_Fvencimiento\"                        \n",
       " [48] \"Visa_msaldototal\"                         \n",
       " [49] \"Visa_mlimitecompra\"                       \n",
       " [50] \"Visa_fultimo_cierre\"                      \n",
       " [51] \"Visa_fechaalta\"                           \n",
       " [52] \"Visa_mconsumototal\"                       \n",
       " [53] \"Visa_cconsumos\"                           \n",
       " [54] \"Visa_mpagominimo\"                         \n",
       " [55] \"clase_ternaria\"                           \n",
       " [56] \"kmes\"                                     \n",
       " [57] \"mpayroll_sobre_edad\"                      \n",
       " [58] \"internet_lag1\"                            \n",
       " [59] \"cliente_edad_lag1\"                        \n",
       " [60] \"cliente_antiguedad_lag1\"                  \n",
       " [61] \"mrentabilidad_lag1\"                       \n",
       " [62] \"mrentabilidad_annual_lag1\"                \n",
       " [63] \"mcomisiones_lag1\"                         \n",
       " [64] \"mactivos_margen_lag1\"                     \n",
       " [65] \"mpasivos_margen_lag1\"                     \n",
       " [66] \"cproductos_lag1\"                          \n",
       " [67] \"mcuenta_corriente_lag1\"                   \n",
       " [68] \"mcaja_ahorro_lag1\"                        \n",
       " [69] \"cdescubierto_preacordado_lag1\"            \n",
       " [70] \"mcuentas_saldo_lag1\"                      \n",
       " [71] \"ctarjeta_visa_lag1\"                       \n",
       " [72] \"ctarjeta_visa_transacciones_lag1\"         \n",
       " [73] \"mtarjeta_visa_consumo_lag1\"               \n",
       " [74] \"ctarjeta_master_lag1\"                     \n",
       " [75] \"ctarjeta_master_transacciones_lag1\"       \n",
       " [76] \"mtarjeta_master_consumo_lag1\"             \n",
       " [77] \"cprestamos_personales_lag1\"               \n",
       " [78] \"mprestamos_personales_lag1\"               \n",
       " [79] \"cpayroll_trx_lag1\"                        \n",
       " [80] \"mpayroll_lag1\"                            \n",
       " [81] \"mttarjeta_visa_debitos_automaticos_lag1\"  \n",
       " [82] \"ccomisiones_mantenimiento_lag1\"           \n",
       " [83] \"mcomisiones_mantenimiento_lag1\"           \n",
       " [84] \"ccomisiones_otras_lag1\"                   \n",
       " [85] \"mtransferencias_recibidas_lag1\"           \n",
       " [86] \"ccallcenter_transacciones_lag1\"           \n",
       " [87] \"thomebanking_lag1\"                        \n",
       " [88] \"chomebanking_transacciones_lag1\"          \n",
       " [89] \"ctrx_quarter_lag1\"                        \n",
       " [90] \"Master_status_lag1\"                       \n",
       " [91] \"Master_mfinanciacion_limite_lag1\"         \n",
       " [92] \"Master_Fvencimiento_lag1\"                 \n",
       " [93] \"Master_msaldototal_lag1\"                  \n",
       " [94] \"Master_mlimitecompra_lag1\"                \n",
       " [95] \"Master_fultimo_cierre_lag1\"               \n",
       " [96] \"Master_fechaalta_lag1\"                    \n",
       " [97] \"Master_mconsumototal_lag1\"                \n",
       " [98] \"Master_cconsumos_lag1\"                    \n",
       " [99] \"Master_mpagominimo_lag1\"                  \n",
       "[100] \"Visa_status_lag1\"                         \n",
       "[101] \"Visa_mfinanciacion_limite_lag1\"           \n",
       "[102] \"Visa_Fvencimiento_lag1\"                   \n",
       "[103] \"Visa_msaldototal_lag1\"                    \n",
       "[104] \"Visa_mlimitecompra_lag1\"                  \n",
       "[105] \"Visa_fultimo_cierre_lag1\"                 \n",
       "[106] \"Visa_fechaalta_lag1\"                      \n",
       "[107] \"Visa_mconsumototal_lag1\"                  \n",
       "[108] \"Visa_cconsumos_lag1\"                      \n",
       "[109] \"Visa_mpagominimo_lag1\"                    \n",
       "[110] \"kmes_lag1\"                                \n",
       "[111] \"mpayroll_sobre_edad_lag1\"                 \n",
       "[112] \"internet_lag2\"                            \n",
       "[113] \"cliente_edad_lag2\"                        \n",
       "[114] \"cliente_antiguedad_lag2\"                  \n",
       "[115] \"mrentabilidad_lag2\"                       \n",
       "[116] \"mrentabilidad_annual_lag2\"                \n",
       "[117] \"mcomisiones_lag2\"                         \n",
       "[118] \"mactivos_margen_lag2\"                     \n",
       "[119] \"mpasivos_margen_lag2\"                     \n",
       "[120] \"cproductos_lag2\"                          \n",
       "[121] \"mcuenta_corriente_lag2\"                   \n",
       "[122] \"mcaja_ahorro_lag2\"                        \n",
       "[123] \"cdescubierto_preacordado_lag2\"            \n",
       "[124] \"mcuentas_saldo_lag2\"                      \n",
       "[125] \"ctarjeta_visa_lag2\"                       \n",
       "[126] \"ctarjeta_visa_transacciones_lag2\"         \n",
       "[127] \"mtarjeta_visa_consumo_lag2\"               \n",
       "[128] \"ctarjeta_master_lag2\"                     \n",
       "[129] \"ctarjeta_master_transacciones_lag2\"       \n",
       "[130] \"mtarjeta_master_consumo_lag2\"             \n",
       "[131] \"cprestamos_personales_lag2\"               \n",
       "[132] \"mprestamos_personales_lag2\"               \n",
       "[133] \"cpayroll_trx_lag2\"                        \n",
       "[134] \"mpayroll_lag2\"                            \n",
       "[135] \"mttarjeta_visa_debitos_automaticos_lag2\"  \n",
       "[136] \"ccomisiones_mantenimiento_lag2\"           \n",
       "[137] \"mcomisiones_mantenimiento_lag2\"           \n",
       "[138] \"ccomisiones_otras_lag2\"                   \n",
       "[139] \"mtransferencias_recibidas_lag2\"           \n",
       "[140] \"ccallcenter_transacciones_lag2\"           \n",
       "[141] \"thomebanking_lag2\"                        \n",
       "[142] \"chomebanking_transacciones_lag2\"          \n",
       "[143] \"ctrx_quarter_lag2\"                        \n",
       "[144] \"Master_status_lag2\"                       \n",
       "[145] \"Master_mfinanciacion_limite_lag2\"         \n",
       "[146] \"Master_Fvencimiento_lag2\"                 \n",
       "[147] \"Master_msaldototal_lag2\"                  \n",
       "[148] \"Master_mlimitecompra_lag2\"                \n",
       "[149] \"Master_fultimo_cierre_lag2\"               \n",
       "[150] \"Master_fechaalta_lag2\"                    \n",
       "[151] \"Master_mconsumototal_lag2\"                \n",
       "[152] \"Master_cconsumos_lag2\"                    \n",
       "[153] \"Master_mpagominimo_lag2\"                  \n",
       "[154] \"Visa_status_lag2\"                         \n",
       "[155] \"Visa_mfinanciacion_limite_lag2\"           \n",
       "[156] \"Visa_Fvencimiento_lag2\"                   \n",
       "[157] \"Visa_msaldototal_lag2\"                    \n",
       "[158] \"Visa_mlimitecompra_lag2\"                  \n",
       "[159] \"Visa_fultimo_cierre_lag2\"                 \n",
       "[160] \"Visa_fechaalta_lag2\"                      \n",
       "[161] \"Visa_mconsumototal_lag2\"                  \n",
       "[162] \"Visa_cconsumos_lag2\"                      \n",
       "[163] \"Visa_mpagominimo_lag2\"                    \n",
       "[164] \"kmes_lag2\"                                \n",
       "[165] \"mpayroll_sobre_edad_lag2\"                 \n",
       "[166] \"internet_delta1\"                          \n",
       "[167] \"internet_delta2\"                          \n",
       "[168] \"cliente_edad_delta1\"                      \n",
       "[169] \"cliente_edad_delta2\"                      \n",
       "[170] \"cliente_antiguedad_delta1\"                \n",
       "[171] \"cliente_antiguedad_delta2\"                \n",
       "[172] \"mrentabilidad_delta1\"                     \n",
       "[173] \"mrentabilidad_delta2\"                     \n",
       "[174] \"mrentabilidad_annual_delta1\"              \n",
       "[175] \"mrentabilidad_annual_delta2\"              \n",
       "[176] \"mcomisiones_delta1\"                       \n",
       "[177] \"mcomisiones_delta2\"                       \n",
       "[178] \"mactivos_margen_delta1\"                   \n",
       "[179] \"mactivos_margen_delta2\"                   \n",
       "[180] \"mpasivos_margen_delta1\"                   \n",
       "[181] \"mpasivos_margen_delta2\"                   \n",
       "[182] \"cproductos_delta1\"                        \n",
       "[183] \"cproductos_delta2\"                        \n",
       "[184] \"mcuenta_corriente_delta1\"                 \n",
       "[185] \"mcuenta_corriente_delta2\"                 \n",
       "[186] \"mcaja_ahorro_delta1\"                      \n",
       "[187] \"mcaja_ahorro_delta2\"                      \n",
       "[188] \"cdescubierto_preacordado_delta1\"          \n",
       "[189] \"cdescubierto_preacordado_delta2\"          \n",
       "[190] \"mcuentas_saldo_delta1\"                    \n",
       "[191] \"mcuentas_saldo_delta2\"                    \n",
       "[192] \"ctarjeta_visa_delta1\"                     \n",
       "[193] \"ctarjeta_visa_delta2\"                     \n",
       "[194] \"ctarjeta_visa_transacciones_delta1\"       \n",
       "[195] \"ctarjeta_visa_transacciones_delta2\"       \n",
       "[196] \"mtarjeta_visa_consumo_delta1\"             \n",
       "[197] \"mtarjeta_visa_consumo_delta2\"             \n",
       "[198] \"ctarjeta_master_delta1\"                   \n",
       "[199] \"ctarjeta_master_delta2\"                   \n",
       "[200] \"ctarjeta_master_transacciones_delta1\"     \n",
       "[201] \"ctarjeta_master_transacciones_delta2\"     \n",
       "[202] \"mtarjeta_master_consumo_delta1\"           \n",
       "[203] \"mtarjeta_master_consumo_delta2\"           \n",
       "[204] \"cprestamos_personales_delta1\"             \n",
       "[205] \"cprestamos_personales_delta2\"             \n",
       "[206] \"mprestamos_personales_delta1\"             \n",
       "[207] \"mprestamos_personales_delta2\"             \n",
       "[208] \"cpayroll_trx_delta1\"                      \n",
       "[209] \"cpayroll_trx_delta2\"                      \n",
       "[210] \"mpayroll_delta1\"                          \n",
       "[211] \"mpayroll_delta2\"                          \n",
       "[212] \"mttarjeta_visa_debitos_automaticos_delta1\"\n",
       "[213] \"mttarjeta_visa_debitos_automaticos_delta2\"\n",
       "[214] \"ccomisiones_mantenimiento_delta1\"         \n",
       "[215] \"ccomisiones_mantenimiento_delta2\"         \n",
       "[216] \"mcomisiones_mantenimiento_delta1\"         \n",
       "[217] \"mcomisiones_mantenimiento_delta2\"         \n",
       "[218] \"ccomisiones_otras_delta1\"                 \n",
       "[219] \"ccomisiones_otras_delta2\"                 \n",
       "[220] \"mtransferencias_recibidas_delta1\"         \n",
       "[221] \"mtransferencias_recibidas_delta2\"         \n",
       "[222] \"ccallcenter_transacciones_delta1\"         \n",
       "[223] \"ccallcenter_transacciones_delta2\"         \n",
       "[224] \"thomebanking_delta1\"                      \n",
       "[225] \"thomebanking_delta2\"                      \n",
       "[226] \"chomebanking_transacciones_delta1\"        \n",
       "[227] \"chomebanking_transacciones_delta2\"        \n",
       "[228] \"ctrx_quarter_delta1\"                      \n",
       "[229] \"ctrx_quarter_delta2\"                      \n",
       "[230] \"Master_status_delta1\"                     \n",
       "[231] \"Master_status_delta2\"                     \n",
       "[232] \"Master_mfinanciacion_limite_delta1\"       \n",
       "[233] \"Master_mfinanciacion_limite_delta2\"       \n",
       "[234] \"Master_Fvencimiento_delta1\"               \n",
       "[235] \"Master_Fvencimiento_delta2\"               \n",
       "[236] \"Master_msaldototal_delta1\"                \n",
       "[237] \"Master_msaldototal_delta2\"                \n",
       "[238] \"Master_mlimitecompra_delta1\"              \n",
       "[239] \"Master_mlimitecompra_delta2\"              \n",
       "[240] \"Master_fultimo_cierre_delta1\"             \n",
       "[241] \"Master_fultimo_cierre_delta2\"             \n",
       "[242] \"Master_fechaalta_delta1\"                  \n",
       "[243] \"Master_fechaalta_delta2\"                  \n",
       "[244] \"Master_mconsumototal_delta1\"              \n",
       "[245] \"Master_mconsumototal_delta2\"              \n",
       "[246] \"Master_cconsumos_delta1\"                  \n",
       "[247] \"Master_cconsumos_delta2\"                  \n",
       "[248] \"Master_mpagominimo_delta1\"                \n",
       "[249] \"Master_mpagominimo_delta2\"                \n",
       "[250] \"Visa_status_delta1\"                       \n",
       "[251] \"Visa_status_delta2\"                       \n",
       "[252] \"Visa_mfinanciacion_limite_delta1\"         \n",
       "[253] \"Visa_mfinanciacion_limite_delta2\"         \n",
       "[254] \"Visa_Fvencimiento_delta1\"                 \n",
       "[255] \"Visa_Fvencimiento_delta2\"                 \n",
       "[256] \"Visa_msaldototal_delta1\"                  \n",
       "[257] \"Visa_msaldototal_delta2\"                  \n",
       "[258] \"Visa_mlimitecompra_delta1\"                \n",
       "[259] \"Visa_mlimitecompra_delta2\"                \n",
       "[260] \"Visa_fultimo_cierre_delta1\"               \n",
       "[261] \"Visa_fultimo_cierre_delta2\"               \n",
       "[262] \"Visa_fechaalta_delta1\"                    \n",
       "[263] \"Visa_fechaalta_delta2\"                    \n",
       "[264] \"Visa_mconsumototal_delta1\"                \n",
       "[265] \"Visa_mconsumototal_delta2\"                \n",
       "[266] \"Visa_cconsumos_delta1\"                    \n",
       "[267] \"Visa_cconsumos_delta2\"                    \n",
       "[268] \"Visa_mpagominimo_delta1\"                  \n",
       "[269] \"Visa_mpagominimo_delta2\"                  \n",
       "[270] \"kmes_delta1\"                              \n",
       "[271] \"kmes_delta2\"                              \n",
       "[272] \"mpayroll_sobre_edad_delta1\"               \n",
       "[273] \"mpayroll_sobre_edad_delta2\"               "
      ]
     },
     "metadata": {},
     "output_type": "display_data"
    }
   ],
   "source": [
    "ncol(dataset)\n",
    "colnames(dataset)"
   ]
  },
  {
   "cell_type": "markdown",
   "id": "l8mKij0XaDY0",
   "metadata": {
    "id": "l8mKij0XaDY0"
   },
   "source": [
    "#### 7.3.1.6  FEhist Reduccion dimensionalidad con canaritos\n",
    "\n",
    "Esta etapa solo se mostrará a la *modalidad Anlista Sr* por algun canal secreto de forma de no confundir a los *Analista Jr*  nni distraer con detalles operativos a la estratégica *Modalidad Gerencial*"
   ]
  },
  {
   "cell_type": "code",
   "execution_count": 50,
   "id": "QrmnPtlBcEgx",
   "metadata": {
    "id": "QrmnPtlBcEgx"
   },
   "outputs": [],
   "source": [
    "# No se implementa la reduccion de la dimensionalidad con canaritos"
   ]
  },
  {
   "cell_type": "markdown",
   "id": "cf91ea5e-3341-4afb-8d05-cc4923d3d1e1",
   "metadata": {
    "id": "cf91ea5e-3341-4afb-8d05-cc4923d3d1e1"
   },
   "source": [
    "### 7.3.2 Modelado"
   ]
  },
  {
   "cell_type": "markdown",
   "id": "526048e4-8cf2-4023-bd2d-a70e4e9ff157",
   "metadata": {
    "id": "526048e4-8cf2-4023-bd2d-a70e4e9ff157"
   },
   "source": [
    "#### 7.3.2.1 Training Strategy\n",
    "\n",
    "Esta etapa de Workflow de  Training Strategy esta pensada para la *Modalidad Gerencial* que posee el dataset de [202005, 202109]\n",
    "<br> Si usted es un Analista, posee el periodo de [201901, 202109] y deberá experimentar en que meses le conviene experimentar\n",
    "\n",
    "<br> A la *Modalidad Gerencial* no se le complicada la vida con el undersampling de los continua, por eso PARAM$trainingstrategy$training_pct <- 1.0\n",
    "<br> Sin embargo, si usted es  *Analista SR* posee un dataset 50 veces ( filas x columnas) más grande que la *Modalidad Gerencial*  y por un tema de velocidad y experimentación más rápida puede llegar a necesitar activar el undersampling de la clase mayoritaria, a pesar de estar corriendo en Google Cloud."
   ]
  },
  {
   "cell_type": "markdown",
   "id": "f16bc1c1-b3ea-43ca-9d3c-53f8f9ab8ec1",
   "metadata": {
    "id": "f16bc1c1-b3ea-43ca-9d3c-53f8f9ab8ec1"
   },
   "source": [
    "Se hace una estrategia de entrenamiento muy sencilla, tomando todos los meses posibles, SIN eliminar nada x pandemia ni por ningun otro motivo\n",
    "\n",
    "* future = 202109  obviamente completo\n",
    "\n",
    "* final_train =  [ 202005, 202107 ]  con un undersampling de los CONTINUA del 2% por un tema de velocidad\n",
    "\n",
    "* training\n",
    "   * testing = NO HAY\n",
    "   * validation =  202107   completo, sin undersampling\n",
    "   * training = [ 202005, 202106 ]  donde se consideran el 100% de los CONTINUA"
   ]
  },
  {
   "cell_type": "code",
   "execution_count": 51,
   "id": "2c9c0a42-ba58-4264-8566-091a6161716f",
   "metadata": {
    "id": "2c9c0a42-ba58-4264-8566-091a6161716f"
   },
   "outputs": [],
   "source": [
    "PARAM$trainingstrategy$validate <- c(202107)\n",
    "\n",
    "PARAM$trainingstrategy$training <- c(\n",
    "  202106, 202105, 202104, 202103, 202102, 202101,\n",
    "  202012, 202011, 202010, 202009, 202008, 202007,\n",
    "  202006, 202005, 202004, 202003, 202002, 202001, 201912, 201911, 201910, 201909, 201908, 201907,\n",
    "    201906, 201905, 201904, 201903, 201902, 201901\n",
    ")\n",
    "\n",
    "\n",
    "PARAM$trainingstrategy$training_pct <- 1.0\n",
    "\n",
    "\n",
    "PARAM$trainingstrategy$positivos <- c( \"BAJA+1\", \"BAJA+2\")"
   ]
  },
  {
   "cell_type": "code",
   "execution_count": 52,
   "id": "tv_trHWAj4a8",
   "metadata": {
    "id": "tv_trHWAj4a8"
   },
   "outputs": [],
   "source": [
    "# seteo la clase01   1={BAJA+1, BAJA+2}   0={CONTINUA}\n",
    "dataset[, clase01 := ifelse( clase_ternaria %in% PARAM$trainingstrategy$positivos, 1, 0 )]"
   ]
  },
  {
   "cell_type": "code",
   "execution_count": 53,
   "id": "Ud_XDKSIj8f_",
   "metadata": {
    "id": "Ud_XDKSIj8f_"
   },
   "outputs": [],
   "source": [
    "# los campos en los que se entrena\n",
    "campos_buenos <- copy( setdiff(\n",
    "    colnames(dataset), c(\"clase_ternaria\",\"clase01\",\"azar\"))\n",
    ")"
   ]
  },
  {
   "cell_type": "code",
   "execution_count": 54,
   "id": "rFKgZZPSj_Pa",
   "metadata": {
    "id": "rFKgZZPSj_Pa"
   },
   "outputs": [],
   "source": [
    "# preparo para que se puede hacer undersampling de los CONTINUA\n",
    "#  solamente por un tema de VELOCIDAD\n",
    "set.seed(PARAM$semilla_primigenia, kind = \"L'Ecuyer-CMRG\")\n",
    "dataset[, azar:=runif(nrow(dataset))]\n",
    "\n",
    "# undersampling de los CONTINUA\n",
    "dataset[, fold_train :=  foto_mes %in%  PARAM$trainingstrategy$training &\n",
    "    (clase_ternaria %in% c(\"BAJA+1\", \"BAJA+2\") |\n",
    "     azar < PARAM$trainingstrategy$training_pct ) ]\n",
    "\n",
    "\n",
    "if( !require(\"lightgbm\")) install.packages(\"lightgbm\")\n",
    "require(\"lightgbm\")\n",
    "\n",
    "dtrain <- lgb.Dataset(\n",
    "  data= data.matrix(dataset[fold_train == TRUE, campos_buenos, with = FALSE]),\n",
    "  label= dataset[fold_train == TRUE, clase01],\n",
    "  free_raw_data= TRUE\n",
    ")"
   ]
  },
  {
   "cell_type": "code",
   "execution_count": 55,
   "id": "B3yo98kQkHcP",
   "metadata": {
    "id": "B3yo98kQkHcP"
   },
   "outputs": [
    {
     "data": {
      "text/html": [
       "33053"
      ],
      "text/latex": [
       "33053"
      ],
      "text/markdown": [
       "33053"
      ],
      "text/plain": [
       "[1] 33053"
      ]
     },
     "metadata": {},
     "output_type": "display_data"
    }
   ],
   "source": [
    "# datos de validation\n",
    "dvalidate <- lgb.Dataset(\n",
    "  data= data.matrix(dataset[foto_mes %in% PARAM$trainingstrategy$validate, campos_buenos, with = FALSE]),\n",
    "  label= dataset[foto_mes %in% PARAM$trainingstrategy$validate, clase01],\n",
    "  free_raw_data= TRUE\n",
    ")\n",
    "\n",
    "nrow(dvalidate)"
   ]
  },
  {
   "cell_type": "markdown",
   "id": "28e8f788-551c-4e50-9029-302ac0834287",
   "metadata": {
    "id": "28e8f788-551c-4e50-9029-302ac0834287"
   },
   "source": [
    "####  7.3.2.2. Hyperparameter Tuning"
   ]
  },
  {
   "cell_type": "markdown",
   "id": "bf5fc836-e222-4aeb-a6a8-157346895ef7",
   "metadata": {
    "id": "bf5fc836-e222-4aeb-a6a8-157346895ef7"
   },
   "source": [
    "* Clase binaria que se optimiza :  positivos = [ BAJA+1, BAJA+2 ]"
   ]
  },
  {
   "cell_type": "markdown",
   "id": "885c03b5-77bc-4510-a930-0d1f14b52ffb",
   "metadata": {
    "id": "885c03b5-77bc-4510-a930-0d1f14b52ffb"
   },
   "source": [
    "* Metrica que se optimiza **AUC** Area Under Curve de la  ROC Curve\n",
    "\n",
    "es muy importante notar que intencionalmente  **NO** se está optimizando la funcion de ganancia del problema"
   ]
  },
  {
   "cell_type": "markdown",
   "id": "b7e6f95c-66ef-4ab9-9ba3-fcc099816704",
   "metadata": {
    "id": "b7e6f95c-66ef-4ab9-9ba3-fcc099816704"
   },
   "source": [
    "* Cantidad de iteraciones inteligentes de la Optimizacion Bayesiana = **10**"
   ]
  },
  {
   "cell_type": "markdown",
   "id": "fe047a87-e2d0-4418-97dd-0a881e66d73a",
   "metadata": {
    "id": "fe047a87-e2d0-4418-97dd-0a881e66d73a"
   },
   "source": [
    "* Parametros no default, fijos de LightGBM que no se optimizan\n",
    "  * max_bin = 31 , Alienigenas Ancestrales contruyeron las pirámides y dejaron a la humanidad en un jeroglifico  *max_bin=31*\n",
    "  * feature_fraction = 0.5  para poner algo que generalmente no falla\n",
    "  * learning_rate = 0.03  para que aprenda lento\n"
   ]
  },
  {
   "cell_type": "markdown",
   "id": "1e7da08e-fe57-4681-beff-11fe963116bd",
   "metadata": {
    "id": "1e7da08e-fe57-4681-beff-11fe963116bd"
   },
   "source": [
    "* Parametros que se optimizan en la Bayesian Optimization\n",
    "  * num_leaves  [8, 256]\n",
    "  * min_data_in_leaf  [8, 8192]"
   ]
  },
  {
   "cell_type": "code",
   "execution_count": 56,
   "id": "34V6y4GetKq_",
   "metadata": {
    "id": "34V6y4GetKq_"
   },
   "outputs": [],
   "source": [
    "# paquetes necesarios para la Bayesian Optimization\n",
    "if(!require(\"DiceKriging\")) install.packages(\"DiceKriging\")\n",
    "require(\"DiceKriging\")\n",
    "\n",
    "if(!require(\"mlrMBO\")) install.packages(\"mlrMBO\")\n",
    "require(\"mlrMBO\")"
   ]
  },
  {
   "cell_type": "markdown",
   "id": "UFbDSYtH0TTT",
   "metadata": {
    "id": "UFbDSYtH0TTT"
   },
   "source": [
    "Definición de la Bayesian Optimization\n",
    "<br> Si se desea optimizar un hiperparámetro que esta como fijo, debe QUITARSE de param_fijos y agregarse a PARAM$hipeparametertuning$hs"
   ]
  },
  {
   "cell_type": "code",
   "execution_count": 57,
   "id": "e44ab08a-f7de-4df7-99d7-9be730cfd552",
   "metadata": {},
   "outputs": [],
   "source": [
    "# Iteraciones mínimas para correr rápido en aula (ajustar para producción)\n",
    "PARAM$hipeparametertuning$num_iterations <- 30  # cambiar a 100–300 si buscás más precisión\n",
    "\n",
    "# Parámetros fijos que NO se tocan en el tuning\n",
    "PARAM$lgbm$param_fijos <- list(\n",
    "  objective           = \"binary\",\n",
    "  metric              = \"auc\",\n",
    "  first_metric_only   = TRUE,\n",
    "  boost_from_average  = TRUE,\n",
    "  feature_pre_filter  = FALSE,\n",
    "  verbosity           = -100,\n",
    "  force_row_wise      = TRUE,\n",
    "  seed                = PARAM$semilla_primigenia,\n",
    "  max_bin             = 31,\n",
    "  num_iterations      = 2083,  # Se activa el early stopping\n",
    "  early_stopping_rounds = 400\n",
    ")\n",
    "\n",
    "# Hiperparámetros a optimizar (ampliado)\n",
    "PARAM$hipeparametertuning$hs <- makeParamSet(\n",
    "  makeIntegerParam(\"num_leaves\", lower = 8L, upper = 128L),\n",
    "  makeIntegerParam(\"min_data_in_leaf\", lower = 10L, upper = 1024L),\n",
    "  makeNumericParam(\"learning_rate\", lower = 0.005, upper = 0.05),\n",
    "  makeNumericParam(\"feature_fraction\", lower = 0.5, upper = 1.0),\n",
    "  makeNumericParam(\"bagging_fraction\", lower = 0.5, upper = 1.0),\n",
    "  makeIntegerParam(\"bagging_freq\", lower = 1L, upper = 10L),\n",
    "  makeNumericParam(\"lambda_l1\", lower = 0, upper = 5),\n",
    "  makeNumericParam(\"lambda_l2\", lower = 0, upper = 5),\n",
    "  makeNumericParam(\"min_gain_to_split\", lower = 0, upper = 1)\n",
    ")\n"
   ]
  },
  {
   "cell_type": "code",
   "execution_count": 21,
   "id": "5Uag3XGHqrfZ",
   "metadata": {
    "id": "5Uag3XGHqrfZ"
   },
   "outputs": [],
   "source": [
    "# valor ridiculamente bajo para que corra rapido en el aula y no molestar a la *Modalidad Gerencial*\n",
    "PARAM$hipeparametertuning$num_iterations <- 30\n",
    "\n",
    "\n",
    "# parametros fijos del LightGBM\n",
    "PARAM$lgbm$param_fijos <- list(\n",
    "  objective= \"binary\",\n",
    "  metric= \"auc\",\n",
    "  first_metric_only= TRUE,\n",
    "  boost_from_average= TRUE,\n",
    "  feature_pre_filter= FALSE,\n",
    "  verbosity= -100,\n",
    "  force_row_wise= TRUE, # para evitar warning\n",
    "  seed= PARAM$semilla_primigenia,\n",
    "  max_bin= 31,\n",
    "  learning_rate= 0.027,\n",
    "  feature_fraction= 0.8,\n",
    "  num_iterations= 2083,  # valor grande, lo limita early_stopping_rounds\n",
    "  early_stopping_rounds= 400\n",
    ")\n",
    "\n",
    "PARAM$hipeparametertuning$hs <- makeParamSet(\n",
    "  makeIntegerParam(\"num_leaves\", lower = 2L, upper = 256L),\n",
    "  makeIntegerParam(\"min_data_in_leaf\", lower = 2L, upper = 8192L)\n",
    ")"
   ]
  },
  {
   "cell_type": "markdown",
   "id": "FEa1UuuAz4yj",
   "metadata": {
    "id": "FEa1UuuAz4yj"
   },
   "source": [
    "Función \"señora caja negra\"  que es llamada para verificar la realidad por la Bayesian Optimization"
   ]
  },
  {
   "cell_type": "code",
   "execution_count": 58,
   "id": "2c10f535-8d90-47d1-ac3d-9b4c24ec21d2",
   "metadata": {
    "id": "2c10f535-8d90-47d1-ac3d-9b4c24ec21d2"
   },
   "outputs": [],
   "source": [
    "# En  x llegan los parmaetros de la bayesiana\n",
    "#  devuelve la AUC en validate del modelo entrenado\n",
    "#  en el parametro x llegan los hiperparámetros que se estan optimizando\n",
    "\n",
    "EstimarGanancia_AUC_lightgbm <- function(x) {\n",
    "\n",
    "  message(format(Sys.time(), \"%a %b %d %X %Y\"))\n",
    "\n",
    "  # uno la lista de hiperparametros : fijos + variables\n",
    "  param_completo <- c(PARAM$lgbm$param_fijos, x)\n",
    "\n",
    "  # entreno LightGBM\n",
    "  modelo_train <- lgb.train(\n",
    "    data= dtrain,\n",
    "    valids= list(valid = dvalidate),\n",
    "    eval= \"auc\",\n",
    "    param= param_completo,\n",
    "    verbose= -100\n",
    "  )\n",
    "\n",
    "  # recupero la AUC en validation\n",
    "  AUC <- modelo_train$record_evals$valid$auc$eval[[modelo_train$best_iter]]\n",
    "\n",
    "  # esta es la forma de devolver un parametro extra\n",
    "  attr(AUC, \"extras\") <- list(\"num_iterations\"= modelo_train$best_iter)\n",
    "\n",
    "  # hago espacio en la memoria\n",
    "  rm(modelo_train)\n",
    "  gc(full= TRUE, verbose= FALSE)\n",
    "\n",
    "  return(AUC)\n",
    "}"
   ]
  },
  {
   "cell_type": "markdown",
   "id": "267a35d4-adaf-4271-a875-3864111333b7",
   "metadata": {
    "id": "267a35d4-adaf-4271-a875-3864111333b7"
   },
   "source": [
    "seteo de la Bayesian Optimization (complejo)\n",
    "<br> copiado y pegado de la documentación de la librería"
   ]
  },
  {
   "cell_type": "code",
   "execution_count": 59,
   "id": "43c2a92d-1041-46b8-bff2-47297f209ed2",
   "metadata": {
    "id": "43c2a92d-1041-46b8-bff2-47297f209ed2"
   },
   "outputs": [],
   "source": [
    "configureMlr(show.learner.output = FALSE)\n",
    "\n",
    "# configuro la busqueda bayesiana,  los hiperparametros que se van a optimizar\n",
    "# por favor, no desesperarse por lo complejo\n",
    "obj.fun <- makeSingleObjectiveFunction(\n",
    "    fn= EstimarGanancia_AUC_lightgbm, # la funcion que voy a maximizar\n",
    "    minimize= FALSE, # estoy Maximizando AUC\n",
    "    noisy= FALSE,\n",
    "    par.set= PARAM$hipeparametertuning$hs,\n",
    "    has.simple.signature= FALSE # paso los parametros en una lista\n",
    ")\n",
    "\n",
    "# cada 600 segundos guardo el resultado intermedio\n",
    "ctrl <- makeMBOControl(\n",
    "    save.on.disk.at.time= 600,\n",
    "    save.file.path= \"HT.RDATA\"\n",
    ")\n",
    "\n",
    "# indico la cantidad de iteraciones que va a tener la Bayesian Optimization\n",
    "ctrl <- setMBOControlTermination(\n",
    "    ctrl,\n",
    "    iters= PARAM$hipeparametertuning$num_iterations  # ✅ correcto\n",
    ")\n",
    "\n",
    "\n",
    "# defino el método estandar para la creacion de los puntos iniciales\n",
    "#   los \"No Inteligentes\"\n",
    "ctrl <- setMBOControlInfill(ctrl, crit = makeMBOInfillCritEI())\n",
    "\n",
    "# mas configuraciones\n",
    "surr.km <- makeLearner(\n",
    "    \"regr.km\",\n",
    "    predict.type= \"se\",\n",
    "    covtype= \"matern3_2\",\n",
    "    control= list(trace = TRUE)\n",
    ")"
   ]
  },
  {
   "cell_type": "markdown",
   "id": "6c1e5645-d26f-4923-a53f-f30471a4c4e8",
   "metadata": {
    "id": "6c1e5645-d26f-4923-a53f-f30471a4c4e8"
   },
   "source": [
    "Corrida de la Bayesian Optimization,  aqui se hace el trabajo pesado\n",
    "<br> por favor no se asuste con los warnings que pudieran aparecer\n",
    "\n",
    "Si corrío a medias y llegó a las iteraciones inteligentes, en el archivo binario HT.RDATA quedó lo ya procesado y es utilizado para retomar la corrida desde lo último que llegó a grabar."
   ]
  },
  {
   "cell_type": "code",
   "execution_count": 60,
   "id": "1f8cab3f-c7e2-4802-bfd1-5ad509922a4e",
   "metadata": {
    "id": "1f8cab3f-c7e2-4802-bfd1-5ad509922a4e",
    "scrolled": true
   },
   "outputs": [
    {
     "name": "stderr",
     "output_type": "stream",
     "text": [
      ">> Retomando optimización desde archivo guardado...\n",
      "\n",
      "Warning message in mboContinue(\"HT.RDATA\"):\n",
      "“Tuning ended with term.iter. No need to continue. Simply returning stored result.”\n"
     ]
    },
    {
     "name": "stdout",
     "output_type": "stream",
     "text": [
      "$num_leaves\n",
      "[1] 256\n",
      "\n",
      "$min_data_in_leaf\n",
      "[1] 152\n",
      "\n",
      "[1] 0.9387164\n"
     ]
    }
   ],
   "source": [
    "# Establecer número de iteraciones deseadas\n",
    "PARAM$hipeparametertuning$num_iterations <- 30  # cambiá este valor si querés más o menos\n",
    "\n",
    "# Definir objeto de control (con el nuevo número de iteraciones)\n",
    "ctrl <- makeMBOControl(\n",
    "  save.on.disk.at.time = 600,\n",
    "  save.file.path = \"HT.RDATA\"\n",
    ")\n",
    "ctrl <- setMBOControlTermination(ctrl, iters = PARAM$hipeparametertuning$num_iterations)\n",
    "ctrl <- setMBOControlInfill(ctrl, crit = makeMBOInfillCritEI())\n",
    "\n",
    "# Definir modelo sustituto (surrogate)\n",
    "surr.km <- makeLearner(\n",
    "  \"regr.km\",\n",
    "  predict.type = \"se\",\n",
    "  covtype = \"matern3_2\",\n",
    "  control = list(trace = TRUE)\n",
    ")\n",
    "\n",
    "# Iniciar o continuar optimización bayesiana\n",
    "if (!file.exists(\"HT.RDATA\")) {\n",
    "  message(\">> Iniciando optimización desde cero...\")\n",
    "  bayesiana_salida <- mbo(obj.fun, learner = surr.km, control = ctrl)\n",
    "} else {\n",
    "  message(\">> Retomando optimización desde archivo guardado...\")\n",
    "  bayesiana_salida <- mboContinue(\"HT.RDATA\")\n",
    "}\n",
    "\n",
    "# Ver mejores parámetros encontrados\n",
    "print(bayesiana_salida$x)\n",
    "print(bayesiana_salida$y)\n",
    "\n"
   ]
  },
  {
   "cell_type": "markdown",
   "id": "36307612-964f-4df3-907a-1bc3c095f178",
   "metadata": {
    "id": "36307612-964f-4df3-907a-1bc3c095f178"
   },
   "source": [
    "la bayesian optimization ha corrido, extraigo los mejores hiperparametros"
   ]
  },
  {
   "cell_type": "code",
   "execution_count": 61,
   "id": "8c061a2a-3341-4006-a154-c95bb6cfd407",
   "metadata": {
    "id": "8c061a2a-3341-4006-a154-c95bb6cfd407"
   },
   "outputs": [
    {
     "name": "stdout",
     "output_type": "stream",
     "text": [
      "   num_leaves min_data_in_leaf num_iterations\n",
      "        <int>            <int>          <int>\n",
      "1:        256              152            348\n"
     ]
    }
   ],
   "source": [
    "# almaceno los resultados de la Bayesian Optimization\n",
    "# y capturo los mejores hiperparametros encontrados\n",
    "\n",
    "tb_bayesiana <- as.data.table(bayesiana_salida$opt.path)\n",
    "\n",
    "# ordeno en forma descendente por AUC = y\n",
    "setorder(tb_bayesiana, -y, -num_iterations)\n",
    "\n",
    "# grabo para eventualmente poder utilizarlos en OTRA corrida\n",
    "fwrite( tb_bayesiana,\n",
    "  file=\"BO_log.txt\",\n",
    "  sep=\"\\t\"\n",
    ")\n",
    "\n",
    "# los mejores hiperparámetros son los que quedaron en el registro 1 de la tabla\n",
    "PARAM$out$lgbm$mejores_hiperparametros <- tb_bayesiana[\n",
    "  1, # el primero es el de mejor AUC\n",
    "  list(num_leaves, min_data_in_leaf, num_iterations)\n",
    "]\n",
    "\n",
    "print(PARAM$out$lgbm$mejores_hiperparametros)"
   ]
  },
  {
   "cell_type": "markdown",
   "id": "ddb554cb-1d96-4f6b-ae1c-c9a076f8dbdc",
   "metadata": {
    "id": "ddb554cb-1d96-4f6b-ae1c-c9a076f8dbdc"
   },
   "source": [
    "### 7.3.3 Produccion"
   ]
  },
  {
   "cell_type": "markdown",
   "id": "c39492c3-756f-47a5-8747-93ade8275306",
   "metadata": {
    "id": "c39492c3-756f-47a5-8747-93ade8275306"
   },
   "source": [
    "### Final Training\n",
    "Construyo el modelo final, que es uno solo, no hace ningun tipo de particion < training, validation, testing>]"
   ]
  },
  {
   "cell_type": "markdown",
   "id": "xhKi_G_sYQqq",
   "metadata": {
    "id": "xhKi_G_sYQqq"
   },
   "source": [
    "#### Final Training Dataset\n",
    "\n",
    "Aqui esta la gran decision de en qué meses hago el Final Training\n",
    "<br> debo utilizar los mejores hiperparámetros que encontré en la optimización bayesiana"
   ]
  },
  {
   "cell_type": "code",
   "execution_count": 62,
   "id": "qyHfS_X0zd7o",
   "metadata": {
    "id": "qyHfS_X0zd7o"
   },
   "outputs": [
    {
     "data": {
      "text/html": [
       "910211"
      ],
      "text/latex": [
       "910211"
      ],
      "text/markdown": [
       "910211"
      ],
      "text/plain": [
       "[1] 910211"
      ]
     },
     "metadata": {},
     "output_type": "display_data"
    }
   ],
   "source": [
    "PARAM$trainingstrategy$final_train <- c( 202107,\n",
    "  202106, 202105, 202104, 202103, 202102, 202101,\n",
    "  202012, 202011, 202010, 202009, 202008, 202007,\n",
    "  202006, 202005, 202004, 202003, 202002, 202001, 201912, 201911, 201910, 201909, 201908, 201907,\n",
    "    201906, 201905, 201904, 201903, 201902, 201901\n",
    ")\n",
    "\n",
    "dataset[, fold_final_train := foto_mes %in% PARAM$trainingstrategy$final_train ]\n",
    "\n",
    "# creo el dfinal_train en formato  LightGBM\n",
    "dfinal_train <- lgb.Dataset(\n",
    "  data= data.matrix(dataset[fold_final_train == TRUE, campos_buenos, with= FALSE]),\n",
    "  label= dataset[fold_final_train == TRUE, clase01],\n",
    "  free_raw_data= TRUE\n",
    ")\n",
    "\n",
    "nrow( dfinal_train) # verifico el tamaño"
   ]
  },
  {
   "cell_type": "markdown",
   "id": "HATRyklxYUpT",
   "metadata": {
    "id": "HATRyklxYUpT"
   },
   "source": [
    "#### Final Training Hyperparameters"
   ]
  },
  {
   "cell_type": "code",
   "execution_count": 63,
   "id": "d6b9f33c-e0a0-4ea6-8169-4a6180cc5d01",
   "metadata": {
    "id": "d6b9f33c-e0a0-4ea6-8169-4a6180cc5d01"
   },
   "outputs": [],
   "source": [
    "# uno los parametros fijos y los mejores encontrados de los variables\n",
    "fijos <- copy(PARAM$lgbm$param_fijos)\n",
    "\n",
    "# quito lo que optimice en la Bayesian Optimization\n",
    "fijos$num_iterations <- NULL\n",
    "fijos$early_stopping_rounds <- NULL\n",
    "\n",
    "# agrego a los hiperparametros fijos los que encontre con la Bayesian Optimization\n",
    "param_final <- c(fijos, PARAM$out$lgbm$mejores_hiperparametros)"
   ]
  },
  {
   "cell_type": "markdown",
   "id": "05d3494f-0401-4f3e-9b69-f488a737879d",
   "metadata": {
    "id": "05d3494f-0401-4f3e-9b69-f488a737879d"
   },
   "source": [
    "#### Training\n",
    "Genero el modelo final, siempre sobre TODOS los datos de  final_train, sin hacer ningun tipo de undersampling de la clase mayoritaria"
   ]
  },
  {
   "cell_type": "code",
   "execution_count": 64,
   "id": "fa239848-1c28-4ee5-984a-073903b4b279",
   "metadata": {
    "id": "fa239848-1c28-4ee5-984a-073903b4b279"
   },
   "outputs": [],
   "source": [
    "final_model <- lgb.train(\n",
    "  data= dfinal_train,\n",
    "  param= param_final,\n",
    "  verbose= -100\n",
    ")"
   ]
  },
  {
   "cell_type": "code",
   "execution_count": 65,
   "id": "RC1ju-5MZN5s",
   "metadata": {
    "id": "RC1ju-5MZN5s"
   },
   "outputs": [],
   "source": [
    "# grabo a disco el modelo en un formato para seres humanos ... ponele ...\n",
    "\n",
    "lgb.save(final_model, \"modelo.txt\")"
   ]
  },
  {
   "cell_type": "code",
   "execution_count": 66,
   "id": "VEpv4RYOZHTU",
   "metadata": {
    "id": "VEpv4RYOZHTU"
   },
   "outputs": [],
   "source": [
    "# ahora imprimo la importancia de variables\n",
    "\n",
    "tb_importancia <- as.data.table(lgb.importance(final_model))\n",
    "archivo_importancia <- \"impo.txt\"\n",
    "\n",
    "fwrite( tb_importancia,\n",
    "  file= archivo_importancia,\n",
    "  sep= \"\\t\"\n",
    ")"
   ]
  },
  {
   "cell_type": "markdown",
   "id": "7ea225b3-ce02-42e2-8330-b10ed250d172",
   "metadata": {
    "id": "7ea225b3-ce02-42e2-8330-b10ed250d172"
   },
   "source": [
    "### Scoring"
   ]
  },
  {
   "cell_type": "markdown",
   "id": "164981bb-f4c1-4228-8bc9-32e58a383c05",
   "metadata": {
    "id": "164981bb-f4c1-4228-8bc9-32e58a383c05"
   },
   "source": [
    "Aplico el modelo final a los datos del futuro"
   ]
  },
  {
   "cell_type": "code",
   "execution_count": 67,
   "id": "eJ7RbT271v-R",
   "metadata": {
    "id": "eJ7RbT271v-R"
   },
   "outputs": [],
   "source": [
    "PARAM$trainingstrategy$future <- c(202109)\n",
    "\n",
    "dfuture <- dataset[ foto_mes %in% PARAM$trainingstrategy$future ]"
   ]
  },
  {
   "cell_type": "code",
   "execution_count": 68,
   "id": "88ca61c8-fa24-4ce5-8be1-323aca018e8f",
   "metadata": {
    "id": "88ca61c8-fa24-4ce5-8be1-323aca018e8f"
   },
   "outputs": [],
   "source": [
    "# aplico final_model   a dfuture\n",
    "\n",
    "prediccion <- predict(\n",
    "  final_model,\n",
    "  data.matrix(dfuture[, campos_buenos, with= FALSE])\n",
    ")"
   ]
  },
  {
   "cell_type": "markdown",
   "id": "79u0ZvjJZblE",
   "metadata": {
    "id": "79u0ZvjJZblE"
   },
   "source": [
    "#### Tabla Prediccion"
   ]
  },
  {
   "cell_type": "code",
   "execution_count": 69,
   "id": "TB6aerGDZeTo",
   "metadata": {
    "id": "TB6aerGDZeTo"
   },
   "outputs": [],
   "source": [
    "tb_prediccion <- dfuture[, list(numero_de_cliente)]\n",
    "tb_prediccion[, prob := prediccion]\n",
    "\n",
    "# grabo las probabilidad del modelo\n",
    "#  me va a ser util para hacer Ensembles de modelos\n",
    "fwrite(tb_prediccion,\n",
    "  file= \"prediccion.txt\",\n",
    "  sep= \"\\t\"\n",
    ")"
   ]
  },
  {
   "cell_type": "markdown",
   "id": "8412d838-5bd5-454e-b3a9-5eaa18d80a50",
   "metadata": {
    "id": "8412d838-5bd5-454e-b3a9-5eaa18d80a50"
   },
   "source": [
    "Kaggle Competition Submit"
   ]
  },
  {
   "cell_type": "markdown",
   "id": "55970cb6-856a-46e3-a893-7f36b8352b8e",
   "metadata": {
    "id": "55970cb6-856a-46e3-a893-7f36b8352b8e"
   },
   "source": [
    "Genero las salidas y hago los submits a Kaggle\n",
    "<br>El notebook esta preparado para la Modalidad Gerencial, los analistas deben hacer cambios.\n",
    "<br> Los analistas deben cambiar **competencia** a SU competencia  \"labo-i-2025-rosario-analista-jr\"   o  la original \"labo-i-2025-rosario\"  para los Senior\n",
    "<br> Los cortes  dependen de la cantidad de registros, multiplicar por 2 para los Analistas Jr y por 10 para los Analista Sr\n",
    "\n",
    "Los Analista Sr luego de meditar cuidadosamente reducirán la cantidad de cortes"
   ]
  },
  {
   "cell_type": "code",
   "execution_count": 70,
   "id": "e5fa2439-b0e9-49e0-a861-71d7315d6e1c",
   "metadata": {
    "id": "e5fa2439-b0e9-49e0-a861-71d7315d6e1c"
   },
   "outputs": [
    {
     "name": "stderr",
     "output_type": "stream",
     "text": [
      "Warning message in dir.create(\"kaggle\"):\n",
      "“'kaggle' already exists”\n"
     ]
    },
    {
     "name": "stdout",
     "output_type": "stream",
     "text": [
      "Successfully submitted to LaboI 2025 Rosario Analista JR \n",
      "Successfully submitted to LaboI 2025 Rosario Analista JR \n",
      "Successfully submitted to LaboI 2025 Rosario Analista JR \n",
      "Successfully submitted to LaboI 2025 Rosario Analista JR \n",
      "Successfully submitted to LaboI 2025 Rosario Analista JR \n",
      "Successfully submitted to LaboI 2025 Rosario Analista JR \n",
      "Successfully submitted to LaboI 2025 Rosario Analista JR \n",
      "Successfully submitted to LaboI 2025 Rosario Analista JR \n",
      "Successfully submitted to LaboI 2025 Rosario Analista JR \n",
      "Successfully submitted to LaboI 2025 Rosario Analista JR \n",
      "Successfully submitted to LaboI 2025 Rosario Analista JR \n"
     ]
    }
   ],
   "source": [
    "# genero archivos con los  \"envios\" mejores\n",
    "# suba TODOS los archivos a Kaggle\n",
    "\n",
    "PARAM$kaggle$competencia <- \"labo-i-2025-rosario-analista-jr\"\n",
    "PARAM$kaggle$cortes <- seq(800, 1300, by = 50)\n",
    "\n",
    "# ordeno por probabilidad descendente\n",
    "setorder(tb_prediccion, -prob)\n",
    "\n",
    "dir.create(\"kaggle\")\n",
    "\n",
    "for (envios in PARAM$kaggle$cortes) {\n",
    "\n",
    "  tb_prediccion[, Predicted := 0L] # seteo inicial a 0\n",
    "  tb_prediccion[1:envios, Predicted := 1L] # marclo los primeros\n",
    "\n",
    "  archivo_kaggle <- paste0(\"./kaggle/KA\", PARAM$experimento, \"_\", envios, \".csv\")\n",
    "\n",
    "  # grabo el archivo\n",
    "  fwrite(tb_prediccion[, list(numero_de_cliente, Predicted)],\n",
    "    file= archivo_kaggle,\n",
    "    sep= \",\"\n",
    "  )\n",
    "\n",
    "  # subida a Kaggle, armo la linea de comando\n",
    "  comando <- \"kaggle competitions submit\"\n",
    "  competencia <- paste(\"-c\", PARAM$kaggle$competencia)\n",
    "  arch <- paste( \"-f\", archivo_kaggle)\n",
    "\n",
    "  mensaje <- paste0(\"-m 'envios=\", envios,\n",
    "  \"  semilla=\", PARAM$semilla_primigenia,\n",
    "    \"'\" )\n",
    "\n",
    "  linea <- paste( comando, competencia, arch, mensaje)\n",
    "\n",
    "  salida <- system(linea, intern=TRUE) # el submit a Kaggle\n",
    "  cat(salida, \"\\n\")\n",
    "}"
   ]
  },
  {
   "cell_type": "code",
   "execution_count": 71,
   "id": "C94tK-xid6p2",
   "metadata": {
    "id": "C94tK-xid6p2"
   },
   "outputs": [],
   "source": [
    "# grabo los parametros\n",
    "if( !require(\"yaml\")) install.packages(\"yaml\")\n",
    "require(\"yaml\")\n",
    "\n",
    "write_yaml( PARAM, file=\"PARAM.yml\")"
   ]
  },
  {
   "cell_type": "code",
   "execution_count": 72,
   "id": "1b615a62-20cc-4e95-9af2-6b6db38d5efb",
   "metadata": {
    "id": "1b615a62-20cc-4e95-9af2-6b6db38d5efb"
   },
   "outputs": [
    {
     "data": {
      "text/html": [
       "'Sat Jun 28 01:59:48 2025'"
      ],
      "text/latex": [
       "'Sat Jun 28 01:59:48 2025'"
      ],
      "text/markdown": [
       "'Sat Jun 28 01:59:48 2025'"
      ],
      "text/plain": [
       "[1] \"Sat Jun 28 01:59:48 2025\""
      ]
     },
     "metadata": {},
     "output_type": "display_data"
    }
   ],
   "source": [
    "format(Sys.time(), \"%a %b %d %X %Y\")"
   ]
  }
 ],
 "metadata": {
  "colab": {
   "provenance": []
  },
  "kernelspec": {
   "display_name": "R",
   "language": "R",
   "name": "ir"
  },
  "language_info": {
   "codemirror_mode": "r",
   "file_extension": ".r",
   "mimetype": "text/x-r-source",
   "name": "R",
   "pygments_lexer": "r",
   "version": "4.4.3"
  }
 },
 "nbformat": 4,
 "nbformat_minor": 5
}

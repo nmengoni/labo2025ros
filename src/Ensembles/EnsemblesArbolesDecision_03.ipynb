{
 "cells": [
  {
   "cell_type": "markdown",
   "metadata": {
    "id": "O94qX1svwzoC"
   },
   "source": [
    "# 5. Ensembles de Arboles de Decision"
   ]
  },
  {
   "cell_type": "markdown",
   "metadata": {
    "id": "HsJFTcBZw1bE"
   },
   "source": [
    "## 5.4 GBDT LightGBM"
   ]
  },
  {
   "cell_type": "markdown",
   "metadata": {
    "id": "nsgvDbemw9Tc"
   },
   "source": [
    "La técnica de Gradient Boosting fue creada por Jerome H. Friedman en 1999 - 2001\n",
    "<br>Se implementaron librerías ineficientes\n",
    "<br>En 2016 se crea XGBoost, en 2017 LightGBM\n",
    "\n",
    "El Gradient Boosting of Decision Trees es un ensemble de árboles de decisión, para un nuevo registro la predicción se hace sumando el score que cada arbol asigna a ese registro.\n",
    "\n",
    "En GBDT la construccion de los árboles es secuencial, ya que el arbol n-simo se genera para predecir el error del modelo conformado por los  n-1 arboles previos, aunque sea un arbol de clasificación lo que se predice es un numero real mediante un arbol de regresión.\n"
   ]
  },
  {
   "cell_type": "markdown",
   "metadata": {
    "id": "nF6XblBIYnY6"
   },
   "source": [
    "<br>Qué tipo de perturbaciones se realiza LightGBM\n",
    "\n",
    "*   Se perturba el dataset, seleccionando para cada arbol un subconjunto de las columnas.\n",
    "*   El algortimo de arbol de decisión no presenta perturbaciones"
   ]
  },
  {
   "cell_type": "markdown",
   "metadata": {
    "id": "j75A--Tsx2df"
   },
   "source": [
    "Cada arbolito de LightGBM se entrena sobre un dataset perturbado, que en principio posee :\n",
    "* todos los registros del dataset original\n",
    "* solo un porcentaje *feature_fraction* de las columnas originales del dataset"
   ]
  },
  {
   "cell_type": "markdown",
   "metadata": {
    "id": "PX0qg_c0yqob"
   },
   "source": [
    "#### 5.4.1  Seteo del ambiente en Google Colab"
   ]
  },
  {
   "cell_type": "markdown",
   "metadata": {
    "id": "NGY7H9xza7Zr"
   },
   "source": [
    "Esta parte se debe correr con el runtime en Python3\n",
    "<br>Ir al menu, Runtime -> Change Runtime Type -> Runtime type ->  **Python 3**"
   ]
  },
  {
   "cell_type": "markdown",
   "metadata": {
    "id": "7PupIBNba7Zr"
   },
   "source": [
    "Conectar la virtual machine donde esta corriendo Google Colab con el  Google Drive, para poder tener persistencia de archivos"
   ]
  },
  {
   "cell_type": "code",
   "execution_count": null,
   "metadata": {
    "id": "9LpZCst5a7Zs"
   },
   "outputs": [],
   "source": [
    "# primero establecer el Runtime de Python 3\n",
    "from google.colab import drive\n",
    "drive.mount('/content/.drive')"
   ]
  },
  {
   "cell_type": "markdown",
   "metadata": {
    "id": "JYC_F-wla7Zs"
   },
   "source": [
    "Para correr la siguiente celda es fundamental en Arranque en Frio haber copiado el archivo kaggle.json al Google Drive, en la carpeta indicada en el instructivo\n",
    "\n",
    "<br>los siguientes comando estan en shell script de Linux\n",
    "*   Crear las carpetas en el Google Drive\n",
    "*   \"instalar\" el archivo kaggle.json desde el Google Drive a la virtual machine para que pueda ser utilizado por la libreria  kaggle de Python\n",
    "*   Bajar el  **dataset_pequeno**  al  Google Drive  y tambien al disco local de la virtual machine que esta corriendo Google Colab\n",
    "\n"
   ]
  },
  {
   "cell_type": "code",
   "execution_count": null,
   "metadata": {
    "id": "XWLelftXa7Zt"
   },
   "outputs": [],
   "source": [
    "%%shell\n",
    "\n",
    "mkdir -p \"/content/.drive/My Drive/labo1\"\n",
    "mkdir -p \"/content/buckets\"\n",
    "ln -s \"/content/.drive/My Drive/labo1\" /content/buckets/b1\n",
    "\n",
    "mkdir -p ~/.kaggle\n",
    "cp /content/buckets/b1/kaggle/kaggle.json  ~/.kaggle\n",
    "chmod 600 ~/.kaggle/kaggle.json\n",
    "\n",
    "\n",
    "mkdir -p /content/buckets/b1/exp\n",
    "mkdir -p /content/buckets/b1/datasets\n",
    "mkdir -p /content/datasets\n",
    "\n",
    "\n",
    "\n",
    "archivo_origen=\"https://storage.googleapis.com/open-courses/austral2025-af91/labo1r/dataset_pequeno.csv\"\n",
    "archivo_destino=\"/content/datasets/dataset_pequeno.csv\"\n",
    "archivo_destino_bucket=\"/content/buckets/b1/datasets/dataset_pequeno.csv\"\n",
    "\n",
    "if ! test -f $archivo_destino_bucket; then\n",
    "  wget  $archivo_origen  -O $archivo_destino_bucket\n",
    "fi\n",
    "\n",
    "\n",
    "if ! test -f $archivo_destino; then\n",
    "  cp  $archivo_destino_bucket  $archivo_destino\n",
    "fi\n"
   ]
  },
  {
   "cell_type": "markdown",
   "metadata": {
    "id": "oSKhZRToy2F7"
   },
   "source": [
    "### 5.4.2  LightGBM, una corrida"
   ]
  },
  {
   "cell_type": "markdown",
   "metadata": {
    "id": "eSU5vi00CPRS"
   },
   "source": [
    "Esta parte se debe correr con el runtime en lenguaje **R** Ir al menu, Runtime -> Change Runtime Type -> Runtime type -> R"
   ]
  },
  {
   "cell_type": "markdown",
   "metadata": {
    "id": "Zq8dySimCPRT"
   },
   "source": [
    "limpio el ambiente de R"
   ]
  },
  {
   "cell_type": "code",
   "execution_count": 1,
   "metadata": {
    "id": "1iE0U4_WCPRT"
   },
   "outputs": [
    {
     "data": {
      "text/html": [
       "<table class=\"dataframe\">\n",
       "<caption>A matrix: 2 × 6 of type dbl</caption>\n",
       "<thead>\n",
       "\t<tr><th></th><th scope=col>used</th><th scope=col>(Mb)</th><th scope=col>gc trigger</th><th scope=col>(Mb)</th><th scope=col>max used</th><th scope=col>(Mb)</th></tr>\n",
       "</thead>\n",
       "<tbody>\n",
       "\t<tr><th scope=row>Ncells</th><td> 649923</td><td>34.8</td><td>1439354</td><td>76.9</td><td>1239014</td><td>66.2</td></tr>\n",
       "\t<tr><th scope=row>Vcells</th><td>1209893</td><td> 9.3</td><td>8388608</td><td>64.0</td><td>1924955</td><td>14.7</td></tr>\n",
       "</tbody>\n",
       "</table>\n"
      ],
      "text/latex": [
       "A matrix: 2 × 6 of type dbl\n",
       "\\begin{tabular}{r|llllll}\n",
       "  & used & (Mb) & gc trigger & (Mb) & max used & (Mb)\\\\\n",
       "\\hline\n",
       "\tNcells &  649923 & 34.8 & 1439354 & 76.9 & 1239014 & 66.2\\\\\n",
       "\tVcells & 1209893 &  9.3 & 8388608 & 64.0 & 1924955 & 14.7\\\\\n",
       "\\end{tabular}\n"
      ],
      "text/markdown": [
       "\n",
       "A matrix: 2 × 6 of type dbl\n",
       "\n",
       "| <!--/--> | used | (Mb) | gc trigger | (Mb) | max used | (Mb) |\n",
       "|---|---|---|---|---|---|---|\n",
       "| Ncells |  649923 | 34.8 | 1439354 | 76.9 | 1239014 | 66.2 |\n",
       "| Vcells | 1209893 |  9.3 | 8388608 | 64.0 | 1924955 | 14.7 |\n",
       "\n"
      ],
      "text/plain": [
       "       used    (Mb) gc trigger (Mb) max used (Mb)\n",
       "Ncells  649923 34.8 1439354    76.9 1239014  66.2\n",
       "Vcells 1209893  9.3 8388608    64.0 1924955  14.7"
      ]
     },
     "metadata": {},
     "output_type": "display_data"
    }
   ],
   "source": [
    "# limpio la memoria\n",
    "rm(list=ls(all.names=TRUE)) # remove all objects\n",
    "gc(full=TRUE, verbose=FALSE) # garbage collection"
   ]
  },
  {
   "cell_type": "code",
   "execution_count": 2,
   "metadata": {
    "id": "BJDwdD0dCPRU"
   },
   "outputs": [
    {
     "name": "stderr",
     "output_type": "stream",
     "text": [
      "Loading required package: data.table\n",
      "\n",
      "Loading required package: rpart\n",
      "\n",
      "Loading required package: rlist\n",
      "\n",
      "Loading required package: lightgbm\n",
      "\n"
     ]
    }
   ],
   "source": [
    "# cargo las librerias que necesito\n",
    "require(\"data.table\")\n",
    "require(\"rpart\")\n",
    "\n",
    "if( !require(\"rlist\") ) install.packages(\"rlist\")\n",
    "require(\"rlist\")\n",
    "\n",
    "if( !require(\"lightgbm\") ) install.packages(\"lightgbm\")\n",
    "require(\"lightgbm\")"
   ]
  },
  {
   "cell_type": "markdown",
   "metadata": {
    "id": "M8-Pyp6CCPRU"
   },
   "source": [
    "Aqui debe cargar SU semilla primigenia"
   ]
  },
  {
   "cell_type": "code",
   "execution_count": 3,
   "metadata": {
    "id": "peRH7ySLCPRV"
   },
   "outputs": [],
   "source": [
    "PARAM <- list()\n",
    "PARAM$experimento <- 6001\n",
    "PARAM$semilla_primigenia <- 532981\n",
    "\n",
    "# estos hiperparametros de LightGBM surgieron de una Bayesian Optimization\n",
    "PARAM$lgb$num_iterations <- 666  # cantidad de arbolitos\n",
    "PARAM$lgb$learning_rate <- 0.01\n",
    "PARAM$lgb$feature_fraction <- 0.44\n",
    "PARAM$lgb$min_data_in_leaf <- 166\n",
    "PARAM$lgb$num_leaves <- 266\n",
    "PARAM$lgb$max_bin <- 888\n"
   ]
  },
  {
   "cell_type": "code",
   "execution_count": 4,
   "metadata": {
    "id": "1gZD6ZMvCPRV"
   },
   "outputs": [],
   "source": [
    "# carpeta de trabajo\n",
    "setwd(\"/content/buckets/b1/exp\")\n",
    "experimento_folder <- paste0(\"KA\", PARAM$experimento)\n",
    "dir.create(experimento_folder, showWarnings=FALSE)\n",
    "setwd( paste0(\"/content/buckets/b1/exp/\", experimento_folder ))"
   ]
  },
  {
   "cell_type": "code",
   "execution_count": 5,
   "metadata": {
    "id": "Xi0emX2ECPRV"
   },
   "outputs": [],
   "source": [
    "# lectura del dataset\n",
    "dataset <- fread(\"/content/datasets/dataset_pequeno.csv\", stringsAsFactors = TRUE)"
   ]
  },
  {
   "cell_type": "code",
   "execution_count": 6,
   "metadata": {
    "id": "-3XuBeDy1Ugj"
   },
   "outputs": [],
   "source": [
    "# paso la clase a binaria que tome valores {0,1}  enteros\n",
    "# set trabaja con la clase  POS = { BAJA+1, BAJA+2 }\n",
    "# esta estrategia es MUY importante\n",
    "dataset[, clase01 := ifelse(clase_ternaria %in% c(\"BAJA+2\", \"BAJA+1\"), 1L, 0L)]"
   ]
  },
  {
   "cell_type": "code",
   "execution_count": 7,
   "metadata": {
    "id": "h8Anoo4Sel8S"
   },
   "outputs": [],
   "source": [
    "# los campos que se van a utilizar\n",
    "campos_buenos <- setdiff(colnames(dataset), c(\"clase_ternaria\", \"clase01\"))"
   ]
  },
  {
   "cell_type": "code",
   "execution_count": 8,
   "metadata": {
    "id": "RA3cSJ6KaGwA"
   },
   "outputs": [],
   "source": [
    "# establezco donde entreno\n",
    "dataset[, train := 0L]\n",
    "dataset[foto_mes %in% c(202107), train := 1L]"
   ]
  },
  {
   "cell_type": "code",
   "execution_count": 9,
   "metadata": {
    "id": "T6Zr06HB1kMU"
   },
   "outputs": [],
   "source": [
    "# dejo los datos en el formato que necesita LightGBM\n",
    "dtrain <- lgb.Dataset(\n",
    "  data= data.matrix(dataset[train == 1L, campos_buenos, with = FALSE]),\n",
    "  label= dataset[train == 1L, clase01]\n",
    ")"
   ]
  },
  {
   "cell_type": "code",
   "execution_count": 10,
   "metadata": {
    "id": "TI9_5pii2zCF"
   },
   "outputs": [
    {
     "name": "stdout",
     "output_type": "stream",
     "text": [
      "[LightGBM] [Info] Number of positive: 2385, number of negative: 162211\n",
      "[LightGBM] [Info] Auto-choosing row-wise multi-threading, the overhead of testing was 0.034909 seconds.\n",
      "You can set `force_row_wise=true` to remove the overhead.\n",
      "And if memory is not enough, you can set `force_col_wise=true`.\n",
      "[LightGBM] [Info] Total Bins 56685\n",
      "[LightGBM] [Info] Number of data points in the train set: 164596, number of used features: 150\n",
      "[LightGBM] [Info] [binary:BoostFromScore]: pavg=0.014490 -> initscore=-4.219699\n",
      "[LightGBM] [Info] Start training from score -4.219699\n"
     ]
    }
   ],
   "source": [
    "# genero el modelo\n",
    "# estos hiperparametros  salieron de una laaarga Optmizacion Bayesiana\n",
    "set.seed( PARAM$semilla_primigenia ) # Establezco la semilla aleatoria\n",
    "\n",
    "modelo <- lgb.train(\n",
    "  data= dtrain,\n",
    "  param= list(\n",
    "    objective= \"binary\",\n",
    "    max_bin= PARAM$lgb$max_bin,\n",
    "    learning_rate= PARAM$lgb$learning_rate,\n",
    "    num_iterations= PARAM$lgb$num_iterations,\n",
    "    num_leaves= PARAM$lgb$num_leaves,\n",
    "    min_data_in_leaf= PARAM$lgb$min_data_in_leaf,\n",
    "    feature_fraction= PARAM$lgb$feature_fraction,\n",
    "    seed= PARAM$semilla_primigenia\n",
    "  )\n",
    ")\n"
   ]
  },
  {
   "cell_type": "code",
   "execution_count": 12,
   "metadata": {
    "id": "69QcMsSkg9d-"
   },
   "outputs": [],
   "source": [
    "# ahora imprimo la importancia de variables\n",
    "tb_importancia <- as.data.table(lgb.importance(modelo))\n",
    "archivo_importancia <- \"impo.txt\"\n",
    "\n",
    "fwrite(tb_importancia,\n",
    "  file = archivo_importancia,\n",
    "  sep = \"\\t\"\n",
    ")\n"
   ]
  },
  {
   "cell_type": "code",
   "execution_count": 13,
   "metadata": {
    "id": "lauiNeQDg-XP"
   },
   "outputs": [],
   "source": [
    "# grabo a disco el modelo en un formato para seres humanos ... ponele ...\n",
    "\n",
    "lgb.save(modelo, \"modelo.txt\" )"
   ]
  },
  {
   "cell_type": "code",
   "execution_count": 14,
   "metadata": {
    "id": "VQhEcNmBhF7u"
   },
   "outputs": [],
   "source": [
    "# aplico el modelo a los datos sin clase\n",
    "dfuture <- dataset[foto_mes == 202109]\n",
    "\n",
    "# aplico el modelo a los datos nuevos\n",
    "prediccion <- predict(\n",
    "  modelo,\n",
    "  data.matrix(dfuture[, campos_buenos, with = FALSE])\n",
    ")\n"
   ]
  },
  {
   "cell_type": "code",
   "execution_count": 15,
   "metadata": {
    "id": "Z5LYpStThlIC"
   },
   "outputs": [],
   "source": [
    "# tabla de prediccion\n",
    "\n",
    "tb_prediccion <- dfuture[, list(numero_de_cliente)]\n",
    "tb_prediccion[, prob := prediccion ]\n",
    "\n",
    "# grabo las probabilidad del modelo\n",
    "fwrite(tb_prediccion,\n",
    "  file = \"prediccion.txt\",\n",
    "  sep = \"\\t\"\n",
    ")"
   ]
  },
  {
   "cell_type": "code",
   "execution_count": 16,
   "metadata": {
    "id": "vSopCODCh6kL"
   },
   "outputs": [],
   "source": [
    "# subidas a Kaggle\n",
    "# ordeno por probabilidad descendente\n",
    "setorder(tb_prediccion, -prob)"
   ]
  },
  {
   "cell_type": "code",
   "execution_count": 17,
   "metadata": {
    "id": "-qtXKj-uiCJx"
   },
   "outputs": [
    {
     "name": "stdout",
     "output_type": "stream",
     "text": [
      "Successfully submitted to LaboI 2025 RosarioSuccessfully submitted to LaboI 2025 RosarioSuccessfully submitted to LaboI 2025 RosarioSuccessfully submitted to LaboI 2025 RosarioSuccessfully submitted to LaboI 2025 RosarioSuccessfully submitted to LaboI 2025 RosarioSuccessfully submitted to LaboI 2025 RosarioSuccessfully submitted to LaboI 2025 RosarioSuccessfully submitted to LaboI 2025 RosarioSuccessfully submitted to LaboI 2025 Rosario"
     ]
    }
   ],
   "source": [
    "# genero archivos con los  \"envios\" mejores\n",
    "# suba TODOS los archivos a Kaggle\n",
    "\n",
    "cortes <- seq(9000, 13500, by = 500)\n",
    "\n",
    "for (envios in cortes) {\n",
    "\n",
    "  tb_prediccion[, Predicted := 0L]\n",
    "  tb_prediccion[1:envios, Predicted := 1L]\n",
    "\n",
    "  archivo_kaggle <- paste0(\"KA\", PARAM$experimento, \"_\", envios, \".csv\")\n",
    "\n",
    "  # grabo el archivo\n",
    "  fwrite(tb_prediccion[, list(numero_de_cliente, Predicted)],\n",
    "    file = archivo_kaggle,\n",
    "    sep = \",\"\n",
    "  )\n",
    "\n",
    "  # subida a Kaggle\n",
    "  comando <- \"kaggle competitions submit\"\n",
    "  competencia <- \"-c labo-i-2025-rosario\"\n",
    "  arch <- paste( \"-f\", archivo_kaggle)\n",
    "\n",
    "  mensaje <- paste0(\"-m 'num_iterations=\", PARAM$lgb$num_iterations,\n",
    "    \"  learning_rate=\", PARAM$lgb$learning_rate,\n",
    "    \"  feature_fraction=\", PARAM$lgb$feature_fraction,\n",
    "    \"  min_data_in_leaf=\", PARAM$lgb$min_data_in_leaf,\n",
    "    \"  num_leaves=\",PARAM$lgb$num_leaves,\n",
    "    \"  max_bin=\", PARAM$lgb$max_bin,\n",
    "  \"'\" )\n",
    "\n",
    "  linea <- paste( comando, competencia, arch, mensaje)\n",
    "  salida <- system(linea, intern=TRUE)\n",
    "  cat(salida)\n",
    "}"
   ]
  },
  {
   "cell_type": "markdown",
   "metadata": {
    "id": "UMr6Z1enOyd3"
   },
   "source": [
    "\n",
    "\n",
    "---\n",
    "\n"
   ]
  },
  {
   "cell_type": "markdown",
   "metadata": {
    "id": "lO4QwOEU-xPe"
   },
   "source": [
    "### 5.4.3  LightGBM  optimizacion de hiperparámetros"
   ]
  },
  {
   "cell_type": "markdown",
   "metadata": {
    "id": "75FU3LjSF2uN"
   },
   "source": [
    "La optimizacion de los hiperparámetros de LightGBM mediante el método de optimizacion bayesiana será su *caballito de batalla* durante la asignatura !"
   ]
  },
  {
   "cell_type": "markdown",
   "metadata": {
    "id": "aJBO5Dcb_B7s"
   },
   "source": [
    "limpio el ambiente de R"
   ]
  },
  {
   "cell_type": "code",
   "execution_count": 18,
   "metadata": {
    "id": "HPKFI6yP_B7s"
   },
   "outputs": [
    {
     "data": {
      "text/html": [
       "<table class=\"dataframe\">\n",
       "<caption>A matrix: 2 × 6 of type dbl</caption>\n",
       "<thead>\n",
       "\t<tr><th></th><th scope=col>used</th><th scope=col>(Mb)</th><th scope=col>gc trigger</th><th scope=col>(Mb)</th><th scope=col>max used</th><th scope=col>(Mb)</th></tr>\n",
       "</thead>\n",
       "<tbody>\n",
       "\t<tr><th scope=row>Ncells</th><td>1817914</td><td>97.1</td><td>  6921546</td><td>369.7</td><td> 10814915</td><td> 577.6</td></tr>\n",
       "\t<tr><th scope=row>Vcells</th><td>3567507</td><td>27.3</td><td>114228135</td><td>871.5</td><td>135671748</td><td>1035.1</td></tr>\n",
       "</tbody>\n",
       "</table>\n"
      ],
      "text/latex": [
       "A matrix: 2 × 6 of type dbl\n",
       "\\begin{tabular}{r|llllll}\n",
       "  & used & (Mb) & gc trigger & (Mb) & max used & (Mb)\\\\\n",
       "\\hline\n",
       "\tNcells & 1817914 & 97.1 &   6921546 & 369.7 &  10814915 &  577.6\\\\\n",
       "\tVcells & 3567507 & 27.3 & 114228135 & 871.5 & 135671748 & 1035.1\\\\\n",
       "\\end{tabular}\n"
      ],
      "text/markdown": [
       "\n",
       "A matrix: 2 × 6 of type dbl\n",
       "\n",
       "| <!--/--> | used | (Mb) | gc trigger | (Mb) | max used | (Mb) |\n",
       "|---|---|---|---|---|---|---|\n",
       "| Ncells | 1817914 | 97.1 |   6921546 | 369.7 |  10814915 |  577.6 |\n",
       "| Vcells | 3567507 | 27.3 | 114228135 | 871.5 | 135671748 | 1035.1 |\n",
       "\n"
      ],
      "text/plain": [
       "       used    (Mb) gc trigger (Mb)  max used  (Mb)  \n",
       "Ncells 1817914 97.1   6921546  369.7  10814915  577.6\n",
       "Vcells 3567507 27.3 114228135  871.5 135671748 1035.1"
      ]
     },
     "metadata": {},
     "output_type": "display_data"
    }
   ],
   "source": [
    "# limpio la memoria\n",
    "rm(list=ls(all.names=TRUE)) # remove all objects\n",
    "gc(full=TRUE, verbose=FALSE) # garbage collection"
   ]
  },
  {
   "cell_type": "code",
   "execution_count": 19,
   "metadata": {
    "id": "B6X8U6XF_B7t"
   },
   "outputs": [
    {
     "name": "stderr",
     "output_type": "stream",
     "text": [
      "Loading required package: parallel\n",
      "\n",
      "Loading required package: primes\n",
      "\n",
      "Loading required package: DiceKriging\n",
      "\n",
      "Loading required package: mlrMBO\n",
      "\n",
      "Loading required package: mlr\n",
      "\n",
      "Loading required package: ParamHelpers\n",
      "\n",
      "Loading required package: smoof\n",
      "\n",
      "Loading required package: checkmate\n",
      "\n",
      "\n",
      "Attaching package: ‘checkmate’\n",
      "\n",
      "\n",
      "The following object is masked from ‘package:DiceKriging’:\n",
      "\n",
      "    checkNames\n",
      "\n",
      "\n"
     ]
    }
   ],
   "source": [
    "# cargo las librerias que necesito\n",
    "require(\"data.table\")\n",
    "require(\"rpart\")\n",
    "require(\"parallel\")\n",
    "\n",
    "if( !require(\"primes\") ) install.packages(\"primes\")\n",
    "require(\"primes\")\n",
    "\n",
    "if( !require(\"rlist\") ) install.packages(\"rlist\")\n",
    "require(\"rlist\")\n",
    "\n",
    "if( !require(\"lightgbm\") ) install.packages(\"lightgbm\")\n",
    "require(\"lightgbm\")\n",
    "\n",
    "if( !require(\"DiceKriging\") ) install.packages(\"DiceKriging\")\n",
    "require(\"DiceKriging\")\n",
    "\n",
    "if( !require(\"mlrMBO\") ) install.packages(\"mlrMBO\")\n",
    "require(\"mlrMBO\")\n"
   ]
  },
  {
   "cell_type": "markdown",
   "metadata": {
    "id": "_qZHeAHdCJQ2"
   },
   "source": [
    "Aqui debe cargar SU semilla primigenia"
   ]
  },
  {
   "cell_type": "code",
   "execution_count": 20,
   "metadata": {
    "id": "2y3Ai8F6CJQ2"
   },
   "outputs": [],
   "source": [
    "PARAM <- list()\n",
    "PARAM$experimento <- 5430\n",
    "PARAM$semilla_primigenia <- 532981\n",
    "\n",
    "# un undersampling de 0.1  toma solo el 10% de los CONTINUA\n",
    "# undersampling de 1.0  implica tomar TODOS los datos\n",
    "PARAM$trainingstrategy$undersampling <- 1.0\n",
    "\n",
    "PARAM$hyperparametertuning$iteraciones <- 100\n",
    "PARAM$hyperparametertuning$xval_folds <- 5\n",
    "PARAM$hyperparametertuning$POS_ganancia <- 117000\n",
    "PARAM$hyperparametertuning$NEG_ganancia <- -3000\n",
    "\n",
    "# Aqui se cargan los bordes de los hiperparametros\n",
    "PARAM$hs <- makeParamSet(\n",
    "  makeNumericParam(\"learning_rate\", lower = 0.01, upper = 0.05),\n",
    "  makeIntegerParam(\"num_leaves\", lower = 4L, upper = 32L),\n",
    "  makeNumericParam(\"feature_fraction\", lower = 0.6, upper = 1.0),\n",
    "  makeNumericParam(\"bagging_fraction\", lower = 0.6, upper = 1.0),\n",
    "  makeIntegerParam(\"bagging_freq\", lower = 1L, upper = 10L),\n",
    "  makeIntegerParam(\"min_data_in_leaf\", lower = 50L, upper = 150L),\n",
    "  makeNumericParam(\"lambda_l1\", lower = 0.0, upper = 1.0),\n",
    "  makeNumericParam(\"lambda_l2\", lower = 0.0, upper = 1.0),\n",
    "  makeIntegerParam(\"max_bin\", lower = 15L, upper = 64L),\n",
    "  makeIntegerParam(\"envios\", lower = 8000L, upper = 13000L)\n",
    ")\n",
    "\n",
    "\n"
   ]
  },
  {
   "cell_type": "code",
   "execution_count": 21,
   "metadata": {
    "id": "P8YNRVVbCvQT"
   },
   "outputs": [],
   "source": [
    "# graba a un archivo los componentes de lista\n",
    "# para el primer registro, escribe antes los titulos\n",
    "\n",
    "loguear <- function(\n",
    "    reg, arch = NA, folder = \"./work/\",\n",
    "    ext = \".txt\", verbose = TRUE) {\n",
    "\n",
    "  archivo <- arch\n",
    "  if (is.na(arch)) archivo <- paste0(folder, substitute(reg), ext)\n",
    "\n",
    "  if (!file.exists(archivo)) # Escribo los titulos\n",
    "    {\n",
    "      linea <- paste0(\n",
    "        \"fecha\\t\",\n",
    "        paste(list.names(reg), collapse = \"\\t\"), \"\\n\"\n",
    "      )\n",
    "\n",
    "      cat(linea, file = archivo)\n",
    "    }\n",
    "\n",
    "  linea <- paste0(\n",
    "    format(Sys.time(), \"%Y%m%d %H%M%S\"), \"\\t\", # la fecha y hora\n",
    "    gsub(\", \", \"\\t\", toString(reg)), \"\\n\"\n",
    "  )\n",
    "\n",
    "  cat(linea, file = archivo, append = TRUE) # grabo al archivo\n",
    "\n",
    "  if (verbose) cat(linea) # imprimo por pantalla\n",
    "}\n"
   ]
  },
  {
   "cell_type": "code",
   "execution_count": 22,
   "metadata": {
    "id": "NnPKiCHuCwVo"
   },
   "outputs": [],
   "source": [
    "# esta funcion calcula internamente la ganancia de la prediccion probs\n",
    "# es llamada por lightgbm luego de construir cada  arbolito\n",
    "\n",
    "fganancia_logistic_lightgbm <- function(probs, datos) {\n",
    "  vpesos <- get_field(datos, \"weight\")\n",
    "\n",
    "  # vector de ganancias\n",
    "  vgan <- ifelse(vpesos == 1.0000002, PARAM$hyperparametertuning$POS_ganancia,\n",
    "    ifelse(vpesos == 1.0000001, PARAM$hyperparametertuning$NEG_ganancia,\n",
    "      PARAM$hyperparametertuning$NEG_ganancia /\n",
    "        PARAM$trainingstrategy$undersampling\n",
    "    )\n",
    "  )\n",
    "\n",
    "  tbl <- as.data.table(list(\"vprobs\" = probs, \"vgan\" = vgan))\n",
    "  setorder(tbl, -vprobs)\n",
    "  ganancia <- tbl[1:GLOBAL_envios, sum(vgan)]\n",
    "\n",
    "  return(list(\n",
    "    \"name\" = \"ganancia\",\n",
    "    \"value\" = ganancia,\n",
    "    \"higher_better\" = TRUE\n",
    "  ))\n",
    "}\n"
   ]
  },
  {
   "cell_type": "code",
   "execution_count": 23,
   "metadata": {
    "id": "kZSD7pUUCy58"
   },
   "outputs": [],
   "source": [
    "# esta funcion solo puede recibir los parametros que se estan optimizando\n",
    "# el resto de los parametros se pasan como variables globales,\n",
    "# la semilla del mal ...\n",
    "\n",
    "\n",
    "EstimarGanancia_lightgbm <- function(x) {\n",
    "  gc() # libero memoria\n",
    "\n",
    "  # llevo el registro de la iteracion por la que voy\n",
    "  GLOBAL_iteracion <<- GLOBAL_iteracion + 1\n",
    "\n",
    "  # para usar en fganancia_logistic_lightgbm\n",
    "  # asigno la variable global\n",
    "  GLOBAL_envios <<- as.integer(x$envios / PARAM$hyperparametertuning$xval_folds)\n",
    "\n",
    "  # cantidad de folds para cross validation\n",
    "  kfolds <- PARAM$hyperparametertuning$xval_folds\n",
    "\n",
    "  param_basicos <- list(\n",
    "    objective= \"binary\",\n",
    "    metric= \"custom\",\n",
    "    first_metric_only= TRUE,\n",
    "    boost_from_average= TRUE,\n",
    "    feature_pre_filter= FALSE,\n",
    "    verbosity= -100,\n",
    "    max_bin= 31, # por ahora, lo dejo fijo\n",
    "    num_iterations= 9999, # valor grande, lo limita early_stopping_rounds\n",
    "    force_row_wise= TRUE, # para evitar warning\n",
    "    seed= ksemilla_azar1\n",
    "  )\n",
    "\n",
    "  # el parametro discolo, que depende de otro\n",
    "  param_variable <- list(\n",
    "    early_stopping_rounds =\n",
    "      as.integer(50 + 5 / x$learning_rate)\n",
    "  )\n",
    "\n",
    "  param_completo <- c(param_basicos, param_variable, x)\n",
    "\n",
    "  set.seed(ksemilla_azar1)\n",
    "  modelocv <- lgb.cv(\n",
    "    data= dtrain,\n",
    "    eval= fganancia_logistic_lightgbm,\n",
    "    stratified= TRUE, # sobre el cross validation\n",
    "    nfold= kfolds, # folds del cross validation\n",
    "    param= param_completo,\n",
    "    verbose= -100\n",
    "  )\n",
    "\n",
    "  # obtengo la ganancia\n",
    "  ganancia <- unlist(modelocv$record_evals$valid$ganancia$eval)[modelocv$best_iter]\n",
    "\n",
    "  ganancia_normalizada <- ganancia * kfolds # normailizo la ganancia\n",
    "\n",
    "  # asigno el mejor num_iterations\n",
    "  param_completo$num_iterations <- modelocv$best_iter\n",
    "  # elimino de la lista el componente\n",
    "  param_completo[\"early_stopping_rounds\"] <- NULL\n",
    "\n",
    "\n",
    "  # el lenguaje R permite asignarle ATRIBUTOS a cualquier variable\n",
    "  # esta es la forma de devolver un parametro extra\n",
    "  attr(ganancia_normalizada, \"extras\") <-\n",
    "    list(\"num_iterations\" = modelocv$best_iter)\n",
    "\n",
    "  # logueo\n",
    "  xx <- param_completo\n",
    "  xx$ganancia <- ganancia_normalizada # le agrego la ganancia\n",
    "  xx$iteracion <- GLOBAL_iteracion\n",
    "  loguear(xx, arch = klog)\n",
    "\n",
    "  # Voy registrando la importancia de variables\n",
    "  if (ganancia_normalizada > GLOBAL_gananciamax) {\n",
    "    GLOBAL_gananciamax <<- ganancia_normalizada\n",
    "    modelo <- lgb.train(\n",
    "      data = dtrain,\n",
    "      param = param_completo,\n",
    "      verbose = -100\n",
    "    )\n",
    "\n",
    "    tb_importancia <- as.data.table(lgb.importance(modelo))\n",
    "    archivo_importancia <- paste0(\"impo_\", GLOBAL_iteracion, \".txt\")\n",
    "    fwrite(tb_importancia,\n",
    "      file = archivo_importancia,\n",
    "      sep = \"\\t\" )\n",
    "\n",
    "    loguear(xx, arch = klog_mejor)\n",
    "  }\n",
    "\n",
    "  return(ganancia_normalizada)\n",
    "}\n"
   ]
  },
  {
   "cell_type": "markdown",
   "metadata": {
    "id": "P7Pw1KLeE3UH"
   },
   "source": [
    "aqui se inicia el programa"
   ]
  },
  {
   "cell_type": "code",
   "execution_count": 24,
   "metadata": {
    "id": "w1lb19whCJQ3"
   },
   "outputs": [],
   "source": [
    "# carpeta de trabajo\n",
    "setwd(\"/content/buckets/b1/exp\")\n",
    "experimento_folder <- paste0(\"HT\", PARAM$experimento)\n",
    "dir.create(experimento_folder, showWarnings=FALSE)\n",
    "setwd( paste0(\"/content/buckets/b1/exp/\", experimento_folder ))"
   ]
  },
  {
   "cell_type": "code",
   "execution_count": 25,
   "metadata": {
    "id": "fbLF3Vr0DAeJ"
   },
   "outputs": [],
   "source": [
    "# genero numeros primos\n",
    "primos <- generate_primes(min = 100000, max = 1000000)\n",
    "set.seed(PARAM$semilla_primigenia) # inicializo\n",
    "# me quedo con PARAM$qsemillas   semillas\n",
    "PARAM$semillas <- sample(primos, 2 )\n",
    "ksemilla_azar1 <- PARAM$semillas[1]\n",
    "ksemilla_azar2 <- PARAM$semillas[2]\n"
   ]
  },
  {
   "cell_type": "code",
   "execution_count": 26,
   "metadata": {
    "id": "QvOokHUvuolF"
   },
   "outputs": [],
   "source": [
    "# en estos archivos quedan los resultados\n",
    "\n",
    "kbayesiana <- paste0(PARAM$experimento, \".RDATA\")\n",
    "klog <- paste0(PARAM$experimento, \".txt\")\n",
    "klog_mejor <- paste0(PARAM$experimento, \"_mejor.txt\")\n",
    "\n",
    "GLOBAL_iteracion <- 0 # inicializo la variable global\n",
    "GLOBAL_gananciamax <- -1 # inicializo la variable global\n",
    "\n",
    "# si ya existe el archivo log, traigo hasta donde llegue\n",
    "if (file.exists(klog)) {\n",
    "  tabla_log <- fread(klog)\n",
    "  GLOBAL_iteracion <- nrow(tabla_log)\n",
    "  GLOBAL_gananciamax <- tabla_log[, max(ganancia)]\n",
    "}\n"
   ]
  },
  {
   "cell_type": "code",
   "execution_count": 27,
   "metadata": {
    "id": "xcOJpoFvCJQ3"
   },
   "outputs": [],
   "source": [
    "# lectura del dataset\n",
    "dataset <- fread(\"/content/datasets/dataset_pequeno.csv\")"
   ]
  },
  {
   "cell_type": "code",
   "execution_count": 28,
   "metadata": {
    "id": "JorOk_A8EhSy"
   },
   "outputs": [],
   "source": [
    "dataset <- dataset[foto_mes %in% c(202107)]"
   ]
  },
  {
   "cell_type": "code",
   "execution_count": 29,
   "metadata": {
    "id": "JDg9xZVYrwvj"
   },
   "outputs": [],
   "source": [
    "# paso la clase a binaria que tome valores {0,1}  enteros\n",
    "dataset[\n",
    "  foto_mes %in% c(202107),\n",
    "  clase01 := ifelse(clase_ternaria == \"CONTINUA\", 0L, 1L)\n",
    "]"
   ]
  },
  {
   "cell_type": "code",
   "execution_count": 30,
   "metadata": {
    "id": "E68xpDYAr0nK"
   },
   "outputs": [],
   "source": [
    "# los campos que se van a utilizar\n",
    "campos_buenos <- setdiff(\n",
    "  colnames(dataset),\n",
    "  c(\"clase_ternaria\", \"clase01\", \"azar\", \"training\")\n",
    ")\n"
   ]
  },
  {
   "cell_type": "code",
   "execution_count": 31,
   "metadata": {
    "id": "G8zeYUfSr3GF"
   },
   "outputs": [],
   "source": [
    "# defino los datos que forma parte del training\n",
    "# aqui se hace el undersampling de los CONTINUA\n",
    "# notar que para esto utilizo la SEGUNDA semilla\n",
    "\n",
    "set.seed(ksemilla_azar2)\n",
    "dataset[, azar := runif(nrow(dataset))]\n",
    "dataset[, training := 0L]\n",
    "dataset[\n",
    "  foto_mes %in% c(202107) &\n",
    "    (azar <= PARAM$trainingstrategy$undersampling | clase_ternaria %in% c(\"BAJA+1\", \"BAJA+2\")),\n",
    "  training := 1L\n",
    "]"
   ]
  },
  {
   "cell_type": "code",
   "execution_count": 32,
   "metadata": {
    "id": "se8_aKuMr5CV"
   },
   "outputs": [],
   "source": [
    "# dejo los datos en el formato que necesita LightGBM\n",
    "dtrain <- lgb.Dataset(\n",
    "  data = data.matrix(dataset[training == 1L, campos_buenos, with = FALSE]),\n",
    "  label = dataset[training == 1L, clase01],\n",
    "  weight = dataset[training == 1L, ifelse(clase_ternaria == \"BAJA+2\", 1.0000002, ifelse(clase_ternaria == \"BAJA+1\", 1.0000001, 1.0))],\n",
    "  free_raw_data = FALSE\n",
    ")\n"
   ]
  },
  {
   "cell_type": "code",
   "execution_count": 33,
   "metadata": {
    "id": "CsRYGGeN-1ID"
   },
   "outputs": [],
   "source": [
    "# Aqui comienza la configuracion de la Bayesian Optimization\n",
    "funcion_optimizar <- EstimarGanancia_lightgbm # la funcion que voy a maximizar\n",
    "\n",
    "configureMlr(show.learner.output = FALSE)\n",
    "\n",
    "# configuro la busqueda bayesiana,  los hiperparametros que se van a optimizar\n",
    "# por favor, no desesperarse por lo complejo\n",
    "obj.fun <- makeSingleObjectiveFunction(\n",
    "  fn = funcion_optimizar, # la funcion que voy a maximizar\n",
    "  minimize = FALSE, # estoy Maximizando la ganancia\n",
    "  noisy = TRUE,\n",
    "  par.set = PARAM$hs, # definido al comienzo del programa\n",
    "  has.simple.signature = FALSE # paso los parametros en una lista\n",
    ")\n",
    "\n",
    "# cada 600 segundos guardo el resultado intermedio\n",
    "ctrl <- makeMBOControl(\n",
    "  save.on.disk.at.time = 600, # se graba cada 600 segundos\n",
    "  save.file.path = kbayesiana\n",
    ") # se graba cada 600 segundos\n",
    "\n",
    "# indico la cantidad de iteraciones que va a tener la Bayesian Optimization\n",
    "ctrl <- setMBOControlTermination(\n",
    "  ctrl,\n",
    "  iters = PARAM$hyperparametertuning$iteraciones\n",
    ") # cantidad de iteraciones\n",
    "\n",
    "# defino el método estandar para la creacion de los puntos iniciales,\n",
    "# los \"No Inteligentes\"\n",
    "ctrl <- setMBOControlInfill(ctrl, crit = makeMBOInfillCritEI())\n",
    "\n",
    "# establezco la funcion que busca el maximo\n",
    "surr.km <- makeLearner(\n",
    "  \"regr.km\",\n",
    "  predict.type = \"se\",\n",
    "  covtype = \"matern3_2\",\n",
    "  control = list(trace = TRUE)\n",
    ")\n"
   ]
  },
  {
   "cell_type": "code",
   "execution_count": 34,
   "metadata": {
    "id": "TissqCCHD1uZ"
   },
   "outputs": [
    {
     "name": "stdout",
     "output_type": "stream",
     "text": [
      "20250604 213445\tbinary\tcustom\tTRUE\tTRUE\tFALSE\t-100\t31\t764\tTRUE\t974849\t0.020467091150037\t12\t0.911601501569353\t146\t26\t12227\t59565000\t63\n"
     ]
    },
    {
     "name": "stderr",
     "output_type": "stream",
     "text": [
      "[mbo] 33: learning_rate=0.0205; num_leaves=12; feature_fraction=0.912; min_data_in_leaf=146; max_bin=26; envios=12227 : y = 5.96e+07 : 84.1 secs : infill_ei\n",
      "\n",
      "Saved the current state after iteration 34 in the file 5430.RDATA.\n",
      "\n"
     ]
    },
    {
     "name": "stdout",
     "output_type": "stream",
     "text": [
      "20250604 213557\tbinary\tcustom\tTRUE\tTRUE\tFALSE\t-100\t31\t497\tTRUE\t974849\t0.0204942848933191\t23\t0.962774241777956\t113\t51\t12448\t61185000\t64\n"
     ]
    },
    {
     "name": "stderr",
     "output_type": "stream",
     "text": [
      "[mbo] 34: learning_rate=0.0205; num_leaves=23; feature_fraction=0.963; min_data_in_leaf=113; max_bin=51; envios=12448 : y = 6.12e+07 : 64.9 secs : infill_ei\n",
      "\n"
     ]
    },
    {
     "name": "stdout",
     "output_type": "stream",
     "text": [
      "20250604 213631\tbinary\tcustom\tTRUE\tTRUE\tFALSE\t-100\t31\t233\tTRUE\t974849\t0.0421366810318537\t23\t0.963457562322754\t150\t26\t12036\t61095000\t65\n"
     ]
    },
    {
     "name": "stderr",
     "output_type": "stream",
     "text": [
      "[mbo] 35: learning_rate=0.0421; num_leaves=23; feature_fraction=0.963; min_data_in_leaf=150; max_bin=26; envios=12036 : y = 6.11e+07 : 33.1 secs : infill_ei\n",
      "\n"
     ]
    },
    {
     "name": "stdout",
     "output_type": "stream",
     "text": [
      "20250604 213734\tbinary\tcustom\tTRUE\tTRUE\tFALSE\t-100\t31\t518\tTRUE\t974849\t0.0250031761998137\t24\t0.837350474686194\t96\t56\t12823\t60540000\t66\n"
     ]
    },
    {
     "name": "stderr",
     "output_type": "stream",
     "text": [
      "[mbo] 36: learning_rate=0.025; num_leaves=24; feature_fraction=0.837; min_data_in_leaf=96; max_bin=56; envios=12823 : y = 6.05e+07 : 62.8 secs : infill_ei\n",
      "\n"
     ]
    },
    {
     "name": "stdout",
     "output_type": "stream",
     "text": [
      "20250604 213825\tbinary\tcustom\tTRUE\tTRUE\tFALSE\t-100\t31\t377\tTRUE\t974849\t0.0272860906448385\t23\t0.832671674146758\t131\t27\t12320\t60960000\t67\n"
     ]
    },
    {
     "name": "stderr",
     "output_type": "stream",
     "text": [
      "[mbo] 37: learning_rate=0.0273; num_leaves=23; feature_fraction=0.833; min_data_in_leaf=131; max_bin=27; envios=12320 : y = 6.1e+07 : 51.3 secs : infill_ei\n",
      "\n"
     ]
    },
    {
     "name": "stdout",
     "output_type": "stream",
     "text": [
      "20250604 213900\tbinary\tcustom\tTRUE\tTRUE\tFALSE\t-100\t31\t238\tTRUE\t974849\t0.0486221638895679\t25\t0.829033363742835\t146\t28\t11246\t60825000\t68\n"
     ]
    },
    {
     "name": "stderr",
     "output_type": "stream",
     "text": [
      "[mbo] 38: learning_rate=0.0486; num_leaves=25; feature_fraction=0.829; min_data_in_leaf=146; max_bin=28; envios=11246 : y = 6.08e+07 : 32.7 secs : infill_ei\n",
      "\n"
     ]
    },
    {
     "name": "stdout",
     "output_type": "stream",
     "text": [
      "20250604 213936\tbinary\tcustom\tTRUE\tTRUE\tFALSE\t-100\t31\t195\tTRUE\t974849\t0.0300367152364546\t23\t0.918893471047793\t149\t25\t11287\t60225000\t69\n"
     ]
    },
    {
     "name": "stderr",
     "output_type": "stream",
     "text": [
      "[mbo] 39: learning_rate=0.03; num_leaves=23; feature_fraction=0.919; min_data_in_leaf=149; max_bin=25; envios=11287 : y = 6.02e+07 : 35.4 secs : infill_ei\n",
      "\n"
     ]
    },
    {
     "name": "stdout",
     "output_type": "stream",
     "text": [
      "20250604 214031\tbinary\tcustom\tTRUE\tTRUE\tFALSE\t-100\t31\t423\tTRUE\t974849\t0.0246599865914026\t23\t0.933397234252762\t135\t57\t11940\t61020000\t70\n"
     ]
    },
    {
     "name": "stderr",
     "output_type": "stream",
     "text": [
      "[mbo] 40: learning_rate=0.0247; num_leaves=23; feature_fraction=0.933; min_data_in_leaf=135; max_bin=57; envios=11940 : y = 6.1e+07 : 54.7 secs : infill_ei\n",
      "\n"
     ]
    },
    {
     "name": "stdout",
     "output_type": "stream",
     "text": [
      "20250604 214126\tbinary\tcustom\tTRUE\tTRUE\tFALSE\t-100\t31\t427\tTRUE\t974849\t0.0260339256223006\t22\t0.94811066925663\t150\t56\t12531\t61290000\t71\n"
     ]
    },
    {
     "name": "stderr",
     "output_type": "stream",
     "text": [
      "[mbo] 41: learning_rate=0.026; num_leaves=22; feature_fraction=0.948; min_data_in_leaf=150; max_bin=56; envios=12531 : y = 6.13e+07 : 54.0 secs : infill_ei\n",
      "\n"
     ]
    },
    {
     "name": "stdout",
     "output_type": "stream",
     "text": [
      "20250604 214230\tbinary\tcustom\tTRUE\tTRUE\tFALSE\t-100\t31\t512\tTRUE\t974849\t0.0204953135747986\t22\t0.897266187077129\t150\t26\t10631\t60510000\t72\n"
     ]
    },
    {
     "name": "stderr",
     "output_type": "stream",
     "text": [
      "[mbo] 42: learning_rate=0.0205; num_leaves=22; feature_fraction=0.897; min_data_in_leaf=150; max_bin=26; envios=10631 : y = 6.05e+07 : 64.1 secs : infill_ei\n",
      "\n"
     ]
    },
    {
     "name": "stdout",
     "output_type": "stream",
     "text": [
      "20250604 214330\tbinary\tcustom\tTRUE\tTRUE\tFALSE\t-100\t31\t465\tTRUE\t974849\t0.0229008624363656\t22\t0.891025119085527\t139\t45\t12080\t61200000\t73\n"
     ]
    },
    {
     "name": "stderr",
     "output_type": "stream",
     "text": [
      "[mbo] 43: learning_rate=0.0229; num_leaves=22; feature_fraction=0.891; min_data_in_leaf=139; max_bin=45; envios=12080 : y = 6.12e+07 : 59.6 secs : infill_ei\n",
      "\n"
     ]
    },
    {
     "name": "stdout",
     "output_type": "stream",
     "text": [
      "20250604 214440\tbinary\tcustom\tTRUE\tTRUE\tFALSE\t-100\t31\t558\tTRUE\t974849\t0.020291597459691\t24\t0.883078094420536\t148\t32\t12349\t60285000\t74\n"
     ]
    },
    {
     "name": "stderr",
     "output_type": "stream",
     "text": [
      "[mbo] 44: learning_rate=0.0203; num_leaves=24; feature_fraction=0.883; min_data_in_leaf=148; max_bin=32; envios=12349 : y = 6.03e+07 : 69.8 secs : infill_ei\n",
      "\n"
     ]
    },
    {
     "name": "stdout",
     "output_type": "stream",
     "text": [
      "20250604 214509\tbinary\tcustom\tTRUE\tTRUE\tFALSE\t-100\t31\t154\tTRUE\t974849\t0.0373129176559951\t20\t0.924196264522709\t56\t59\t8808\t60105000\t75\n"
     ]
    },
    {
     "name": "stderr",
     "output_type": "stream",
     "text": [
      "[mbo] 45: learning_rate=0.0373; num_leaves=20; feature_fraction=0.924; min_data_in_leaf=56; max_bin=59; envios=8808 : y = 6.01e+07 : 28.3 secs : infill_ei\n",
      "\n",
      "Saved the current state after iteration 46 in the file 5430.RDATA.\n",
      "\n"
     ]
    },
    {
     "name": "stdout",
     "output_type": "stream",
     "text": [
      "20250604 214713\tbinary\tcustom\tTRUE\tTRUE\tFALSE\t-100\t31\t1116\tTRUE\t974849\t0.0183157221597154\t12\t0.615509266374353\t98\t58\t10985\t60525000\t76\n"
     ]
    },
    {
     "name": "stderr",
     "output_type": "stream",
     "text": [
      "[mbo] 46: learning_rate=0.0183; num_leaves=12; feature_fraction=0.616; min_data_in_leaf=98; max_bin=58; envios=10985 : y = 6.05e+07 : 116.9 secs : infill_ei\n",
      "\n"
     ]
    },
    {
     "name": "stdout",
     "output_type": "stream",
     "text": [
      "20250604 214841\tbinary\tcustom\tTRUE\tTRUE\tFALSE\t-100\t31\t871\tTRUE\t974849\t0.0314747626024205\t29\t0.775495536436047\t84\t35\t12577\t60915000\t77\n"
     ]
    },
    {
     "name": "stderr",
     "output_type": "stream",
     "text": [
      "[mbo] 47: learning_rate=0.0315; num_leaves=29; feature_fraction=0.775; min_data_in_leaf=84; max_bin=35; envios=12577 : y = 6.09e+07 : 87.4 secs : infill_ei\n",
      "\n"
     ]
    },
    {
     "name": "stdout",
     "output_type": "stream",
     "text": [
      "20250604 214929\tbinary\tcustom\tTRUE\tTRUE\tFALSE\t-100\t31\t553\tTRUE\t974849\t0.0353125584520213\t5\t0.685800990844052\t80\t16\t12590\t57870000\t78\n"
     ]
    },
    {
     "name": "stderr",
     "output_type": "stream",
     "text": [
      "[mbo] 48: learning_rate=0.0353; num_leaves=5; feature_fraction=0.686; min_data_in_leaf=80; max_bin=16; envios=12590 : y = 5.79e+07 : 47.0 secs : infill_ei\n",
      "\n"
     ]
    },
    {
     "name": "stdout",
     "output_type": "stream",
     "text": [
      "20250604 215028\tbinary\tcustom\tTRUE\tTRUE\tFALSE\t-100\t31\t500\tTRUE\t974849\t0.0204015716973149\t13\t0.888210706431279\t149\t29\t9405\t59865000\t79\n"
     ]
    },
    {
     "name": "stderr",
     "output_type": "stream",
     "text": [
      "[mbo] 49: learning_rate=0.0204; num_leaves=13; feature_fraction=0.888; min_data_in_leaf=149; max_bin=29; envios=9405 : y = 5.99e+07 : 59.6 secs : infill_ei\n",
      "\n"
     ]
    },
    {
     "name": "stdout",
     "output_type": "stream",
     "text": [
      "20250604 215206\tbinary\tcustom\tTRUE\tTRUE\tFALSE\t-100\t31\t988\tTRUE\t974849\t0.0266854716944299\t22\t0.843682573220598\t150\t32\t11572\t61650000\t80\n"
     ]
    },
    {
     "name": "stderr",
     "output_type": "stream",
     "text": [
      "[mbo] 50: learning_rate=0.0267; num_leaves=22; feature_fraction=0.844; min_data_in_leaf=150; max_bin=32; envios=11572 : y = 6.16e+07 : 96.5 secs : infill_ei\n",
      "\n"
     ]
    },
    {
     "name": "stdout",
     "output_type": "stream",
     "text": [
      "20250604 215243\tbinary\tcustom\tTRUE\tTRUE\tFALSE\t-100\t31\t289\tTRUE\t974849\t0.0471992677425688\t23\t0.933953301395459\t148\t38\t11274\t60750000\t81\n"
     ]
    },
    {
     "name": "stderr",
     "output_type": "stream",
     "text": [
      "[mbo] 51: learning_rate=0.0472; num_leaves=23; feature_fraction=0.934; min_data_in_leaf=148; max_bin=38; envios=11274 : y = 6.08e+07 : 37.0 secs : infill_ei\n",
      "\n"
     ]
    },
    {
     "name": "stdout",
     "output_type": "stream",
     "text": [
      "20250604 215339\tbinary\tcustom\tTRUE\tTRUE\tFALSE\t-100\t31\t522\tTRUE\t974849\t0.0442003939691541\t23\t0.902542304342529\t150\t26\t11544\t61620000\t82\n"
     ]
    },
    {
     "name": "stderr",
     "output_type": "stream",
     "text": [
      "[mbo] 52: learning_rate=0.0442; num_leaves=23; feature_fraction=0.903; min_data_in_leaf=150; max_bin=26; envios=11544 : y = 6.16e+07 : 55.3 secs : infill_ei\n",
      "\n"
     ]
    },
    {
     "name": "stdout",
     "output_type": "stream",
     "text": [
      "20250604 215450\tbinary\tcustom\tTRUE\tTRUE\tFALSE\t-100\t31\t631\tTRUE\t974849\t0.0240536951499974\t21\t0.929506929810598\t150\t49\t11753\t61110000\t83\n"
     ]
    },
    {
     "name": "stderr",
     "output_type": "stream",
     "text": [
      "[mbo] 53: learning_rate=0.0241; num_leaves=21; feature_fraction=0.93; min_data_in_leaf=150; max_bin=49; envios=11753 : y = 6.11e+07 : 69.7 secs : infill_ei\n",
      "\n"
     ]
    },
    {
     "name": "stdout",
     "output_type": "stream",
     "text": [
      "20250604 215521\tbinary\tcustom\tTRUE\tTRUE\tFALSE\t-100\t31\t210\tTRUE\t974849\t0.0492849533662209\t31\t0.871057712874952\t97\t28\t10370\t61530000\t84\n"
     ]
    },
    {
     "name": "stderr",
     "output_type": "stream",
     "text": [
      "[mbo] 54: learning_rate=0.0493; num_leaves=31; feature_fraction=0.871; min_data_in_leaf=97; max_bin=28; envios=10370 : y = 6.15e+07 : 31.2 secs : infill_ei\n",
      "\n",
      "Saved the current state after iteration 55 in the file 5430.RDATA.\n",
      "\n"
     ]
    },
    {
     "name": "stdout",
     "output_type": "stream",
     "text": [
      "20250604 215553\tbinary\tcustom\tTRUE\tTRUE\tFALSE\t-100\t31\t137\tTRUE\t974849\t0.0496143762108676\t32\t0.872967382373108\t81\t26\t10284\t61440000\t85\n"
     ]
    },
    {
     "name": "stderr",
     "output_type": "stream",
     "text": [
      "[mbo] 55: learning_rate=0.0496; num_leaves=32; feature_fraction=0.873; min_data_in_leaf=81; max_bin=26; envios=10284 : y = 6.14e+07 : 25.4 secs : infill_ei\n",
      "\n"
     ]
    },
    {
     "name": "stdout",
     "output_type": "stream",
     "text": [
      "20250604 215617\tbinary\tcustom\tTRUE\tTRUE\tFALSE\t-100\t31\t119\tTRUE\t974849\t0.0470689623683956\t31\t0.868063630531571\t79\t34\t11177\t61395000\t86\n"
     ]
    },
    {
     "name": "stderr",
     "output_type": "stream",
     "text": [
      "[mbo] 56: learning_rate=0.0471; num_leaves=31; feature_fraction=0.868; min_data_in_leaf=79; max_bin=34; envios=11177 : y = 6.14e+07 : 23.2 secs : infill_ei\n",
      "\n"
     ]
    },
    {
     "name": "stdout",
     "output_type": "stream",
     "text": [
      "20250604 215655\tbinary\tcustom\tTRUE\tTRUE\tFALSE\t-100\t31\t283\tTRUE\t974849\t0.0486580139049645\t31\t0.889540817251005\t81\t35\t9619\t59955000\t87\n"
     ]
    },
    {
     "name": "stderr",
     "output_type": "stream",
     "text": [
      "[mbo] 57: learning_rate=0.0487; num_leaves=31; feature_fraction=0.89; min_data_in_leaf=81; max_bin=35; envios=9619 : y = 6e+07 : 37.5 secs : infill_ei\n",
      "\n"
     ]
    },
    {
     "name": "stdout",
     "output_type": "stream",
     "text": [
      "20250604 215719\tbinary\tcustom\tTRUE\tTRUE\tFALSE\t-100\t31\t111\tTRUE\t974849\t0.0491809001633548\t32\t0.854878617475822\t93\t25\t10952\t60750000\t88\n"
     ]
    },
    {
     "name": "stderr",
     "output_type": "stream",
     "text": [
      "[mbo] 58: learning_rate=0.0492; num_leaves=32; feature_fraction=0.855; min_data_in_leaf=93; max_bin=25; envios=10952 : y = 6.08e+07 : 23.3 secs : infill_ei\n",
      "\n"
     ]
    },
    {
     "name": "stdout",
     "output_type": "stream",
     "text": [
      "20250604 215745\tbinary\tcustom\tTRUE\tTRUE\tFALSE\t-100\t31\t143\tTRUE\t974849\t0.0498660631876715\t31\t0.864800537395338\t61\t17\t10492\t60930000\t89\n"
     ]
    },
    {
     "name": "stderr",
     "output_type": "stream",
     "text": [
      "[mbo] 59: learning_rate=0.0499; num_leaves=31; feature_fraction=0.865; min_data_in_leaf=61; max_bin=17; envios=10492 : y = 6.09e+07 : 24.6 secs : infill_ei\n",
      "\n"
     ]
    },
    {
     "name": "stdout",
     "output_type": "stream",
     "text": [
      "20250604 215817\tbinary\tcustom\tTRUE\tTRUE\tFALSE\t-100\t31\t235\tTRUE\t974849\t0.0430504046492212\t23\t0.850290341927148\t150\t17\t11413\t61170000\t90\n"
     ]
    },
    {
     "name": "stderr",
     "output_type": "stream",
     "text": [
      "[mbo] 60: learning_rate=0.0431; num_leaves=23; feature_fraction=0.85; min_data_in_leaf=150; max_bin=17; envios=11413 : y = 6.12e+07 : 31.7 secs : infill_ei\n",
      "\n"
     ]
    },
    {
     "name": "stdout",
     "output_type": "stream",
     "text": [
      "20250604 215858\tbinary\tcustom\tTRUE\tTRUE\tFALSE\t-100\t31\t282\tTRUE\t974849\t0.0295445437166986\t23\t0.830707447134441\t150\t17\t11287\t60465000\t91\n"
     ]
    },
    {
     "name": "stderr",
     "output_type": "stream",
     "text": [
      "[mbo] 61: learning_rate=0.0295; num_leaves=23; feature_fraction=0.831; min_data_in_leaf=150; max_bin=17; envios=11287 : y = 6.05e+07 : 40.5 secs : infill_ei\n",
      "\n"
     ]
    },
    {
     "name": "stdout",
     "output_type": "stream",
     "text": [
      "20250604 215954\tbinary\tcustom\tTRUE\tTRUE\tFALSE\t-100\t31\t454\tTRUE\t974849\t0.0253904313519186\t23\t0.848453093742298\t150\t29\t10924\t60840000\t92\n"
     ]
    },
    {
     "name": "stderr",
     "output_type": "stream",
     "text": [
      "[mbo] 62: learning_rate=0.0254; num_leaves=23; feature_fraction=0.848; min_data_in_leaf=150; max_bin=29; envios=10924 : y = 6.08e+07 : 55.2 secs : infill_ei\n",
      "\n"
     ]
    },
    {
     "name": "stdout",
     "output_type": "stream",
     "text": [
      "20250604 220049\tbinary\tcustom\tTRUE\tTRUE\tFALSE\t-100\t31\t414\tTRUE\t974849\t0.0237412694731081\t24\t0.930201351395831\t150\t40\t12529\t60345000\t93\n"
     ]
    },
    {
     "name": "stderr",
     "output_type": "stream",
     "text": [
      "[mbo] 63: learning_rate=0.0237; num_leaves=24; feature_fraction=0.93; min_data_in_leaf=150; max_bin=40; envios=12529 : y = 6.03e+07 : 53.8 secs : infill_ei\n",
      "\n"
     ]
    },
    {
     "name": "stdout",
     "output_type": "stream",
     "text": [
      "20250604 220125\tbinary\tcustom\tTRUE\tTRUE\tFALSE\t-100\t31\t353\tTRUE\t974849\t0.0436409854379948\t13\t0.693118592095934\t81\t16\t10454\t60690000\t94\n"
     ]
    },
    {
     "name": "stderr",
     "output_type": "stream",
     "text": [
      "[mbo] 64: learning_rate=0.0436; num_leaves=13; feature_fraction=0.693; min_data_in_leaf=81; max_bin=16; envios=10454 : y = 6.07e+07 : 35.8 secs : infill_ei\n",
      "\n"
     ]
    },
    {
     "name": "stdout",
     "output_type": "stream",
     "text": [
      "20250604 220206\tbinary\tcustom\tTRUE\tTRUE\tFALSE\t-100\t31\t280\tTRUE\t974849\t0.0304310504575074\t28\t0.929584797168896\t64\t22\t10435\t61095000\t95\n"
     ]
    },
    {
     "name": "stderr",
     "output_type": "stream",
     "text": [
      "[mbo] 65: learning_rate=0.0304; num_leaves=28; feature_fraction=0.93; min_data_in_leaf=64; max_bin=22; envios=10435 : y = 6.11e+07 : 40.7 secs : infill_ei\n",
      "\n"
     ]
    },
    {
     "name": "stdout",
     "output_type": "stream",
     "text": [
      "20250604 220244\tbinary\tcustom\tTRUE\tTRUE\tFALSE\t-100\t31\t376\tTRUE\t974849\t0.0338719987754896\t7\t0.969366054862644\t72\t26\t10542\t58860000\t96\n"
     ]
    },
    {
     "name": "stderr",
     "output_type": "stream",
     "text": [
      "[mbo] 66: learning_rate=0.0339; num_leaves=7; feature_fraction=0.969; min_data_in_leaf=72; max_bin=26; envios=10542 : y = 5.89e+07 : 37.6 secs : infill_ei\n",
      "\n"
     ]
    },
    {
     "name": "stdout",
     "output_type": "stream",
     "text": [
      "20250604 220359\tbinary\tcustom\tTRUE\tTRUE\tFALSE\t-100\t31\t879\tTRUE\t974849\t0.0386300044189766\t15\t0.91506130708782\t85\t57\t12392\t60510000\t97\n"
     ]
    },
    {
     "name": "stderr",
     "output_type": "stream",
     "text": [
      "[mbo] 67: learning_rate=0.0386; num_leaves=15; feature_fraction=0.915; min_data_in_leaf=85; max_bin=57; envios=12392 : y = 6.05e+07 : 74.7 secs : infill_ei\n",
      "\n"
     ]
    },
    {
     "name": "stdout",
     "output_type": "stream",
     "text": [
      "20250604 220450\tbinary\tcustom\tTRUE\tTRUE\tFALSE\t-100\t31\t443\tTRUE\t974849\t0.0261286526648793\t15\t0.978979204770271\t130\t60\t11156\t60495000\t98\n"
     ]
    },
    {
     "name": "stderr",
     "output_type": "stream",
     "text": [
      "[mbo] 68: learning_rate=0.0261; num_leaves=15; feature_fraction=0.979; min_data_in_leaf=130; max_bin=60; envios=11156 : y = 6.05e+07 : 50.8 secs : infill_ei\n",
      "\n"
     ]
    },
    {
     "name": "stdout",
     "output_type": "stream",
     "text": [
      "20250604 220527\tbinary\tcustom\tTRUE\tTRUE\tFALSE\t-100\t31\t257\tTRUE\t974849\t0.0422416491713841\t25\t0.636463012741879\t116\t18\t11392\t60150000\t99\n"
     ]
    },
    {
     "name": "stderr",
     "output_type": "stream",
     "text": [
      "[mbo] 69: learning_rate=0.0422; num_leaves=25; feature_fraction=0.636; min_data_in_leaf=116; max_bin=18; envios=11392 : y = 6.02e+07 : 35.9 secs : infill_ei\n",
      "\n",
      "Saved the current state after iteration 70 in the file 5430.RDATA.\n",
      "\n"
     ]
    },
    {
     "name": "stdout",
     "output_type": "stream",
     "text": [
      "20250604 220611\tbinary\tcustom\tTRUE\tTRUE\tFALSE\t-100\t31\t217\tTRUE\t974849\t0.0295266696361546\t23\t0.663117752945237\t132\t35\t10212\t59250000\t100\n"
     ]
    },
    {
     "name": "stderr",
     "output_type": "stream",
     "text": [
      "[mbo] 70: learning_rate=0.0295; num_leaves=23; feature_fraction=0.663; min_data_in_leaf=132; max_bin=35; envios=10212 : y = 5.92e+07 : 37.5 secs : infill_ei\n",
      "\n"
     ]
    },
    {
     "name": "stdout",
     "output_type": "stream",
     "text": [
      "20250604 220658\tbinary\tcustom\tTRUE\tTRUE\tFALSE\t-100\t31\t455\tTRUE\t974849\t0.0410232944598515\t13\t0.633974299580231\t58\t49\t10511\t60030000\t101\n"
     ]
    },
    {
     "name": "stderr",
     "output_type": "stream",
     "text": [
      "[mbo] 71: learning_rate=0.041; num_leaves=13; feature_fraction=0.634; min_data_in_leaf=58; max_bin=49; envios=10511 : y = 6e+07 : 45.9 secs : infill_ei\n",
      "\n"
     ]
    },
    {
     "name": "stdout",
     "output_type": "stream",
     "text": [
      "20250604 220750\tbinary\tcustom\tTRUE\tTRUE\tFALSE\t-100\t31\t579\tTRUE\t974849\t0.0302737944695447\t6\t0.987293119523674\t52\t40\t10534\t59010000\t102\n"
     ]
    },
    {
     "name": "stderr",
     "output_type": "stream",
     "text": [
      "[mbo] 72: learning_rate=0.0303; num_leaves=6; feature_fraction=0.987; min_data_in_leaf=52; max_bin=40; envios=10534 : y = 5.9e+07 : 52.2 secs : infill_ei\n",
      "\n"
     ]
    },
    {
     "name": "stdout",
     "output_type": "stream",
     "text": [
      "20250604 220847\tbinary\tcustom\tTRUE\tTRUE\tFALSE\t-100\t31\t297\tTRUE\t974849\t0.015244120453652\t26\t0.951117951168306\t106\t64\t9642\t6e+07\t103\n"
     ]
    },
    {
     "name": "stderr",
     "output_type": "stream",
     "text": [
      "[mbo] 73: learning_rate=0.0152; num_leaves=26; feature_fraction=0.951; min_data_in_leaf=106; max_bin=64; envios=9642 : y = 6e+07 : 55.6 secs : infill_ei\n",
      "\n"
     ]
    },
    {
     "name": "stdout",
     "output_type": "stream",
     "text": [
      "20250604 220928\tbinary\tcustom\tTRUE\tTRUE\tFALSE\t-100\t31\t383\tTRUE\t974849\t0.0323090531622153\t13\t0.841810094061773\t96\t53\t12786\t59445000\t104\n"
     ]
    },
    {
     "name": "stderr",
     "output_type": "stream",
     "text": [
      "[mbo] 74: learning_rate=0.0323; num_leaves=13; feature_fraction=0.842; min_data_in_leaf=96; max_bin=53; envios=12786 : y = 5.94e+07 : 40.9 secs : infill_ei\n",
      "\n"
     ]
    },
    {
     "name": "stdout",
     "output_type": "stream",
     "text": [
      "20250604 221020\tbinary\tcustom\tTRUE\tTRUE\tFALSE\t-100\t31\t400\tTRUE\t974849\t0.0289605126398243\t28\t0.793446761495248\t89\t59\t9387\t59925000\t105\n"
     ]
    },
    {
     "name": "stderr",
     "output_type": "stream",
     "text": [
      "[mbo] 75: learning_rate=0.029; num_leaves=28; feature_fraction=0.793; min_data_in_leaf=89; max_bin=59; envios=9387 : y = 5.99e+07 : 51.0 secs : infill_ei\n",
      "\n"
     ]
    },
    {
     "name": "stdout",
     "output_type": "stream",
     "text": [
      "20250604 221110\tbinary\tcustom\tTRUE\tTRUE\tFALSE\t-100\t31\t401\tTRUE\t974849\t0.0358608021190949\t30\t0.76091126141306\t113\t36\t10790\t60870000\t106\n"
     ]
    },
    {
     "name": "stderr",
     "output_type": "stream",
     "text": [
      "[mbo] 76: learning_rate=0.0359; num_leaves=30; feature_fraction=0.761; min_data_in_leaf=113; max_bin=36; envios=10790 : y = 6.09e+07 : 49.7 secs : infill_ei\n",
      "\n"
     ]
    },
    {
     "name": "stdout",
     "output_type": "stream",
     "text": [
      "20250604 221212\tbinary\tcustom\tTRUE\tTRUE\tFALSE\t-100\t31\t427\tTRUE\t974849\t0.0180332487757783\t24\t0.811535617290996\t120\t49\t9464\t59940000\t107\n"
     ]
    },
    {
     "name": "stderr",
     "output_type": "stream",
     "text": [
      "[mbo] 77: learning_rate=0.018; num_leaves=24; feature_fraction=0.812; min_data_in_leaf=120; max_bin=49; envios=9464 : y = 5.99e+07 : 61.8 secs : infill_ei\n",
      "\n"
     ]
    },
    {
     "name": "stdout",
     "output_type": "stream",
     "text": [
      "20250604 221301\tbinary\tcustom\tTRUE\tTRUE\tFALSE\t-100\t31\t325\tTRUE\t974849\t0.0282085055472236\t27\t0.630188666191511\t141\t41\t9189\t60405000\t108\n"
     ]
    },
    {
     "name": "stderr",
     "output_type": "stream",
     "text": [
      "[mbo] 78: learning_rate=0.0282; num_leaves=27; feature_fraction=0.63; min_data_in_leaf=141; max_bin=41; envios=9189 : y = 6.04e+07 : 48.2 secs : infill_ei\n",
      "\n"
     ]
    },
    {
     "name": "stdout",
     "output_type": "stream",
     "text": [
      "20250604 221425\tbinary\tcustom\tTRUE\tTRUE\tFALSE\t-100\t31\t984\tTRUE\t974849\t0.0288292843937222\t5\t0.629579478384647\t138\t61\t11330\t59130000\t109\n"
     ]
    },
    {
     "name": "stderr",
     "output_type": "stream",
     "text": [
      "[mbo] 79: learning_rate=0.0288; num_leaves=5; feature_fraction=0.63; min_data_in_leaf=138; max_bin=61; envios=11330 : y = 5.91e+07 : 83.2 secs : infill_ei\n",
      "\n"
     ]
    },
    {
     "name": "stdout",
     "output_type": "stream",
     "text": [
      "20250604 221458\tbinary\tcustom\tTRUE\tTRUE\tFALSE\t-100\t31\t162\tTRUE\t974849\t0.0313536762770836\t23\t0.845924738955301\t148\t18\t12241\t60480000\t110\n"
     ]
    },
    {
     "name": "stderr",
     "output_type": "stream",
     "text": [
      "[mbo] 80: learning_rate=0.0314; num_leaves=23; feature_fraction=0.846; min_data_in_leaf=148; max_bin=18; envios=12241 : y = 6.05e+07 : 32.9 secs : infill_ei\n",
      "\n"
     ]
    },
    {
     "name": "stdout",
     "output_type": "stream",
     "text": [
      "20250604 221530\tbinary\tcustom\tTRUE\tTRUE\tFALSE\t-100\t31\t134\tTRUE\t974849\t0.0278566443563811\t27\t0.96851997670494\t86\t37\t8960\t6e+07\t111\n"
     ]
    },
    {
     "name": "stderr",
     "output_type": "stream",
     "text": [
      "[mbo] 81: learning_rate=0.0279; num_leaves=27; feature_fraction=0.969; min_data_in_leaf=86; max_bin=37; envios=8960 : y = 6e+07 : 31.4 secs : infill_ei\n",
      "\n"
     ]
    },
    {
     "name": "stdout",
     "output_type": "stream",
     "text": [
      "20250604 221702\tbinary\tcustom\tTRUE\tTRUE\tFALSE\t-100\t31\t663\tTRUE\t974849\t0.0125684214458987\t25\t0.829204698358197\t79\t47\t10289\t60585000\t112\n"
     ]
    },
    {
     "name": "stderr",
     "output_type": "stream",
     "text": [
      "[mbo] 82: learning_rate=0.0126; num_leaves=25; feature_fraction=0.829; min_data_in_leaf=79; max_bin=47; envios=10289 : y = 6.06e+07 : 91.4 secs : infill_ei\n",
      "\n",
      "Saved the current state after iteration 83 in the file 5430.RDATA.\n",
      "\n"
     ]
    },
    {
     "name": "stdout",
     "output_type": "stream",
     "text": [
      "20250604 221808\tbinary\tcustom\tTRUE\tTRUE\tFALSE\t-100\t31\t724\tTRUE\t974849\t0.0394416457278561\t4\t0.646321756556537\t66\t62\t12482\t58080000\t113\n"
     ]
    },
    {
     "name": "stderr",
     "output_type": "stream",
     "text": [
      "[mbo] 83: learning_rate=0.0394; num_leaves=4; feature_fraction=0.646; min_data_in_leaf=66; max_bin=62; envios=12482 : y = 5.81e+07 : 59.1 secs : infill_ei\n",
      "\n"
     ]
    },
    {
     "name": "stdout",
     "output_type": "stream",
     "text": [
      "20250604 221935\tbinary\tcustom\tTRUE\tTRUE\tFALSE\t-100\t31\t807\tTRUE\t974849\t0.0205499279205715\t23\t0.890521839412253\t150\t25\t12166\t61545000\t114\n"
     ]
    },
    {
     "name": "stderr",
     "output_type": "stream",
     "text": [
      "[mbo] 84: learning_rate=0.0205; num_leaves=23; feature_fraction=0.891; min_data_in_leaf=150; max_bin=25; envios=12166 : y = 6.15e+07 : 85.8 secs : infill_ei\n",
      "\n"
     ]
    },
    {
     "name": "stdout",
     "output_type": "stream",
     "text": [
      "20250604 222035\tbinary\tcustom\tTRUE\tTRUE\tFALSE\t-100\t31\t509\tTRUE\t974849\t0.028937369214936\t23\t0.849685650331085\t139\t35\t11874\t61230000\t115\n"
     ]
    },
    {
     "name": "stderr",
     "output_type": "stream",
     "text": [
      "[mbo] 85: learning_rate=0.0289; num_leaves=23; feature_fraction=0.85; min_data_in_leaf=139; max_bin=35; envios=11874 : y = 6.12e+07 : 59.5 secs : infill_ei\n",
      "\n"
     ]
    },
    {
     "name": "stdout",
     "output_type": "stream",
     "text": [
      "20250604 222140\tbinary\tcustom\tTRUE\tTRUE\tFALSE\t-100\t31\t499\tTRUE\t974849\t0.0212260078697016\t23\t0.913776475128315\t144\t35\t11784\t61380000\t116\n"
     ]
    },
    {
     "name": "stderr",
     "output_type": "stream",
     "text": [
      "[mbo] 86: learning_rate=0.0212; num_leaves=23; feature_fraction=0.914; min_data_in_leaf=144; max_bin=35; envios=11784 : y = 6.14e+07 : 63.9 secs : infill_ei\n",
      "\n"
     ]
    },
    {
     "name": "stdout",
     "output_type": "stream",
     "text": [
      "20250604 222247\tbinary\tcustom\tTRUE\tTRUE\tFALSE\t-100\t31\t511\tTRUE\t974849\t0.0205686548248644\t23\t0.885666334008592\t149\t36\t11202\t61560000\t117\n"
     ]
    },
    {
     "name": "stderr",
     "output_type": "stream",
     "text": [
      "[mbo] 87: learning_rate=0.0206; num_leaves=23; feature_fraction=0.886; min_data_in_leaf=149; max_bin=36; envios=11202 : y = 6.16e+07 : 65.7 secs : infill_ei\n",
      "\n"
     ]
    },
    {
     "name": "stdout",
     "output_type": "stream",
     "text": [
      "20250604 222332\tbinary\tcustom\tTRUE\tTRUE\tFALSE\t-100\t31\t321\tTRUE\t974849\t0.0290907524211804\t22\t0.844362627251842\t129\t31\t10916\t60495000\t118\n"
     ]
    },
    {
     "name": "stderr",
     "output_type": "stream",
     "text": [
      "[mbo] 88: learning_rate=0.0291; num_leaves=22; feature_fraction=0.844; min_data_in_leaf=129; max_bin=31; envios=10916 : y = 6.05e+07 : 44.7 secs : infill_ei\n",
      "\n"
     ]
    },
    {
     "name": "stdout",
     "output_type": "stream",
     "text": [
      "20250604 222433\tbinary\tcustom\tTRUE\tTRUE\tFALSE\t-100\t31\t480\tTRUE\t974849\t0.0286249071543972\t24\t0.842389097049407\t150\t33\t11959\t61095000\t119\n"
     ]
    },
    {
     "name": "stderr",
     "output_type": "stream",
     "text": [
      "[mbo] 89: learning_rate=0.0286; num_leaves=24; feature_fraction=0.842; min_data_in_leaf=150; max_bin=33; envios=11959 : y = 6.11e+07 : 59.7 secs : infill_ei\n",
      "\n"
     ]
    },
    {
     "name": "stdout",
     "output_type": "stream",
     "text": [
      "20250604 222503\tbinary\tcustom\tTRUE\tTRUE\tFALSE\t-100\t31\t159\tTRUE\t974849\t0.046220002192697\t23\t0.90624519285803\t141\t26\t10341\t60660000\t120\n"
     ]
    },
    {
     "name": "stderr",
     "output_type": "stream",
     "text": [
      "[mbo] 90: learning_rate=0.0462; num_leaves=23; feature_fraction=0.906; min_data_in_leaf=141; max_bin=26; envios=10341 : y = 6.07e+07 : 29.0 secs : infill_ei\n",
      "\n"
     ]
    },
    {
     "name": "stdout",
     "output_type": "stream",
     "text": [
      "20250604 222534\tbinary\tcustom\tTRUE\tTRUE\tFALSE\t-100\t31\t186\tTRUE\t974849\t0.0495428017175584\t31\t0.863783623472054\t83\t52\t9916\t60975000\t121\n"
     ]
    },
    {
     "name": "stderr",
     "output_type": "stream",
     "text": [
      "[mbo] 91: learning_rate=0.0495; num_leaves=31; feature_fraction=0.864; min_data_in_leaf=83; max_bin=52; envios=9916 : y = 6.1e+07 : 29.6 secs : infill_ei\n",
      "\n"
     ]
    },
    {
     "name": "stdout",
     "output_type": "stream",
     "text": [
      "20250604 222605\tbinary\tcustom\tTRUE\tTRUE\tFALSE\t-100\t31\t172\tTRUE\t974849\t0.0458248480523691\t31\t0.855286611221742\t77\t30\t9278\t60615000\t122\n"
     ]
    },
    {
     "name": "stderr",
     "output_type": "stream",
     "text": [
      "[mbo] 92: learning_rate=0.0458; num_leaves=31; feature_fraction=0.855; min_data_in_leaf=77; max_bin=30; envios=9278 : y = 6.06e+07 : 30.6 secs : infill_ei\n",
      "\n"
     ]
    },
    {
     "name": "stdout",
     "output_type": "stream",
     "text": [
      "20250604 222642\tbinary\tcustom\tTRUE\tTRUE\tFALSE\t-100\t31\t179\tTRUE\t974849\t0.0257249647949071\t23\t0.930467178014688\t148\t54\t9121\t59280000\t123\n"
     ]
    },
    {
     "name": "stderr",
     "output_type": "stream",
     "text": [
      "[mbo] 93: learning_rate=0.0257; num_leaves=23; feature_fraction=0.93; min_data_in_leaf=148; max_bin=54; envios=9121 : y = 5.93e+07 : 36.7 secs : infill_ei\n",
      "\n"
     ]
    },
    {
     "name": "stdout",
     "output_type": "stream",
     "text": [
      "20250604 222816\tbinary\tcustom\tTRUE\tTRUE\tFALSE\t-100\t31\t958\tTRUE\t974849\t0.0260474961639972\t22\t0.925148279029022\t150\t56\t12170\t60930000\t124\n"
     ]
    },
    {
     "name": "stderr",
     "output_type": "stream",
     "text": [
      "[mbo] 94: learning_rate=0.026; num_leaves=22; feature_fraction=0.925; min_data_in_leaf=150; max_bin=56; envios=12170 : y = 6.09e+07 : 93.0 secs : infill_ei\n",
      "\n",
      "Saved the current state after iteration 95 in the file 5430.RDATA.\n",
      "\n"
     ]
    },
    {
     "name": "stdout",
     "output_type": "stream",
     "text": [
      "20250604 222937\tbinary\tcustom\tTRUE\tTRUE\tFALSE\t-100\t31\t647\tTRUE\t974849\t0.0221958943526947\t23\t0.890943677055166\t150\t45\t11592\t60870000\t125\n"
     ]
    },
    {
     "name": "stderr",
     "output_type": "stream",
     "text": [
      "[mbo] 95: learning_rate=0.0222; num_leaves=23; feature_fraction=0.891; min_data_in_leaf=150; max_bin=45; envios=11592 : y = 6.09e+07 : 72.8 secs : infill_ei\n",
      "\n"
     ]
    },
    {
     "name": "stdout",
     "output_type": "stream",
     "text": [
      "20250604 223100\tbinary\tcustom\tTRUE\tTRUE\tFALSE\t-100\t31\t831\tTRUE\t974849\t0.0232027495118696\t20\t0.880157519524265\t95\t19\t12949\t60645000\t126\n"
     ]
    },
    {
     "name": "stderr",
     "output_type": "stream",
     "text": [
      "[mbo] 96: learning_rate=0.0232; num_leaves=20; feature_fraction=0.88; min_data_in_leaf=95; max_bin=19; envios=12949 : y = 6.06e+07 : 82.3 secs : infill_ei\n",
      "\n"
     ]
    },
    {
     "name": "stdout",
     "output_type": "stream",
     "text": [
      "20250604 223217\tbinary\tcustom\tTRUE\tTRUE\tFALSE\t-100\t31\t655\tTRUE\t974849\t0.0167835812872369\t16\t0.826892509854026\t139\t27\t12695\t60195000\t127\n"
     ]
    },
    {
     "name": "stderr",
     "output_type": "stream",
     "text": [
      "[mbo] 97: learning_rate=0.0168; num_leaves=16; feature_fraction=0.827; min_data_in_leaf=139; max_bin=27; envios=12695 : y = 6.02e+07 : 77.0 secs : infill_ei\n",
      "\n"
     ]
    },
    {
     "name": "stdout",
     "output_type": "stream",
     "text": [
      "20250604 223327\tbinary\tcustom\tTRUE\tTRUE\tFALSE\t-100\t31\t661\tTRUE\t974849\t0.0166609396335296\t6\t0.634627946072817\t65\t63\t10318\t57975000\t128\n"
     ]
    },
    {
     "name": "stderr",
     "output_type": "stream",
     "text": [
      "[mbo] 98: learning_rate=0.0167; num_leaves=6; feature_fraction=0.635; min_data_in_leaf=65; max_bin=63; envios=10318 : y = 5.8e+07 : 69.5 secs : infill_ei\n",
      "\n"
     ]
    },
    {
     "name": "stdout",
     "output_type": "stream",
     "text": [
      "20250604 223405\tbinary\tcustom\tTRUE\tTRUE\tFALSE\t-100\t31\t251\tTRUE\t974849\t0.0365085974028986\t28\t0.795693533823918\t137\t20\t8567\t60345000\t129\n"
     ]
    },
    {
     "name": "stderr",
     "output_type": "stream",
     "text": [
      "[mbo] 99: learning_rate=0.0365; num_leaves=28; feature_fraction=0.796; min_data_in_leaf=137; max_bin=20; envios=8567 : y = 6.03e+07 : 37.2 secs : infill_ei\n",
      "\n"
     ]
    },
    {
     "name": "stdout",
     "output_type": "stream",
     "text": [
      "20250604 223456\tbinary\tcustom\tTRUE\tTRUE\tFALSE\t-100\t31\t391\tTRUE\t974849\t0.0308397483822703\t30\t0.94847354055671\t57\t58\t10864\t61140000\t130\n"
     ]
    },
    {
     "name": "stderr",
     "output_type": "stream",
     "text": [
      "[mbo] 100: learning_rate=0.0308; num_leaves=30; feature_fraction=0.948; min_data_in_leaf=57; max_bin=58; envios=10864 : y = 6.11e+07 : 49.7 secs : infill_ei\n",
      "\n",
      "Saved the final state in the file 5430.RDATA\n",
      "\n"
     ]
    }
   ],
   "source": [
    "# inicio la optimizacion bayesiana\n",
    "\n",
    "if (!file.exists(kbayesiana)) {\n",
    "  run <- mbo(obj.fun, learner = surr.km, control = ctrl)\n",
    "} else {\n",
    "  run <- mboContinue(kbayesiana) # retomo en caso que ya exista\n",
    "}"
   ]
  },
  {
   "cell_type": "markdown",
   "metadata": {
    "id": "0vu-1vf5LrVg"
   },
   "source": [
    "\n",
    "\n",
    "---\n",
    "\n"
   ]
  }
 ],
 "metadata": {
  "colab": {
   "provenance": []
  },
  "kernelspec": {
   "display_name": "R",
   "language": "R",
   "name": "ir"
  },
  "language_info": {
   "codemirror_mode": "r",
   "file_extension": ".r",
   "mimetype": "text/x-r-source",
   "name": "R",
   "pygments_lexer": "r",
   "version": "4.4.3"
  }
 },
 "nbformat": 4,
 "nbformat_minor": 4
}
